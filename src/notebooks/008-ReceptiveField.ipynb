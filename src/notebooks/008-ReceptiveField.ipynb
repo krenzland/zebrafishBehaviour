{
 "cells": [
  {
   "cell_type": "code",
   "execution_count": 1,
   "metadata": {
    "collapsed": true
   },
   "outputs": [],
   "source": [
    "%matplotlib inline\n",
    "import numpy as np\n",
    "import pandas as pd\n",
    "import sys\n",
    "import matplotlib.pyplot as plt\n",
    "sys.path.append('..')\n",
    "from util import add_angles, angle_between, angled_vector"
   ]
  },
  {
   "cell_type": "code",
   "execution_count": 2,
   "metadata": {
    "collapsed": true
   },
   "outputs": [],
   "source": [
    "def get_rotation_matrix(angle):\n",
    "    c = np.cos(angle)\n",
    "    s = np.sin(angle)\n",
    "    R = np.array([c, -s, s, c]).reshape(2,2)\n",
    "    return R"
   ]
  },
  {
   "cell_type": "code",
   "execution_count": 3,
   "metadata": {},
   "outputs": [
    {
     "data": {
      "text/plain": [
       "array([ -1.83697020e-16,  -1.00000000e+00])"
      ]
     },
     "execution_count": 3,
     "metadata": {},
     "output_type": "execute_result"
    }
   ],
   "source": [
    "R = get_rotation_matrix(np.deg2rad(270))\n",
    "R @ np.array([1,0])"
   ]
  },
  {
   "cell_type": "code",
   "execution_count": 4,
   "metadata": {},
   "outputs": [
    {
     "data": {
      "image/png": "[encoded data removed]",
      "text/plain": [
       "<matplotlib.figure.Figure at 0x7fb7d2095eb8>"
      ]
     },
     "metadata": {},
     "output_type": "display_data"
    }
   ],
   "source": [
    "def plot_grid(p1, p2, traj1, traj2):\n",
    "    fig, ax = plt.subplots()\n",
    "    ax.scatter(p1[0], p1[1], c='r')\n",
    "    ax.scatter(p2[0], p2[1], c='gray')\n",
    "\n",
    "    ax.plot([p1[0], p1[0] + traj1[0]], [p1[1], p1[1] + traj1[1]], c='r')\n",
    "    ax.plot([p2[0], p2[0] + traj2[0]], [p2[1], p2[1] + traj2[1]], c='gray')\n",
    "\n",
    "    ax.set_xbound(-10, 10)\n",
    "    ax.set_ybound(-10, 10)\n",
    "    \n",
    "\n",
    "pos1, pos2 = np.array([5,5]), np.array([5,7])\n",
    "ang1, ang2 = np.deg2rad([-23, 142])\n",
    "traj1, traj2 = angled_vector(ang1) * 3, angled_vector(ang2) * 3\n",
    "\n",
    "plot_grid(pos1, pos2, traj1, traj2)"
   ]
  },
  {
   "cell_type": "code",
   "execution_count": 5,
   "metadata": {},
   "outputs": [
    {
     "data": {
      "image/png": "[encoded data removed]",
      "text/plain": [
       "<matplotlib.figure.Figure at 0x7fb7d206fc88>"
      ]
     },
     "metadata": {},
     "output_type": "display_data"
    }
   ],
   "source": [
    "# RF\n",
    "# 1. Rotate coord system.\n",
    "R = get_rotation_matrix(-ang1)\n",
    "pos1_rot = R @ pos1.reshape(2,1)\n",
    "pos2_rot = R @ pos2.reshape(2,1)\n",
    "traj1_rot = R @ traj1\n",
    "traj2_rot = R @ traj2\n",
    "# 2. Set p1 at center (0,0) and adjust other\n",
    "pos2_rot -= pos1_rot\n",
    "pos1_rot = np.array([0.0, 0.0])\n",
    "ang1_rot = 0.0\n",
    "ang2_rot = ang2 - ang1\n",
    "# 3. Plot\n",
    "plot_grid(pos1_rot, pos2_rot, traj1_rot, traj2_rot)"
   ]
  },
  {
   "cell_type": "code",
   "execution_count": 6,
   "metadata": {
    "collapsed": true,
    "scrolled": false
   },
   "outputs": [],
   "source": [
    "df_kicks_tr = pd.read_csv('../../data/processed/kicks_guy_train.csv')"
   ]
  },
  {
   "cell_type": "code",
   "execution_count": 7,
   "metadata": {},
   "outputs": [],
   "source": [
    "from itertools import product\n",
    "# Consider only a small subsample of data here.\n",
    "df = df_kicks_tr.loc[df_kicks_tr['dt'] == 0, :]\n",
    "wall_dist_col = [f'wall_distance{i}_f{id}' for i, id in product(range(0,4), range(0,2))]\n",
    "min_wall_dist = df[wall_dist_col].min(axis=1)\n",
    "\n",
    "df = df.loc[min_wall_dist > 7,:]\n",
    "df = df[['heading_change', 'x_f0', 'y_f0', 'x_f1', 'y_f1', 'angle_f0', 'angle_f1']]"
   ]
  },
  {
   "cell_type": "code",
   "execution_count": 8,
   "metadata": {},
   "outputs": [
    {
     "data": {
      "text/html": [
       "<div>\n",
       "<style>\n",
       "    .dataframe thead tr:only-child th {\n",
       "        text-align: right;\n",
       "    }\n",
       "\n",
       "    .dataframe thead th {\n",
       "        text-align: left;\n",
       "    }\n",
       "\n",
       "    .dataframe tbody tr th {\n",
       "        vertical-align: top;\n",
       "    }\n",
       "</style>\n",
       "<table border=\"1\" class=\"dataframe\">\n",
       "  <thead>\n",
       "    <tr style=\"text-align: right;\">\n",
       "      <th></th>\n",
       "      <th>heading_change</th>\n",
       "      <th>x_f0</th>\n",
       "      <th>y_f0</th>\n",
       "      <th>x_f1</th>\n",
       "      <th>y_f1</th>\n",
       "      <th>angle_f0</th>\n",
       "      <th>angle_f1</th>\n",
       "    </tr>\n",
       "  </thead>\n",
       "  <tbody>\n",
       "    <tr>\n",
       "      <th>count</th>\n",
       "      <td>3285.000000</td>\n",
       "      <td>3285.000000</td>\n",
       "      <td>3285.000000</td>\n",
       "      <td>3285.000000</td>\n",
       "      <td>3285.000000</td>\n",
       "      <td>3285.000000</td>\n",
       "      <td>3285.000000</td>\n",
       "    </tr>\n",
       "    <tr>\n",
       "      <th>mean</th>\n",
       "      <td>-0.006504</td>\n",
       "      <td>14.835999</td>\n",
       "      <td>15.003341</td>\n",
       "      <td>14.847285</td>\n",
       "      <td>15.024099</td>\n",
       "      <td>0.258115</td>\n",
       "      <td>0.232886</td>\n",
       "    </tr>\n",
       "    <tr>\n",
       "      <th>std</th>\n",
       "      <td>0.621855</td>\n",
       "      <td>4.397897</td>\n",
       "      <td>4.253938</td>\n",
       "      <td>4.345620</td>\n",
       "      <td>4.245736</td>\n",
       "      <td>1.795103</td>\n",
       "      <td>1.797778</td>\n",
       "    </tr>\n",
       "    <tr>\n",
       "      <th>min</th>\n",
       "      <td>-2.893839</td>\n",
       "      <td>7.079950</td>\n",
       "      <td>7.404922</td>\n",
       "      <td>7.093593</td>\n",
       "      <td>7.420486</td>\n",
       "      <td>-3.139636</td>\n",
       "      <td>-3.141003</td>\n",
       "    </tr>\n",
       "    <tr>\n",
       "      <th>25%</th>\n",
       "      <td>-0.307478</td>\n",
       "      <td>11.097766</td>\n",
       "      <td>11.240831</td>\n",
       "      <td>11.206041</td>\n",
       "      <td>11.306380</td>\n",
       "      <td>-1.307826</td>\n",
       "      <td>-1.352690</td>\n",
       "    </tr>\n",
       "    <tr>\n",
       "      <th>50%</th>\n",
       "      <td>-0.016957</td>\n",
       "      <td>14.545566</td>\n",
       "      <td>15.025606</td>\n",
       "      <td>14.583979</td>\n",
       "      <td>15.009754</td>\n",
       "      <td>0.636821</td>\n",
       "      <td>0.593866</td>\n",
       "    </tr>\n",
       "    <tr>\n",
       "      <th>75%</th>\n",
       "      <td>0.309943</td>\n",
       "      <td>18.652061</td>\n",
       "      <td>18.595314</td>\n",
       "      <td>18.579060</td>\n",
       "      <td>18.542810</td>\n",
       "      <td>1.723791</td>\n",
       "      <td>1.708133</td>\n",
       "    </tr>\n",
       "    <tr>\n",
       "      <th>max</th>\n",
       "      <td>3.043295</td>\n",
       "      <td>22.925577</td>\n",
       "      <td>22.878628</td>\n",
       "      <td>22.919561</td>\n",
       "      <td>22.894960</td>\n",
       "      <td>3.137733</td>\n",
       "      <td>3.140597</td>\n",
       "    </tr>\n",
       "  </tbody>\n",
       "</table>\n",
       "</div>"
      ],
      "text/plain": [
       "       heading_change         x_f0         y_f0         x_f1         y_f1  \\\n",
       "count     3285.000000  3285.000000  3285.000000  3285.000000  3285.000000   \n",
       "mean        -0.006504    14.835999    15.003341    14.847285    15.024099   \n",
       "std          0.621855     4.397897     4.253938     4.345620     4.245736   \n",
       "min         -2.893839     7.079950     7.404922     7.093593     7.420486   \n",
       "25%         -0.307478    11.097766    11.240831    11.206041    11.306380   \n",
       "50%         -0.016957    14.545566    15.025606    14.583979    15.009754   \n",
       "75%          0.309943    18.652061    18.595314    18.579060    18.542810   \n",
       "max          3.043295    22.925577    22.878628    22.919561    22.894960   \n",
       "\n",
       "          angle_f0     angle_f1  \n",
       "count  3285.000000  3285.000000  \n",
       "mean      0.258115     0.232886  \n",
       "std       1.795103     1.797778  \n",
       "min      -3.139636    -3.141003  \n",
       "25%      -1.307826    -1.352690  \n",
       "50%       0.636821     0.593866  \n",
       "75%       1.723791     1.708133  \n",
       "max       3.137733     3.140597  "
      ]
     },
     "execution_count": 8,
     "metadata": {},
     "output_type": "execute_result"
    }
   ],
   "source": [
    "df.describe()"
   ]
  },
  {
   "cell_type": "code",
   "execution_count": 9,
   "metadata": {},
   "outputs": [
    {
     "data": {
      "text/html": [
       "<div>\n",
       "<style>\n",
       "    .dataframe thead tr:only-child th {\n",
       "        text-align: right;\n",
       "    }\n",
       "\n",
       "    .dataframe thead th {\n",
       "        text-align: left;\n",
       "    }\n",
       "\n",
       "    .dataframe tbody tr th {\n",
       "        vertical-align: top;\n",
       "    }\n",
       "</style>\n",
       "<table border=\"1\" class=\"dataframe\">\n",
       "  <thead>\n",
       "    <tr style=\"text-align: right;\">\n",
       "      <th></th>\n",
       "      <th>heading_change</th>\n",
       "      <th>x_f0</th>\n",
       "      <th>y_f0</th>\n",
       "      <th>x_f1</th>\n",
       "      <th>y_f1</th>\n",
       "      <th>angle_f0</th>\n",
       "      <th>angle_f1</th>\n",
       "    </tr>\n",
       "  </thead>\n",
       "  <tbody>\n",
       "    <tr>\n",
       "      <th>6</th>\n",
       "      <td>-0.030674</td>\n",
       "      <td>13.575349</td>\n",
       "      <td>21.004326</td>\n",
       "      <td>15.942150</td>\n",
       "      <td>19.501982</td>\n",
       "      <td>-2.321174</td>\n",
       "      <td>-2.676828</td>\n",
       "    </tr>\n",
       "    <tr>\n",
       "      <th>9</th>\n",
       "      <td>1.339604</td>\n",
       "      <td>12.241835</td>\n",
       "      <td>19.894104</td>\n",
       "      <td>15.410355</td>\n",
       "      <td>19.254524</td>\n",
       "      <td>-2.351849</td>\n",
       "      <td>-2.754446</td>\n",
       "    </tr>\n",
       "    <tr>\n",
       "      <th>12</th>\n",
       "      <td>-0.404984</td>\n",
       "      <td>13.242593</td>\n",
       "      <td>17.853865</td>\n",
       "      <td>15.396877</td>\n",
       "      <td>18.619726</td>\n",
       "      <td>-1.012245</td>\n",
       "      <td>-1.608275</td>\n",
       "    </tr>\n",
       "    <tr>\n",
       "      <th>15</th>\n",
       "      <td>-0.361000</td>\n",
       "      <td>13.424296</td>\n",
       "      <td>16.481699</td>\n",
       "      <td>15.373794</td>\n",
       "      <td>17.118202</td>\n",
       "      <td>-1.417229</td>\n",
       "      <td>-1.183269</td>\n",
       "    </tr>\n",
       "    <tr>\n",
       "      <th>18</th>\n",
       "      <td>0.837006</td>\n",
       "      <td>13.018435</td>\n",
       "      <td>15.021468</td>\n",
       "      <td>15.502907</td>\n",
       "      <td>15.195181</td>\n",
       "      <td>-1.778229</td>\n",
       "      <td>-1.496839</td>\n",
       "    </tr>\n",
       "  </tbody>\n",
       "</table>\n",
       "</div>"
      ],
      "text/plain": [
       "    heading_change       x_f0       y_f0       x_f1       y_f1  angle_f0  \\\n",
       "6        -0.030674  13.575349  21.004326  15.942150  19.501982 -2.321174   \n",
       "9         1.339604  12.241835  19.894104  15.410355  19.254524 -2.351849   \n",
       "12       -0.404984  13.242593  17.853865  15.396877  18.619726 -1.012245   \n",
       "15       -0.361000  13.424296  16.481699  15.373794  17.118202 -1.417229   \n",
       "18        0.837006  13.018435  15.021468  15.502907  15.195181 -1.778229   \n",
       "\n",
       "    angle_f1  \n",
       "6  -2.676828  \n",
       "9  -2.754446  \n",
       "12 -1.608275  \n",
       "15 -1.183269  \n",
       "18 -1.496839  "
      ]
     },
     "execution_count": 9,
     "metadata": {},
     "output_type": "execute_result"
    }
   ],
   "source": [
    "df.head()"
   ]
  },
  {
   "cell_type": "code",
   "execution_count": null,
   "metadata": {
    "collapsed": true
   },
   "outputs": [],
   "source": []
  },
  {
   "cell_type": "code",
   "execution_count": 10,
   "metadata": {
    "collapsed": true
   },
   "outputs": [],
   "source": [
    "# Compute relative coords/angles\n",
    "def transform_row(row):\n",
    "    rotation_angle = row['angle_f0']\n",
    "    rotation_matrix = get_rotation_matrix(-rotation_angle)\n",
    "    \n",
    "    pos_f0 = np.array([row['x_f0'], row['y_f0']])\n",
    "    pos_f1 = np.array([row['x_f1'], row['y_f1']])\n",
    "    \n",
    "    # Rotate both fish s.t. fish 0 has angle 0\n",
    "    pos_f0 = (rotation_matrix @ pos_f0.reshape(2,1))\n",
    "    pos_f1 = (rotation_matrix @ pos_f1.reshape(2,1))\n",
    "    \n",
    "    # Put fish zero at (0,0) in coord system\n",
    "    pos_f1 = (pos_f1 - pos_f0).reshape(2)\n",
    "    pos_f0 = np.array([0,0])\n",
    "\n",
    "    angle_f1 = row['angle_f1'] - rotation_angle\n",
    "    \n",
    "    row = pd.Series(data=[row['heading_change'], pos_f1[0], pos_f1[1], angle_f1],\n",
    "                    index=['heading_change', 'x_f1', 'y_f1', 'angle_f1'])\n",
    "    return row\n",
    "\n",
    "df = df.apply(transform_row, axis=1)"
   ]
  },
  {
   "cell_type": "code",
   "execution_count": null,
   "metadata": {
    "collapsed": true
   },
   "outputs": [],
   "source": []
  },
  {
   "cell_type": "code",
   "execution_count": 11,
   "metadata": {},
   "outputs": [
    {
     "data": {
      "text/plain": [
       "array([-7.97543544, -6.38034835, -4.78526127, -3.19017418, -1.59508709,\n",
       "        0.        ,  1.59508709,  3.19017418,  4.78526127,  6.38034835,\n",
       "        7.97543544])"
      ]
     },
     "execution_count": 11,
     "metadata": {},
     "output_type": "execute_result"
    }
   ],
   "source": [
    "def get_bins(df, num_bins=5):\n",
    "    # Build symmetric receptive field.\n",
    "    rf_size = max(df['x_f1'].abs().max(), df['y_f1'].abs().max())\n",
    "    \n",
    "    # RF has size rf_size x rf_size, each direction divided by num_bins\n",
    "    # Should be of form 2n-1 (symmetric in pos/neg. direction, centered at (0,0))\n",
    "    assert(((num_bins-1) % 2) == 0)\n",
    "    \n",
    "    b = np.linspace(rf_size, 0, num=num_bins//2, endpoint=False)\n",
    "    #b = np.array([rf_size/(i+1) for i in range(num_bins//2)])\n",
    "    bins = np.hstack((-b,[0], b[::-1]))\n",
    "    \n",
    "    return bins\n",
    "get_bins(df,11)"
   ]
  },
  {
   "cell_type": "code",
   "execution_count": 12,
   "metadata": {},
   "outputs": [
    {
     "data": {
      "text/html": [
       "<div>\n",
       "<style>\n",
       "    .dataframe thead tr:only-child th {\n",
       "        text-align: right;\n",
       "    }\n",
       "\n",
       "    .dataframe thead th {\n",
       "        text-align: left;\n",
       "    }\n",
       "\n",
       "    .dataframe tbody tr th {\n",
       "        vertical-align: top;\n",
       "    }\n",
       "</style>\n",
       "<table border=\"1\" class=\"dataframe\">\n",
       "  <thead>\n",
       "    <tr style=\"text-align: right;\">\n",
       "      <th></th>\n",
       "      <th>heading_change</th>\n",
       "      <th>x_f1</th>\n",
       "      <th>y_f1</th>\n",
       "      <th>angle_f1</th>\n",
       "      <th>bins</th>\n",
       "    </tr>\n",
       "  </thead>\n",
       "  <tbody>\n",
       "    <tr>\n",
       "      <th>6</th>\n",
       "      <td>-0.030674</td>\n",
       "      <td>-0.515097</td>\n",
       "      <td>2.755624</td>\n",
       "      <td>-0.355654</td>\n",
       "      <td>7</td>\n",
       "    </tr>\n",
       "    <tr>\n",
       "      <th>9</th>\n",
       "      <td>1.339604</td>\n",
       "      <td>-1.776512</td>\n",
       "      <td>2.700479</td>\n",
       "      <td>-0.402597</td>\n",
       "      <td>7</td>\n",
       "    </tr>\n",
       "    <tr>\n",
       "      <th>12</th>\n",
       "      <td>-0.404984</td>\n",
       "      <td>0.492213</td>\n",
       "      <td>2.232759</td>\n",
       "      <td>-0.596031</td>\n",
       "      <td>12</td>\n",
       "    </tr>\n",
       "    <tr>\n",
       "      <th>15</th>\n",
       "      <td>-0.361000</td>\n",
       "      <td>-0.330809</td>\n",
       "      <td>2.023917</td>\n",
       "      <td>0.233960</td>\n",
       "      <td>7</td>\n",
       "    </tr>\n",
       "    <tr>\n",
       "      <th>18</th>\n",
       "      <td>0.837006</td>\n",
       "      <td>-0.681662</td>\n",
       "      <td>2.395437</td>\n",
       "      <td>0.281390</td>\n",
       "      <td>7</td>\n",
       "    </tr>\n",
       "  </tbody>\n",
       "</table>\n",
       "</div>"
      ],
      "text/plain": [
       "    heading_change      x_f1      y_f1  angle_f1  bins\n",
       "6        -0.030674 -0.515097  2.755624 -0.355654     7\n",
       "9         1.339604 -1.776512  2.700479 -0.402597     7\n",
       "12       -0.404984  0.492213  2.232759 -0.596031    12\n",
       "15       -0.361000 -0.330809  2.023917  0.233960     7\n",
       "18        0.837006 -0.681662  2.395437  0.281390     7"
      ]
     },
     "execution_count": 12,
     "metadata": {},
     "output_type": "execute_result"
    }
   ],
   "source": [
    "bins = get_bins(df, 5)\n",
    "def get_bin(df, bins):\n",
    "    bin_x = np.digitize(df['x_f1'], bins=bins) - 1\n",
    "    bin_y = np.digitize(df['y_f1'], bins=bins) - 1\n",
    "    return (bin_x*len(bins)) + bin_y\n",
    "\n",
    "df['bins'] = pd.Series(get_bin(df, bins), index=df.index)\n",
    "df.head()"
   ]
  },
  {
   "cell_type": "code",
   "execution_count": 13,
   "metadata": {
    "collapsed": true,
    "scrolled": true
   },
   "outputs": [],
   "source": [
    "# Now we need to one-hot enccode our data.\n",
    "# We need one column per variable and bin\n",
    "\n",
    "# Indicator for position\n",
    "position_one_hot = pd.get_dummies(df['bins'])\n",
    "# Mean of angle for bin\n",
    "angle_one_hot = pd.get_dummies(df['bins']).values * df['angle_f1'][:, None]\n",
    "\n",
    "X_np = np.concatenate((position_one_hot, angle_one_hot), axis=1)\n",
    "#X = angle_one_hot\n",
    "y_np = df['heading_change'].values"
   ]
  },
  {
   "cell_type": "code",
   "execution_count": 14,
   "metadata": {},
   "outputs": [
    {
     "data": {
      "text/plain": [
       "(torch.FloatTensor, torch.FloatTensor)"
      ]
     },
     "execution_count": 14,
     "metadata": {},
     "output_type": "execute_result"
    }
   ],
   "source": [
    "import torch\n",
    "from torch.autograd import Variable\n",
    "from torch.utils import data\n",
    "from torch import nn\n",
    "from torch import optim\n",
    "\n",
    "X = torch.from_numpy(X_np).float()\n",
    "y = torch.from_numpy(y_np).float()\n",
    "train = data.TensorDataset(data_tensor=X, target_tensor=y)\n",
    "train_data = data.DataLoader(train, batch_size=512, pin_memory=True)\n",
    "type(X), type(y)"
   ]
  },
  {
   "cell_type": "code",
   "execution_count": 15,
   "metadata": {},
   "outputs": [],
   "source": [
    "class LinearRF(nn.Module):\n",
    "    def __init__(self, n_features):\n",
    "        super().__init__()\n",
    "        n_hidden=1\n",
    "        self.linear = nn.Linear(in_features=n_features, out_features=1, bias=True)     \n",
    "        \n",
    "        for m in self.modules():\n",
    "            if isinstance(m, nn.Linear):\n",
    "                m.weight.data.normal_(0.0, 0.02)\n",
    "                m.bias.data.fill_(0.0)\n",
    "\n",
    "        \n",
    "    def forward(self, x):\n",
    "        return self.linear(x)\n",
    "    \n",
    "class MlpRF(nn.Module):\n",
    "    def __init__(self, n_features):\n",
    "        super().__init__()\n",
    "        n_hidden=256\n",
    "        linear_out = nn.Linear(in_features=n_hidden, out_features=1, bias=True)  \n",
    "        self.layers = nn.Sequential(*[\n",
    "            nn.Linear(in_features=n_features, out_features=n_hidden),\n",
    "            nn.Dropout(p=0.1),\n",
    "            nn.ReLU(inplace=True),\n",
    "            nn.Linear(in_features=n_hidden, out_features=n_hidden),\n",
    "            nn.Dropout(p=0.1),\n",
    "            nn.ReLU(inplace=True),\n",
    "            nn.Linear(in_features=n_hidden, out_features=n_hidden),\n",
    "            nn.Dropout(p=0.1),\n",
    "            nn.ReLU(inplace=True),\n",
    "            linear_out])\n",
    "        \n",
    "        for m in self.modules():\n",
    "            if isinstance(m, nn.Linear):\n",
    "                m.weight.data.normal_(0.0, 0.02)\n",
    "                m.bias.data.fill_(0.0)\n",
    "\n",
    "        \n",
    "    def forward(self, x):\n",
    "        return self.layers(x)    \n",
    "    \n",
    "model = LinearRF(n_features=X.shape[1]).cuda()\n",
    "#model = MlpRF(n_features=X.shape[1]).cuda()\n",
    "#optimizer = optim.SGD(model.parameters(), weight_decay=10e-4, momentum=0.9, lr=1e-3)\n",
    "optimizer = optim.Adam(model.parameters(), weight_decay=0, lr=1e-3)"
   ]
  },
  {
   "cell_type": "code",
   "execution_count": 16,
   "metadata": {
    "scrolled": true
   },
   "outputs": [
    {
     "name": "stdout",
     "output_type": "stream",
     "text": [
      "0.3856860075185651\n",
      "0.3404868742828137\n",
      "0.3376050951999798\n",
      "0.3367527687386291\n",
      "0.3365610932650631\n",
      "0.3365363749557797\n",
      "0.33653491991295664\n",
      "0.3365349605566109\n",
      "0.3365350139739851\n",
      "0.336535061585123\n"
     ]
    }
   ],
   "source": [
    "num_epochs = 1000\n",
    "for epoch in range(num_epochs):\n",
    "    cur_loss = 0.0\n",
    "    for batch in train_data:\n",
    "        x_batch, y_batch = [Variable(b.float().cuda()) for b in batch]\n",
    "\n",
    "        optimizer.zero_grad()\n",
    "        \n",
    "        y_hat = model(x_batch).squeeze()\n",
    "        #print(y_batch.shape, y_hat.shape)\n",
    "        loss = torch.sum((y_hat - y_batch)**2)\n",
    "        loss.backward()\n",
    "        optimizer.step()\n",
    "        \n",
    "        cur_loss += loss.data[0]\n",
    "\n",
    "    if (epoch % 100) == 0:\n",
    "        print(cur_loss/len(X))"
   ]
  },
  {
   "cell_type": "code",
   "execution_count": 17,
   "metadata": {},
   "outputs": [
    {
     "data": {
      "text/plain": [
       "(33.246865174936168, 35.636145175997669)"
      ]
     },
     "execution_count": 17,
     "metadata": {},
     "output_type": "execute_result"
    }
   ],
   "source": [
    "y_hat = model(Variable(X.unsqueeze(1).cuda())).squeeze().cpu().data.numpy()\n",
    "np.linalg.norm(y_hat - df['heading_change']), np.linalg.norm(df['heading_change'].mean() - df['heading_change'])"
   ]
  },
  {
   "cell_type": "code",
   "execution_count": 18,
   "metadata": {
    "collapsed": true
   },
   "outputs": [],
   "source": [
    "err = (model(x_batch) - y_batch).cpu().data.numpy()"
   ]
  },
  {
   "cell_type": "code",
   "execution_count": 19,
   "metadata": {},
   "outputs": [
    {
     "data": {
      "text/plain": [
       "19.052078"
      ]
     },
     "execution_count": 19,
     "metadata": {},
     "output_type": "execute_result"
    }
   ],
   "source": [
    "np.abs(np.rad2deg(err)).mean()"
   ]
  },
  {
   "cell_type": "code",
   "execution_count": 20,
   "metadata": {},
   "outputs": [
    {
     "data": {
      "text/plain": [
       "array([ 4.51676893], dtype=float32)"
      ]
     },
     "execution_count": 20,
     "metadata": {},
     "output_type": "execute_result"
    }
   ],
   "source": [
    "np.abs(np.rad2deg(torch.mean(y_batch).cpu().data.numpy()))"
   ]
  },
  {
   "cell_type": "code",
   "execution_count": 21,
   "metadata": {},
   "outputs": [],
   "source": [
    "import sklearn.linear_model as lm\n",
    "linear = lm.ElasticNetCV(l1_ratio=0.95)\n",
    "linear = linear.fit(X_np,y)"
   ]
  },
  {
   "cell_type": "code",
   "execution_count": 22,
   "metadata": {},
   "outputs": [
    {
     "data": {
      "text/plain": [
       "(array([ 0.        , -0.        ,  0.        , -0.44910849, -0.24629289,\n",
       "         0.16763008,  0.2006495 ,  0.        , -0.03136365, -0.1433585 ,\n",
       "         0.10101831,  0.14559537,  0.        , -0.        ,  0.        ,\n",
       "        -0.        ,  0.        ,  0.25886968,  0.        ,  0.01151833,\n",
       "        -0.01808162,  0.        ,  0.        ,  0.        , -0.00191581,\n",
       "         0.        ,  0.        , -0.        , -0.        ,  0.        ]),\n",
       " 0.031076939910638809)"
      ]
     },
     "execution_count": 22,
     "metadata": {},
     "output_type": "execute_result"
    }
   ],
   "source": [
    "linear.coef_, linear.intercept_"
   ]
  },
  {
   "cell_type": "code",
   "execution_count": 23,
   "metadata": {},
   "outputs": [
    {
     "data": {
      "text/plain": [
       "0.1081426703171343"
      ]
     },
     "execution_count": 23,
     "metadata": {},
     "output_type": "execute_result"
    }
   ],
   "source": [
    "linear.score(X_np, y)"
   ]
  },
  {
   "cell_type": "code",
   "execution_count": null,
   "metadata": {},
   "outputs": [],
   "source": []
  },
  {
   "cell_type": "code",
   "execution_count": 24,
   "metadata": {},
   "outputs": [
    {
     "data": {
      "text/plain": [
       "(0.10814267101761221, 0.12959782933035013, 0.0)"
      ]
     },
     "execution_count": 24,
     "metadata": {},
     "output_type": "execute_result"
    }
   ],
   "source": [
    "from sklearn import metrics\n",
    "enet_r2 = metrics.r2_score(y_true=y_np, y_pred=linear.predict(X_np), )\n",
    "\n",
    "nn_yhat = model(Variable(X.cuda())).cpu().data.numpy()\n",
    "nn_r2 = metrics.r2_score(y_true=y_np, y_pred=nn_yhat)\n",
    "\n",
    "mean_yhat = np.ones_like(y_np) * y_np.mean()\n",
    "mean_r2 = metrics.r2_score(y_true=y_np, y_pred=mean_yhat)\n",
    "\n",
    "enet_r2, nn_r2, mean_r2"
   ]
  },
  {
   "cell_type": "code",
   "execution_count": 56,
   "metadata": {},
   "outputs": [
    {
     "data": {
      "text/plain": [
       "ElasticNetCV(alphas=None, copy_X=True, cv=None, eps=0.001, fit_intercept=True,\n",
       "       l1_ratio=0.95, max_iter=1000, n_alphas=100, n_jobs=1,\n",
       "       normalize=False, positive=False, precompute='auto',\n",
       "       random_state=None, selection='cyclic', tol=0.0001, verbose=0)"
      ]
     },
     "execution_count": 56,
     "metadata": {},
     "output_type": "execute_result"
    }
   ],
   "source": [
    "linear.fit(df.drop('heading_change', axis=1), y_np)"
   ]
  },
  {
   "cell_type": "code",
   "execution_count": 57,
   "metadata": {},
   "outputs": [
    {
     "data": {
      "text/plain": [
       "(array([ 0.01192062,  0.11572147,  0.00379588, -0.00934351]),\n",
       " 0.085493697210711303)"
      ]
     },
     "execution_count": 57,
     "metadata": {},
     "output_type": "execute_result"
    }
   ],
   "source": [
    "linear.coef_, linear.intercept_"
   ]
  },
  {
   "cell_type": "code",
   "execution_count": 58,
   "metadata": {},
   "outputs": [
    {
     "data": {
      "text/plain": [
       "0.14325640963509834"
      ]
     },
     "execution_count": 58,
     "metadata": {},
     "output_type": "execute_result"
    }
   ],
   "source": [
    "linear.score(df.drop('heading_change', axis=1), y_np)"
   ]
  },
  {
   "cell_type": "code",
   "execution_count": null,
   "metadata": {
    "collapsed": true
   },
   "outputs": [],
   "source": []
  }
 ],
 "metadata": {
  "kernelspec": {
   "display_name": "Python 3",
   "language": "python",
   "name": "python3"
  },
  "language_info": {
   "codemirror_mode": {
    "name": "ipython",
    "version": 3
   },
   "file_extension": ".py",
   "mimetype": "text/x-python",
   "name": "python",
   "nbconvert_exporter": "python",
   "pygments_lexer": "ipython3",
   "version": "3.6.1"
  }
 },
 "nbformat": 4,
 "nbformat_minor": 2
}
