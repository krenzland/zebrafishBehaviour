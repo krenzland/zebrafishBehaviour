{
 "cells": [
  {
   "cell_type": "code",
   "execution_count": 1,
   "metadata": {},
   "outputs": [],
   "source": [
    "%matplotlib inline\n",
    "import numpy as np\n",
    "import sys\n",
    "import matplotlib.pyplot as plt\n",
    "sys.path.append('..')\n",
    "from util import add_angles, angle_between, angled_vector"
   ]
  },
  {
   "cell_type": "code",
   "execution_count": 2,
   "metadata": {},
   "outputs": [],
   "source": [
    "def get_rotation_matrix(angle):\n",
    "    c = np.cos(angle)\n",
    "    s = np.sin(angle)\n",
    "    R = np.array([c, -s, s, c]).reshape(2,2)\n",
    "    return R"
   ]
  },
  {
   "cell_type": "code",
   "execution_count": 3,
   "metadata": {},
   "outputs": [
    {
     "data": {
      "text/plain": [
       "array([ -1.83697020e-16,  -1.00000000e+00])"
      ]
     },
     "execution_count": 3,
     "metadata": {},
     "output_type": "execute_result"
    }
   ],
   "source": [
    "R = get_rotation_matrix(np.deg2rad(270))\n",
    "R @ np.array([1,0])"
   ]
  },
  {
   "cell_type": "code",
   "execution_count": 4,
   "metadata": {},
   "outputs": [
    {
     "data": {
      "image/png": "[encoded data removed]",
      "text/plain": [
       "<matplotlib.figure.Figure at 0x7fe5fcdb2c88>"
      ]
     },
     "metadata": {},
     "output_type": "display_data"
    }
   ],
   "source": [
    "def plot_grid(p1, p2, traj1, traj2):\n",
    "    fig, ax = plt.subplots()\n",
    "    ax.scatter(p1[0], p1[1], c='r')\n",
    "    ax.scatter(p2[0], p2[1], c='gray')\n",
    "\n",
    "    ax.plot([p1[0], p1[0] + traj1[0]], [p1[1], p1[1] + traj1[1]], c='r')\n",
    "    ax.plot([p2[0], p2[0] + traj2[0]], [p2[1], p2[1] + traj2[1]], c='gray')\n",
    "\n",
    "    ax.set_xbound(-10, 10)\n",
    "    ax.set_ybound(-10, 10)\n",
    "    \n",
    "\n",
    "pos1, pos2 = np.array([5,5]), np.array([5,7])\n",
    "ang1, ang2 = np.deg2rad([-23, 142])\n",
    "traj1, traj2 = angled_vector(ang1) * 3, angled_vector(ang2) * 3\n",
    "\n",
    "plot_grid(pos1, pos2, traj1, traj2)"
   ]
  },
  {
   "cell_type": "code",
   "execution_count": 5,
   "metadata": {},
   "outputs": [
    {
     "data": {
      "image/png": "[encoded data removed]",
      "text/plain": [
       "<matplotlib.figure.Figure at 0x7fe5f4dc3518>"
      ]
     },
     "metadata": {},
     "output_type": "display_data"
    }
   ],
   "source": [
    "# RF\n",
    "# 1. Rotate coord system.\n",
    "R = get_rotation_matrix(-ang1)\n",
    "pos1_rot = R @ pos1.reshape(2,1)\n",
    "pos2_rot = R @ pos2.reshape(2,1)\n",
    "traj1_rot = R @ traj1\n",
    "traj2_rot = R @ traj2\n",
    "# 2. Set p1 at center (0,0) and adjust other\n",
    "pos2_rot -= pos1_rot\n",
    "pos1_rot = np.array([0.0, 0.0])\n",
    "ang1_rot = 0.0\n",
    "ang2_rot = ang2 - ang1\n",
    "# 3. Plot\n",
    "plot_grid(pos1_rot, pos2_rot, traj1_rot, traj2_rot)"
   ]
  },
  {
   "cell_type": "code",
   "execution_count": null,
   "metadata": {
    "scrolled": false
   },
   "outputs": [],
   "source": []
  },
  {
   "cell_type": "code",
   "execution_count": 6,
   "metadata": {},
   "outputs": [
    {
     "data": {
      "text/plain": [
       "array([-2.36403226,  1.84698443])"
      ]
     },
     "execution_count": 6,
     "metadata": {},
     "output_type": "execute_result"
    }
   ],
   "source": [
    "traj2"
   ]
  },
  {
   "cell_type": "code",
   "execution_count": 7,
   "metadata": {},
   "outputs": [
    {
     "data": {
      "text/plain": [
       "165.0"
      ]
     },
     "execution_count": 7,
     "metadata": {},
     "output_type": "execute_result"
    }
   ],
   "source": [
    "np.rad2deg(angle_between(np.array([1,0]), traj2_rot))"
   ]
  },
  {
   "cell_type": "code",
   "execution_count": 8,
   "metadata": {},
   "outputs": [
    {
     "data": {
      "text/plain": [
       "165.0"
      ]
     },
     "execution_count": 8,
     "metadata": {},
     "output_type": "execute_result"
    }
   ],
   "source": [
    "np.rad2deg(ang2_rot)"
   ]
  },
  {
   "cell_type": "code",
   "execution_count": null,
   "metadata": {
    "collapsed": true
   },
   "outputs": [],
   "source": []
  }
 ],
 "metadata": {
  "kernelspec": {
   "display_name": "Python 3",
   "language": "python",
   "name": "python3"
  },
  "language_info": {
   "codemirror_mode": {
    "name": "ipython",
    "version": 3
   },
   "file_extension": ".py",
   "mimetype": "text/x-python",
   "name": "python",
   "nbconvert_exporter": "python",
   "pygments_lexer": "ipython3",
   "version": "3.6.1"
  }
 },
 "nbformat": 4,
 "nbformat_minor": 2
}
