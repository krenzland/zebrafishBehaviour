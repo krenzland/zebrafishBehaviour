{
 "cells": [
  {
   "cell_type": "code",
   "execution_count": 1,
   "metadata": {
    "collapsed": true
   },
   "outputs": [],
   "source": [
    "%matplotlib inline\n",
    "import numpy as np\n",
    "import pandas as pd\n",
    "import sys\n",
    "import matplotlib.pyplot as plt\n",
    "sys.path.append('..')\n",
    "from util import add_angles, angle_between, angled_vector"
   ]
  },
  {
   "cell_type": "code",
   "execution_count": 2,
   "metadata": {
    "collapsed": true
   },
   "outputs": [],
   "source": [
    "def get_rotation_matrix(angle):\n",
    "    c = np.cos(angle)\n",
    "    s = np.sin(angle)\n",
    "    R = np.array([c, -s, s, c]).reshape(2,2)\n",
    "    return R"
   ]
  },
  {
   "cell_type": "code",
   "execution_count": 3,
   "metadata": {},
   "outputs": [
    {
     "data": {
      "text/plain": [
       "array([ -1.83697020e-16,  -1.00000000e+00])"
      ]
     },
     "execution_count": 3,
     "metadata": {},
     "output_type": "execute_result"
    }
   ],
   "source": [
    "R = get_rotation_matrix(np.deg2rad(270))\n",
    "R @ np.array([1,0])"
   ]
  },
  {
   "cell_type": "code",
   "execution_count": 4,
   "metadata": {},
   "outputs": [
    {
     "data": {
      "image/png": "[encoded data removed]",
      "text/plain": [
       "<matplotlib.figure.Figure at 0x7f303d2ef160>"
      ]
     },
     "metadata": {},
     "output_type": "display_data"
    }
   ],
   "source": [
    "def plot_grid(p1, p2, traj1, traj2):\n",
    "    fig, ax = plt.subplots()\n",
    "    ax.scatter(p1[0], p1[1], c='r')\n",
    "    ax.scatter(p2[0], p2[1], c='gray')\n",
    "\n",
    "    ax.plot([p1[0], p1[0] + traj1[0]], [p1[1], p1[1] + traj1[1]], c='r')\n",
    "    ax.plot([p2[0], p2[0] + traj2[0]], [p2[1], p2[1] + traj2[1]], c='gray')\n",
    "\n",
    "    ax.set_xbound(-10, 10)\n",
    "    ax.set_ybound(-10, 10)\n",
    "    \n",
    "\n",
    "pos1, pos2 = np.array([5,5]), np.array([5,7])\n",
    "ang1, ang2 = np.deg2rad([0, -90])\n",
    "traj1, traj2 = angled_vector(ang1) * 3, angled_vector(ang2) * 3\n",
    "\n",
    "plot_grid(pos1, pos2, traj1, traj2)"
   ]
  },
  {
   "cell_type": "code",
   "execution_count": 5,
   "metadata": {},
   "outputs": [
    {
     "data": {
      "text/plain": [
       "-90.0"
      ]
     },
     "execution_count": 5,
     "metadata": {},
     "output_type": "execute_result"
    },
    {
     "data": {
      "image/png": "[encoded data removed]",
      "text/plain": [
       "<matplotlib.figure.Figure at 0x7f303d2daef0>"
      ]
     },
     "metadata": {},
     "output_type": "display_data"
    }
   ],
   "source": [
    "# RF\n",
    "# 1. Rotate coord system.\n",
    "R = get_rotation_matrix(-ang1)\n",
    "pos1_rot = R @ pos1.reshape(2,1)\n",
    "pos2_rot = R @ pos2.reshape(2,1)\n",
    "traj1_rot = R @ traj1\n",
    "traj2_rot = R @ traj2\n",
    "# 2. Set p1 at center (0,0) and adjust other\n",
    "pos2_rot -= pos1_rot\n",
    "pos1_rot = np.array([0.0, 0.0])\n",
    "ang1_rot = 0.0\n",
    "ang2_rot = ang2 - ang1\n",
    "# 3. Plot\n",
    "plot_grid(pos1_rot, pos2_rot, traj1_rot, traj2_rot)\n",
    "\n",
    "np.rad2deg(ang2_rot)"
   ]
  },
  {
   "cell_type": "code",
   "execution_count": 6,
   "metadata": {
    "collapsed": true,
    "scrolled": false
   },
   "outputs": [],
   "source": [
    "df_kicks_tr = pd.read_csv('../../data/processed/kicks_guy_train.csv')"
   ]
  },
  {
   "cell_type": "code",
   "execution_count": 7,
   "metadata": {
    "collapsed": true
   },
   "outputs": [],
   "source": [
    "from itertools import product\n",
    "df = df_kicks_tr.copy()\n",
    "\n",
    "# Group columns by kick (dt=0,1,..)\n",
    "max_dt = df['dt'].max() + 1\n",
    "assert(len(df) % max_dt == 0)\n",
    "num_kicks = len(df)//max_dt\n",
    "groups = np.repeat(np.arange(0, num_kicks), max_dt)\n",
    "df['group'] = pd.Series(groups, index=df.index)\n",
    "\n",
    "# Consider only a small subsample of data here.\n",
    "# Drop all kicks where one timestep is too close to the wall\n",
    "wall_dist_col = [f'wall_distance{i}_f{id}' for i, id in product(range(0,4), range(0,2))]\n",
    "min_wall_dist = df[wall_dist_col].min(axis=1)\n",
    "\n",
    "# TODO: Maybe only drop when dt=0 is not close to wall.\n",
    "groups_to_drop = np.unique(df.loc[min_wall_dist < 7,'group'])\n",
    "to_drop = df['group'].isin(groups_to_drop)\n",
    "df =df.loc[~to_drop,:]\n",
    "df = df[['dt', 'heading_change', 'x_f0', 'y_f0', 'x_f1', 'y_f1', 'angle_f0', 'angle_f1']]\n",
    "\n",
    "# Add angle of fish zero at start of kick\n",
    "is_kick = df['dt'] == 0\n",
    "rotating_angle = np.repeat(df.loc[is_kick, 'angle_f0'].values, max_dt)\n",
    "df.loc[:,'rotation_angle'] = pd.Series(rotating_angle, index=df.index)"
   ]
  },
  {
   "cell_type": "code",
   "execution_count": 8,
   "metadata": {
    "collapsed": true
   },
   "outputs": [],
   "source": [
    "# Compute relative coords/angles\n",
    "def transform_row(row):\n",
    "    rotation_angle = row['rotation_angle']\n",
    "    rotation_matrix = get_rotation_matrix(-rotation_angle)\n",
    "    \n",
    "    pos_f0 = np.array([row['x_f0'], row['y_f0']])\n",
    "    pos_f1 = np.array([row['x_f1'], row['y_f1']])\n",
    "    \n",
    "    # Rotate both fish s.t. fish 0 has angle 0\n",
    "    pos_f0 = (rotation_matrix @ pos_f0.reshape(2,1))\n",
    "    pos_f1 = (rotation_matrix @ pos_f1.reshape(2,1))\n",
    "    \n",
    "    # Put fish zero at (0,0) in coord system\n",
    "    pos_f1 = (pos_f1 - pos_f0).reshape(2)\n",
    "    pos_f0 = np.array([0,0])\n",
    "\n",
    "    angle_f1 = row['angle_f1'] - rotation_angle\n",
    "    \n",
    "    row = pd.Series(data=[row['dt'], row['heading_change'], pos_f1[0], pos_f1[1], angle_f1],\n",
    "                    index=['dt', 'heading_change', 'x_f1', 'y_f1', 'angle_f1'])\n",
    "    return row\n",
    "\n",
    "df = df.apply(transform_row, axis=1)"
   ]
  },
  {
   "cell_type": "code",
   "execution_count": 9,
   "metadata": {},
   "outputs": [
    {
     "data": {
      "text/plain": [
       "array([-7.97543544, -6.38034835, -4.78526127, -3.19017418, -1.59508709,\n",
       "        0.        ,  1.59508709,  3.19017418,  4.78526127,  6.38034835,\n",
       "        7.97543544])"
      ]
     },
     "execution_count": 9,
     "metadata": {},
     "output_type": "execute_result"
    }
   ],
   "source": [
    "def get_bins(df, num_bins=5):\n",
    "    # Build symmetric receptive field.\n",
    "    rf_size = max(df['x_f1'].abs().max(), df['y_f1'].abs().max())\n",
    "    \n",
    "    # RF has size rf_size x rf_size, each direction divided by num_bins\n",
    "    # Should be of form 2n-1 (symmetric in pos/neg. direction, centered at (0,0))\n",
    "    assert(((num_bins-1) % 2) == 0)\n",
    "    \n",
    "    b = np.linspace(rf_size, 0, num=num_bins//2, endpoint=False)\n",
    "    #b = np.array([rf_size/(i+1) for i in range(num_bins//2)])\n",
    "    bins = np.hstack((-b,[0], b[::-1]))\n",
    "    \n",
    "    return bins\n",
    "get_bins(df,11)"
   ]
  },
  {
   "cell_type": "code",
   "execution_count": 10,
   "metadata": {},
   "outputs": [
    {
     "data": {
      "text/html": [
       "<div>\n",
       "<style>\n",
       "    .dataframe thead tr:only-child th {\n",
       "        text-align: right;\n",
       "    }\n",
       "\n",
       "    .dataframe thead th {\n",
       "        text-align: left;\n",
       "    }\n",
       "\n",
       "    .dataframe tbody tr th {\n",
       "        vertical-align: top;\n",
       "    }\n",
       "</style>\n",
       "<table border=\"1\" class=\"dataframe\">\n",
       "  <thead>\n",
       "    <tr style=\"text-align: right;\">\n",
       "      <th></th>\n",
       "      <th>dt</th>\n",
       "      <th>heading_change</th>\n",
       "      <th>x_f1</th>\n",
       "      <th>y_f1</th>\n",
       "      <th>angle_f1</th>\n",
       "      <th>bin</th>\n",
       "    </tr>\n",
       "  </thead>\n",
       "  <tbody>\n",
       "    <tr>\n",
       "      <th>6</th>\n",
       "      <td>0.0</td>\n",
       "      <td>-0.030674</td>\n",
       "      <td>-0.515097</td>\n",
       "      <td>2.755624</td>\n",
       "      <td>-0.355654</td>\n",
       "      <td>7</td>\n",
       "    </tr>\n",
       "    <tr>\n",
       "      <th>7</th>\n",
       "      <td>1.0</td>\n",
       "      <td>-0.030674</td>\n",
       "      <td>-0.549838</td>\n",
       "      <td>2.773611</td>\n",
       "      <td>-0.381885</td>\n",
       "      <td>7</td>\n",
       "    </tr>\n",
       "    <tr>\n",
       "      <th>8</th>\n",
       "      <td>2.0</td>\n",
       "      <td>-0.030674</td>\n",
       "      <td>-0.564402</td>\n",
       "      <td>2.781590</td>\n",
       "      <td>-0.399634</td>\n",
       "      <td>7</td>\n",
       "    </tr>\n",
       "    <tr>\n",
       "      <th>9</th>\n",
       "      <td>0.0</td>\n",
       "      <td>1.339604</td>\n",
       "      <td>-1.776512</td>\n",
       "      <td>2.700479</td>\n",
       "      <td>-0.402597</td>\n",
       "      <td>7</td>\n",
       "    </tr>\n",
       "    <tr>\n",
       "      <th>10</th>\n",
       "      <td>1.0</td>\n",
       "      <td>1.339604</td>\n",
       "      <td>-1.765986</td>\n",
       "      <td>2.700414</td>\n",
       "      <td>-0.424818</td>\n",
       "      <td>7</td>\n",
       "    </tr>\n",
       "  </tbody>\n",
       "</table>\n",
       "</div>"
      ],
      "text/plain": [
       "     dt  heading_change      x_f1      y_f1  angle_f1  bin\n",
       "6   0.0       -0.030674 -0.515097  2.755624 -0.355654    7\n",
       "7   1.0       -0.030674 -0.549838  2.773611 -0.381885    7\n",
       "8   2.0       -0.030674 -0.564402  2.781590 -0.399634    7\n",
       "9   0.0        1.339604 -1.776512  2.700479 -0.402597    7\n",
       "10  1.0        1.339604 -1.765986  2.700414 -0.424818    7"
      ]
     },
     "execution_count": 10,
     "metadata": {},
     "output_type": "execute_result"
    }
   ],
   "source": [
    "bins = get_bins(df, 5)\n",
    "def get_bin(df, bins):\n",
    "    bin_x = np.digitize(df['x_f1'], bins=bins) - 1\n",
    "    bin_y = np.digitize(df['y_f1'], bins=bins) - 1\n",
    "    return (bin_x*len(bins)) + bin_y\n",
    "\n",
    "df['bin'] = pd.Series(get_bin(df, bins), index=df.index)\n",
    "df.head()"
   ]
  },
  {
   "cell_type": "code",
   "execution_count": 11,
   "metadata": {
    "scrolled": true
   },
   "outputs": [
    {
     "data": {
      "text/plain": [
       "(3266, 30)"
      ]
     },
     "execution_count": 11,
     "metadata": {},
     "output_type": "execute_result"
    }
   ],
   "source": [
    "import sklearn.preprocessing as pre\n",
    "\n",
    "def get_Xy(df):\n",
    "    cur_df = df\n",
    "\n",
    "    # Scale angle:\n",
    "    angle_scaler = pre.StandardScaler()\n",
    "    angle_scaled = angle_scaler.fit_transform(X=cur_df['angle_f1'].values.reshape(-1,1)).reshape(-1)\n",
    "\n",
    "    # Now we need to one-hot enccode our data.\n",
    "    # We need one column per variable and bin\n",
    "\n",
    "    # Indicator for position\n",
    "    position_one_hot = pd.get_dummies(cur_df['bin'])\n",
    "    # Mean of angle for bin\n",
    "    angle_one_hot = pd.get_dummies(cur_df['bin']).values * angle_scaled[:, None]\n",
    "\n",
    "    X = np.concatenate((position_one_hot, angle_one_hot), axis=1)\n",
    "    y = cur_df['heading_change'].values\n",
    "    return X, y\n",
    "\n",
    "X_np, y_np = get_Xy(df.loc[df['dt']==0])\n",
    "X_np.shape"
   ]
  },
  {
   "cell_type": "code",
   "execution_count": 12,
   "metadata": {},
   "outputs": [
    {
     "data": {
      "text/plain": [
       "(torch.FloatTensor, torch.FloatTensor)"
      ]
     },
     "execution_count": 12,
     "metadata": {},
     "output_type": "execute_result"
    }
   ],
   "source": [
    "import torch\n",
    "from torch.autograd import Variable\n",
    "from torch.utils import data\n",
    "from torch import nn\n",
    "from torch import optim\n",
    "\n",
    "X = torch.from_numpy(X_np).float()\n",
    "y = torch.from_numpy(y_np).float()\n",
    "train = data.TensorDataset(data_tensor=X, target_tensor=y)\n",
    "train_data = data.DataLoader(train, batch_size=512, pin_memory=True)\n",
    "type(X), type(y)"
   ]
  },
  {
   "cell_type": "code",
   "execution_count": 13,
   "metadata": {},
   "outputs": [
    {
     "name": "stdout",
     "output_type": "stream",
     "text": [
      "1101.19384765625\n",
      "1099.289794921875\n",
      "1099.2803955078125\n",
      "1099.2803955078125\n",
      "1099.2803955078125\n",
      "1099.2803955078125\n",
      "1099.2802734375\n",
      "1099.2802734375\n",
      "1099.2802734375\n",
      "1099.2802734375\n",
      "1099.2802734375\n",
      "1099.2803955078125\n",
      "1099.2802734375\n",
      "1099.2803955078125\n",
      "1099.2803955078125\n",
      "1099.2803955078125\n",
      "1099.2803955078125\n",
      "1099.2802734375\n",
      "1099.2802734375\n",
      "1099.2802734375\n"
     ]
    }
   ],
   "source": [
    "class LinearRF(nn.Module):\n",
    "    def __init__(self, n_features):\n",
    "        super().__init__()\n",
    "        self.linear = nn.Linear(in_features=n_features, out_features=1, bias=True)     \n",
    "        \n",
    "        for m in self.modules():\n",
    "            if isinstance(m, nn.Linear):\n",
    "                m.weight.data.normal_(0.0, 0.02)\n",
    "                m.bias.data.fill_(0.0)\n",
    "        \n",
    "    def forward(self, x):\n",
    "        return self.linear(x)\n",
    "\n",
    "class MlpRF(nn.Module):\n",
    "    def __init__(self, n_features):\n",
    "        super().__init__()\n",
    "        n_hidden=512\n",
    "        linear_out = nn.Linear(in_features=n_hidden, out_features=1, bias=True)  \n",
    "        self.layers = nn.Sequential(*[\n",
    "            nn.Linear(in_features=n_features, out_features=n_hidden),\n",
    "            nn.Dropout(p=0.1),\n",
    "            nn.ReLU(inplace=True),\n",
    "            nn.Linear(in_features=n_hidden, out_features=n_hidden),\n",
    "            nn.Dropout(p=0.1),\n",
    "            nn.ReLU(inplace=True),\n",
    "            nn.Linear(in_features=n_hidden, out_features=n_hidden),\n",
    "            nn.Dropout(p=0.1),\n",
    "            nn.ReLU(inplace=True),\n",
    "            linear_out])\n",
    "        \n",
    "        for m in self.modules():\n",
    "            if isinstance(m, nn.Linear):\n",
    "                m.weight.data.normal_(0.0, 0.02)\n",
    "                m.bias.data.fill_(0.05)\n",
    "\n",
    "        \n",
    "    def forward(self, x):\n",
    "        return self.layers(x)    \n",
    "    \n",
    "model = LinearRF(n_features=X.shape[1]).cuda()\n",
    "#model = MlpRF(n_features=X.shape[1]).cuda()\n",
    "optimizer = optim.Adam(model.parameters(), weight_decay=1e-4, lr=1e-2)\n",
    "lbfgs = optim.LBFGS(model.parameters(), lr=1)\n",
    "\n",
    "for epoch in range(20):\n",
    "    def closure():\n",
    "            lbfgs.zero_grad()\n",
    "            y_hat = model(Variable(X).cuda()).squeeze()\n",
    "            output = torch.sum((y_hat - Variable(y).cuda())**2)\n",
    "            output.backward()\n",
    "            return output\n",
    "    lbfgs.step(closure)\n",
    "    y_hat = model(Variable(X).cuda()).squeeze()\n",
    "    loss = torch.sum((y_hat - Variable(y).cuda())**2)\n",
    "    print(loss.data[0])"
   ]
  },
  {
   "cell_type": "code",
   "execution_count": 14,
   "metadata": {
    "scrolled": false
   },
   "outputs": [
    {
     "name": "stdout",
     "output_type": "stream",
     "text": [
      "0.3372983821534848\n",
      "0.3365517340039302\n",
      "0.33649734478382265\n",
      "0.3367258423468268\n",
      "0.3364610058795581\n",
      "0.33667575721717363\n",
      "0.3365474918176262\n",
      "0.3365653167089216\n",
      "0.33661732086723595\n",
      "0.33656925638249074\n"
     ]
    }
   ],
   "source": [
    "num_epochs = 10#00\n",
    "for epoch in range(num_epochs):\n",
    "    cur_loss = 0.0\n",
    "    for batch in train_data:\n",
    "        x_batch, y_batch = [Variable(b.float().cuda()) for b in batch]\n",
    "\n",
    "        optimizer.zero_grad()\n",
    "        \n",
    "        y_hat = model(x_batch).squeeze()\n",
    "        loss = torch.sum((y_hat - y_batch)**2)\n",
    "        loss.backward()\n",
    "        \n",
    "        optimizer.step(closure)\n",
    "        \n",
    "        cur_loss += loss.data[0]\n",
    "\n",
    "    if True or (epoch % 100) == 0:\n",
    "        print(cur_loss/len(X))"
   ]
  },
  {
   "cell_type": "code",
   "execution_count": 15,
   "metadata": {
    "collapsed": true
   },
   "outputs": [],
   "source": [
    "import sklearn.linear_model as lm\n",
    "linear = lm.ElasticNetCV(l1_ratio=0.95,normalize=False, max_iter=5000)\n",
    "linear = linear.fit(X_np,y)"
   ]
  },
  {
   "cell_type": "code",
   "execution_count": 16,
   "metadata": {},
   "outputs": [
    {
     "data": {
      "text/plain": [
       "(array([ 0.        , -0.02758895,  0.        , -0.84671738, -0.27356123,\n",
       "         0.16094931,  0.58230999,  0.        , -0.39491813, -0.1708297 ,\n",
       "         0.0857409 ,  0.32692682,  0.        , -0.        ,  0.        ,\n",
       "        -0.        ,  0.        ,  0.49997176,  0.        ,  0.02231846,\n",
       "        -0.03849519,  0.        ,  0.        ,  0.        , -0.00474375,\n",
       "         0.        ,  0.        , -0.        , -0.        ,  0.        ]),\n",
       " 0.052198389227363064)"
      ]
     },
     "execution_count": 16,
     "metadata": {},
     "output_type": "execute_result"
    }
   ],
   "source": [
    "linear.coef_, linear.intercept_"
   ]
  },
  {
   "cell_type": "code",
   "execution_count": 17,
   "metadata": {},
   "outputs": [
    {
     "data": {
      "text/plain": [
       "0.12356694751305665"
      ]
     },
     "execution_count": 17,
     "metadata": {},
     "output_type": "execute_result"
    }
   ],
   "source": [
    "linear.score(X_np, y)"
   ]
  },
  {
   "cell_type": "code",
   "execution_count": 18,
   "metadata": {},
   "outputs": [
    {
     "data": {
      "text/plain": [
       "(Parameter containing:\n",
       " \n",
       " Columns 0 to 9 \n",
       "  0.6199 -0.2795 -0.0304 -1.2222 -0.3381  0.1069  0.8643  0.9734 -0.7228 -0.2356\n",
       " \n",
       " Columns 10 to 19 \n",
       "  0.0308  0.4216 -0.0166 -0.1084  0.2110 -0.2196  0.1995  0.5782 -0.0407  0.0260\n",
       " \n",
       " Columns 20 to 29 \n",
       " -0.0443  0.1166  0.8519  0.0332 -0.0093  0.0030  0.0230 -0.2301 -0.0131  0.0266\n",
       " [torch.cuda.FloatTensor of size 1x30 (GPU 0)], Parameter containing:\n",
       "  0.1122\n",
       " [torch.cuda.FloatTensor of size 1 (GPU 0)])"
      ]
     },
     "execution_count": 18,
     "metadata": {},
     "output_type": "execute_result"
    }
   ],
   "source": [
    "model.linear.weight, model.linear.bias"
   ]
  },
  {
   "cell_type": "code",
   "execution_count": 19,
   "metadata": {},
   "outputs": [
    {
     "data": {
      "text/plain": [
       "(0.12356694890965003, 0.13116815614876332, 0.0)"
      ]
     },
     "execution_count": 19,
     "metadata": {},
     "output_type": "execute_result"
    }
   ],
   "source": [
    "from sklearn import metrics\n",
    "enet_r2 = metrics.r2_score(y_true=y_np, y_pred=linear.predict(X_np), )\n",
    "\n",
    "nn_yhat = model(Variable(X.cuda())).cpu().data.numpy()\n",
    "nn_r2 = metrics.r2_score(y_true=y_np, y_pred=nn_yhat)\n",
    "\n",
    "mean_yhat = np.ones_like(y_np) * y_np.mean()\n",
    "mean_r2 = metrics.r2_score(y_true=y_np, y_pred=mean_yhat)\n",
    "\n",
    "enet_r2, nn_r2, mean_r2"
   ]
  },
  {
   "cell_type": "code",
   "execution_count": 20,
   "metadata": {},
   "outputs": [
    {
     "data": {
      "text/plain": [
       "(SpearmanrResult(correlation=0.338365159697814, pvalue=2.7138213229146633e-88),\n",
       " SpearmanrResult(correlation=0.32819447396863444, pvalue=7.1180147776374648e-83))"
      ]
     },
     "execution_count": 20,
     "metadata": {},
     "output_type": "execute_result"
    }
   ],
   "source": [
    "from scipy import stats\n",
    "stats.spearmanr(y_np, nn_yhat), stats.spearmanr(y_np, linear.predict(X_np))"
   ]
  },
  {
   "cell_type": "code",
   "execution_count": 21,
   "metadata": {},
   "outputs": [
    {
     "data": {
      "text/plain": [
       "(0.35301354364438164, 1.8296134309037171e-96)"
      ]
     },
     "execution_count": 21,
     "metadata": {},
     "output_type": "execute_result"
    }
   ],
   "source": [
    "stats.pearsonr(y_np, linear.predict(X_np))"
   ]
  },
  {
   "cell_type": "code",
   "execution_count": 22,
   "metadata": {},
   "outputs": [
    {
     "data": {
      "text/plain": [
       "array([  -0.42676383, -109.73684174,  -51.23251491,  -21.40314909,\n",
       "        -28.09663205,   34.15897134,   -2.79358837,  -27.63686465,\n",
       "         27.55447893,  -35.30208545,   59.90759599,   50.22023994,\n",
       "         -1.09766601,    3.36482437,    0.17490751,   29.29576052,\n",
       "         -0.24510132,   36.25053229,   51.55443543,   69.3091124 ,\n",
       "         -1.19124646,   65.67631918,   82.75979024,  -31.6211326 ,\n",
       "        -33.90369298,   30.44808172,  -93.80151249,  -54.12803343,\n",
       "        -69.4286443 ,  -11.11257436,   49.65475809,   -1.79580701,\n",
       "         -7.08522841,   17.97051454,    6.05156127,  -76.91639268,\n",
       "        -38.18813409,  -38.38899115,   15.00647202,  -94.46144792,\n",
       "        -20.38978809,   31.87922154,    9.78276042,   65.73567351,\n",
       "         38.33550904,   57.51060265,   40.92227247,   45.62319472,\n",
       "         10.73712572,   22.1287747 ])"
      ]
     },
     "execution_count": 22,
     "metadata": {},
     "output_type": "execute_result"
    }
   ],
   "source": [
    "np.rad2deg(y_np[100:150])"
   ]
  },
  {
   "cell_type": "code",
   "execution_count": 23,
   "metadata": {},
   "outputs": [
    {
     "data": {
      "text/plain": [
       "array([-10.69413113,   9.73519957,  -7.41728079,  -6.51165644,\n",
       "        -6.65802626,  -6.72801863,  -6.75169829,  -6.80971518,\n",
       "        -6.81233832,  -6.77106514,   7.90333924,   7.90333924,\n",
       "        -6.80674504,  -6.80046921,  -6.80695321,  -6.80956994,\n",
       "         7.90333924,  15.90398599,  16.49374305,   7.90333924,\n",
       "         7.90333924,   7.90333924,   7.90333924,  -6.44210739,\n",
       "        -6.52352233,  -6.62264981,  -6.53089417, -13.09310403,\n",
       "       -12.48523267,  -6.93386329,  -6.91614898,  -6.79639316,\n",
       "        -6.78764475,  -6.74302904, -16.27746285, -16.43979068,\n",
       "       -15.08814115,  -6.37782107, -10.78234564, -11.72873836,\n",
       "       -10.66870187, -11.33159012,  11.90727962,  12.42549931,\n",
       "        15.7801471 ,  36.35465203,  21.72227434,   7.90333924,\n",
       "         7.90333924,   7.90333924])"
      ]
     },
     "execution_count": 23,
     "metadata": {},
     "output_type": "execute_result"
    }
   ],
   "source": [
    "np.rad2deg(linear.predict(X_np[100:150]))"
   ]
  },
  {
   "cell_type": "code",
   "execution_count": null,
   "metadata": {
    "collapsed": true
   },
   "outputs": [],
   "source": []
  }
 ],
 "metadata": {
  "kernelspec": {
   "display_name": "Python 3",
   "language": "python",
   "name": "python3"
  },
  "language_info": {
   "codemirror_mode": {
    "name": "ipython",
    "version": 3
   },
   "file_extension": ".py",
   "mimetype": "text/x-python",
   "name": "python",
   "nbconvert_exporter": "python",
   "pygments_lexer": "ipython3",
   "version": "3.6.1"
  }
 },
 "nbformat": 4,
 "nbformat_minor": 2
}
