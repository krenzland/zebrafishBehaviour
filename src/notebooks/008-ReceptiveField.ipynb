{
 "cells": [
  {
   "cell_type": "code",
   "execution_count": 17,
   "metadata": {},
   "outputs": [],
   "source": [
    "%matplotlib inline\n",
    "import numpy as np\n",
    "import pandas as pd\n",
    "import sys\n",
    "import matplotlib.pyplot as plt\n",
    "from matplotlib import patches\n",
    "\n",
    "sys.path.append('..')#\n",
    "from util import add_angles, angle_between, angled_vector, sub_angles"
   ]
  },
  {
   "cell_type": "code",
   "execution_count": 6,
   "metadata": {},
   "outputs": [],
   "source": [
    "def get_rotation_matrix(angle):\n",
    "    c = np.cos(angle)\n",
    "    s = np.sin(angle)\n",
    "    R = np.array([c, -s, s, c]).reshape(2,2)\n",
    "    return R"
   ]
  },
  {
   "cell_type": "code",
   "execution_count": 7,
   "metadata": {},
   "outputs": [
    {
     "data": {
      "text/plain": [
       "array([ -1.83697020e-16,  -1.00000000e+00])"
      ]
     },
     "execution_count": 7,
     "metadata": {},
     "output_type": "execute_result"
    }
   ],
   "source": [
    "R = get_rotation_matrix(np.deg2rad(270))\n",
    "R @ np.array([1,0])"
   ]
  },
  {
   "cell_type": "code",
   "execution_count": 8,
   "metadata": {},
   "outputs": [
    {
     "data": {
      "image/png": "[encoded data removed]",
      "text/plain": [
       "<matplotlib.figure.Figure at 0x7f7ae0624da0>"
      ]
     },
     "metadata": {},
     "output_type": "display_data"
    }
   ],
   "source": [
    "def plot_grid(p1, p2, traj1, traj2):\n",
    "    fig, ax = plt.subplots()\n",
    "    ax.scatter(p1[0], p1[1], c='r')\n",
    "    ax.scatter(p2[0], p2[1], c='gray')\n",
    "\n",
    "    ax.plot([p1[0], p1[0] + traj1[0]], [p1[1], p1[1] + traj1[1]], c='r')\n",
    "    ax.plot([p2[0], p2[0] + traj2[0]], [p2[1], p2[1] + traj2[1]], c='gray')\n",
    "\n",
    "    ax.set_xbound(-10, 10)\n",
    "    ax.set_ybound(-10, 10)\n",
    "    \n",
    "\n",
    "pos1, pos2 = np.array([5,5]), np.array([5,7])\n",
    "ang1, ang2 = np.deg2rad([45, -90])\n",
    "traj1, traj2 = angled_vector(ang1) * 3, angled_vector(ang2) * 3\n",
    "\n",
    "plot_grid(pos1, pos2, traj1, traj2)"
   ]
  },
  {
   "cell_type": "code",
   "execution_count": 9,
   "metadata": {},
   "outputs": [
    {
     "data": {
      "text/plain": [
       "-135.0"
      ]
     },
     "execution_count": 9,
     "metadata": {},
     "output_type": "execute_result"
    },
    {
     "data": {
      "image/png": "[encoded data removed]",
      "text/plain": [
       "<matplotlib.figure.Figure at 0x7f7ae0624208>"
      ]
     },
     "metadata": {},
     "output_type": "display_data"
    }
   ],
   "source": [
    "# RF\n",
    "# 1. Rotate coord system.\n",
    "R = get_rotation_matrix(-ang1)\n",
    "pos1_rot = R @ pos1.reshape(2,1)\n",
    "pos2_rot = R @ pos2.reshape(2,1)\n",
    "traj1_rot = R @ traj1\n",
    "traj2_rot = R @ traj2\n",
    "# 2. Set p1 at center (0,0) and adjust other\n",
    "pos2_rot -= pos1_rot\n",
    "pos1_rot = np.array([0.0, 0.0])\n",
    "ang1_rot = 0.0\n",
    "ang2_rot = ang2 - ang1\n",
    "# 3. Plot\n",
    "plot_grid(pos1_rot, pos2_rot, traj1_rot, traj2_rot)\n",
    "\n",
    "np.rad2deg(ang2_rot)"
   ]
  },
  {
   "cell_type": "code",
   "execution_count": 10,
   "metadata": {
    "scrolled": false
   },
   "outputs": [],
   "source": [
    "df_kicks_tr = pd.read_csv('../../data/processed/kicks_guy_train.csv')"
   ]
  },
  {
   "cell_type": "code",
   "execution_count": 11,
   "metadata": {},
   "outputs": [
    {
     "name": "stdout",
     "output_type": "stream",
     "text": [
      "20337 2\n"
     ]
    }
   ],
   "source": [
    "from itertools import product\n",
    "# Compute relative coords/angles\n",
    "def transform_coords_row(row):\n",
    "    rotation_angle = row['rotation_angle']\n",
    "    rotation_matrix = get_rotation_matrix(-rotation_angle)\n",
    "    \n",
    "    pos_f0 = np.array([row['x_f0'], row['y_f0']])\n",
    "    pos_f1 = np.array([row['x_f1'], row['y_f1']])\n",
    "    \n",
    "    # Rotate both fish s.t. fish 0 has angle 0\n",
    "    pos_f0 = (rotation_matrix @ pos_f0.reshape(2,1))\n",
    "    pos_f1 = (rotation_matrix @ pos_f1.reshape(2,1))\n",
    "    \n",
    "    # Put fish zero at (0,0) in coord system\n",
    "    pos_f1 = (pos_f1 - pos_f0).reshape(2)\n",
    "    pos_f0 = np.array([0,0])\n",
    "\n",
    "    angle_f1 = sub_angles(row['angle_f1'], rotation_angle)\n",
    "    \n",
    "    row = pd.Series(data=[row['dt'], row['heading_change'], pos_f1[0], pos_f1[1], angle_f1],\n",
    "                    index=['dt', 'heading_change', 'x_f1', 'y_f1', 'angle_f1'])\n",
    "    return row\n",
    "\n",
    "\n",
    "def prepare_df(df, cutoff_wall_range = 7):\n",
    "    df = df_kicks_tr.copy()\n",
    "\n",
    "    # Group columns by kick (dt=0,1,..)\n",
    "    max_dt = df['dt'].max() + 1\n",
    "    \n",
    "    assert(len(df) % max_dt == 0)\n",
    "    num_kicks = len(df)//max_dt\n",
    "    groups = np.repeat(np.arange(0, num_kicks), max_dt)\n",
    "    df['group'] = pd.Series(groups, index=df.index)\n",
    "\n",
    "    # Consider only a small subsample of data here.\n",
    "    # Drop all kicks where one timestep is too close to the wall\n",
    "    wall_dist_col = [f'wall_distance{i}_f{id}' for i, id in product(range(0,4), range(0,2))]\n",
    "    min_wall_dist = df[wall_dist_col].min(axis=1)\n",
    "\n",
    "    # TODO: Maybe only drop when dt=0 is not close to wall.\n",
    "    groups_to_keep = np.unique(df.loc[(min_wall_dist > cutoff_wall_range),'group'])\n",
    "    to_keep = df['group'].isin(groups_to_keep)\n",
    "\n",
    "    df = df.loc[to_keep,:]\n",
    "    df = df[['dt', 'heading_change', 'x_f0', 'y_f0', 'x_f1', 'y_f1', 'angle_f0', 'angle_f1']]\n",
    "\n",
    "    # Add angle of fish zero at start of kick\n",
    "    is_kick = df['dt'] == 0\n",
    "    rotating_angle = np.repeat(df.loc[is_kick, 'angle_f0'].values, max_dt)\n",
    "    # TODO: Fish zero for all dt at (0,0)\n",
    "    #df.loc[:,'rotation_angle'] = pd.Series(rotating_angle, index=df.index)\n",
    "    df.loc[:, 'rotation_angle'] = df['angle_f0']\n",
    "    \n",
    "    # Reshape \n",
    "    df = df.apply(transform_coords_row, axis=1)\n",
    "    \n",
    "    # Fix index (not seq. due to dropping earlier!)\n",
    "    df.index = pd.Index(range(0, len(df)))\n",
    "\n",
    "    return df\n",
    "\n",
    "df_train = prepare_df(df_kicks_tr.copy())\n",
    "max_dt = int(df_train['dt'].max())\n",
    "print(len(df_train), max_dt)"
   ]
  },
  {
   "cell_type": "code",
   "execution_count": 12,
   "metadata": {},
   "outputs": [
    {
     "data": {
      "text/plain": [
       "(array([-8.88278464, -5.92185643, -2.96092821,  0.        ,  2.96092821,\n",
       "         5.92185643,  8.88278464]),\n",
       " array([ 2.96092821,  2.96092821,  2.96092821,  2.96092821,  2.96092821,\n",
       "         2.96092821]))"
      ]
     },
     "execution_count": 12,
     "metadata": {},
     "output_type": "execute_result"
    }
   ],
   "source": [
    "def get_bins(df, num_bins=7):\n",
    "    # Build symmetric receptive field.\n",
    "    rf_size = max(df['x_f1'].abs().max(), df['y_f1'].abs().max())\n",
    "    \n",
    "    # RF has size rf_size x rf_size, each direction divided by num_bins\n",
    "    # Should be of form 2n-1 (symmetric in pos/neg. direction, centered at (0,0))\n",
    "    assert(((num_bins-1) % 2) == 0)\n",
    "    \n",
    "    b = np.linspace(rf_size, 0, num=num_bins//2, endpoint=False)\n",
    "    #b = np.array([rf_size/(i+1) for i in range(num_bins//2)])\n",
    "    bins = np.hstack((-b,[0], b[::-1]))\n",
    "    \n",
    "    return bins\n",
    "\n",
    "num_bins = 7\n",
    "bins = get_bins(df_train, num_bins)\n",
    "def get_bin(df, bins):\n",
    "    # TODO: Open intervals on both sides!\n",
    "    bin_x = np.digitize(df['x_f1'], bins=bins) - 1\n",
    "    bin_y = np.digitize(df['y_f1'], bins=bins) - 1\n",
    "    return (bin_x*len(bins)) + bin_y\n",
    "\n",
    "df_train['bin'] = pd.Series(get_bin(df_train, bins), index=df_train.index)\n",
    "\n",
    "bins, np.ediff1d(bins)"
   ]
  },
  {
   "cell_type": "code",
   "execution_count": 13,
   "metadata": {},
   "outputs": [
    {
     "data": {
      "text/plain": [
       "(array([ 0,  1,  2,  3,  5,  6,  7,  8, 10, 11, 12, 13, 15, 16, 17, 18]),\n",
       " array([242, 453, 478, 522, 328, 428, 505, 434, 466, 427, 411, 390, 659,\n",
       "        387, 300, 349]))"
      ]
     },
     "execution_count": 13,
     "metadata": {},
     "output_type": "execute_result"
    }
   ],
   "source": [
    "# Adaptively sized bins\n",
    "# Should have same number of fish in each bin.\n",
    "\n",
    "# Idea:\n",
    "# First compute quantiles for x then for y direction.\n",
    "# Because we need a symmetric receptive field, just compute quantiles\n",
    "# of the absolute value.\n",
    "\n",
    "from scipy import stats\n",
    "df = df_train.loc[df_train['dt']==0, :].copy()\n",
    "\n",
    "x_dist = np.abs(df['x_f1'])\n",
    "y_dist = np.abs(df['y_f1'])\n",
    "\n",
    "#del df\n",
    "\n",
    "prob = [i/((num_bins//2)+1) for i in range(0,num_bins//2 + 2)]\n",
    "\n",
    "edges_x = stats.mstats.mquantiles(x_dist, prob=prob)\n",
    "edges_y = stats.mstats.mquantiles(y_dist, prob=prob)\n",
    "\n",
    "# Reset left edge\n",
    "edges_x[0] = 0\n",
    "edges_y[0] = 0\n",
    "\n",
    "# TODO: Remove absolute value here!\n",
    "bins_x = np.digitize(x_dist, bins=edges_x, right=True) - 1\n",
    "bins_y = np.digitize(y_dist, bins=edges_y, right=True) - 1\n",
    "bins = (bins_x*len(edges_x)) + bins_y\n",
    "#np.unique(np.digitize(y_dist, edges, right=True), return_counts=True)\n",
    "np.unique(bins, return_counts=True)"
   ]
  },
  {
   "cell_type": "code",
   "execution_count": 14,
   "metadata": {},
   "outputs": [
    {
     "name": "stdout",
     "output_type": "stream",
     "text": [
      "[ 0.          0.33690457  0.67405755  1.06051211  1.49257937  1.97463141\n",
      "  2.6517947   8.88278464]\n",
      "[ 0.          0.80570545  1.26222159  1.64527964  1.96883509  2.33108107\n",
      "  2.86350186  8.87261473]\n",
      "(array([1, 2, 3, 4, 5, 6, 7]), array([493, 507, 515, 489, 493, 498, 471]))\n",
      "(array([1, 2, 3, 4, 5, 6, 7]), array([477, 462, 454, 479, 475, 470, 496]))\n"
     ]
    }
   ],
   "source": [
    "def bin_one_dim(array, num_bins):\n",
    "# Inspired by np.array_split\n",
    "# https://github.com/numpy/numpy/blob/v1.14.0/numpy/lib/shape_base.py#L431-L483\n",
    "# Divide into equal bins, if not possible first few bins have size + 1\n",
    "    \n",
    "    a = np.sort(array)\n",
    "    assert(np.signbit(a[0]) == np.signbit(a[-1]))\n",
    "    num_per_bin, extras = divmod(len(a), num_bins)\n",
    "    section_sizes = [0] + extras * [num_per_bin+1] + (num_bins-extras) * [num_per_bin]\n",
    "    div_ind = np.array(section_sizes).cumsum()\n",
    "    div_ind[-1] -= 1\n",
    "    div_ind, len(a)\n",
    "    bin_edges = a[div_ind]\n",
    "    if (np.signbit(a[0])):\n",
    "        bin_edges[-1] = 0.0\n",
    "    else:\n",
    "        bin_edges[0] = 0.0\n",
    "    return bin_edges\n",
    "\n",
    "print(bin_one_dim(array=x_dist, num_bins=num_bins),\\\n",
    "bin_one_dim(array=y_dist, num_bins=num_bins), sep='\\n')\n",
    "\n",
    "edges_x = bin_one_dim(np.abs(df['x_f1']), num_bins)\n",
    "print(np.unique(np.digitize(np.abs(df.loc[df['x_f1'] > 0,'x_f1']) ,edges_x, right=True), return_counts=True),\\\n",
    "np.unique(np.digitize(np.abs(df.loc[df['x_f1'] < 0,'x_f1']) ,edges_x, right=True), return_counts=True),\\\n",
    "     sep='\\n')"
   ]
  },
  {
   "cell_type": "code",
   "execution_count": 15,
   "metadata": {},
   "outputs": [
    {
     "name": "stdout",
     "output_type": "stream",
     "text": [
      "(array([0, 1, 2, 3, 4, 5, 6]), array([970, 969, 969, 968, 968, 968, 967]))\n",
      "[ 0.          1.18652704  1.56960301  1.86554227  2.15603062  2.5050798\n",
      "  2.96293219  6.27967435]\n"
     ]
    },
    {
     "data": {
      "text/plain": [
       "(array([0, 1, 2, 3, 4, 5, 6]), array([140, 139, 139, 139, 138, 138, 137]))"
      ]
     },
     "execution_count": 15,
     "metadata": {},
     "output_type": "execute_result"
    }
   ],
   "source": [
    "bins_x = np.digitize(np.abs(df['x_f1']), edges_x, right=True) - 1\n",
    "df.loc[:, 'bin_x'] = pd.Series(bins_x, index=df.index)\n",
    "print(np.unique(bins_x, return_counts=True))\n",
    "\n",
    "cur_y_dist = df.loc[df['bin_x'] == 0, 'y_f1'].abs().values\n",
    "cur_edges_y = bin_one_dim(cur_y_dist, num_bins)\n",
    "print(cur_edges_y)\n",
    "cur_bins_y = np.digitize(cur_y_dist, cur_edges_y, right=True) - 1\n",
    "np.unique(cur_bins_y, return_counts=True)"
   ]
  },
  {
   "cell_type": "code",
   "execution_count": 260,
   "metadata": {
    "scrolled": false
   },
   "outputs": [
    {
     "name": "stdout",
     "output_type": "stream",
     "text": [
      "203.37 13.5599815634\n"
     ]
    },
    {
     "data": {
      "image/png": "[encoded data removed]",
      "text/plain": [
       "<matplotlib.figure.Figure at 0x7f7a79e8e978>"
      ]
     },
     "metadata": {},
     "output_type": "display_data"
    }
   ],
   "source": [
    "# Try without symmetry\n",
    "def bin_axis(array, num_bins):\n",
    "    assert(num_bins % 2 == 0)\n",
    "    #num_bins += 1\n",
    "    dist_pos = array[array >= 0]\n",
    "    dist_neg = array[array < 0]\n",
    "    edges_pos = bin_one_dim(dist_pos, num_bins//2)\n",
    "    edges_neg = bin_one_dim(dist_neg, num_bins//2)#[::-1]\n",
    "    edges = np.hstack((edges_neg, edges_pos[1:]))\n",
    "    \n",
    "    # Fix empty bins on either side (make bit larger than data range)\n",
    "    eps = 10e-6\n",
    "    edges[0] -= eps\n",
    "    edges[-1] += eps\n",
    "    return edges\n",
    "\n",
    "def bin_df(df, num_bins=6):\n",
    "    edges_x = bin_axis(df['x_f1'].values, num_bins)\n",
    "    bins_x = np.digitize(df['x_f1'].values, edges_x, right=False) - 1\n",
    "    bins_y = np.zeros_like(bins_x) - 1 # invalid bins for now!\n",
    "\n",
    "    edges_y = np.zeros((num_bins, num_bins+1))\n",
    "\n",
    "    for i in range(num_bins):\n",
    "        is_in_bin = bins_x == i\n",
    "        cur_y = df.loc[is_in_bin,'y_f1'].values\n",
    "        cur_edges_y = bin_axis(cur_y, num_bins)\n",
    "        edges_y[i,:] = cur_edges_y\n",
    "        cur_bins_y = np.digitize(df.loc[is_in_bin, 'y_f1'].values, cur_edges_y, right=False) - 1\n",
    "        bins_y[is_in_bin] = cur_bins_y\n",
    "\n",
    "    bins = (bins_x*num_bins) + bins_y\n",
    "    df.loc[:,'bin'] = pd.Series(bins, index=df.index)\n",
    "    print(np.unique(bins,return_counts=True)[1].mean(), np.unique(bins,return_counts=True)[1].std())\n",
    "\n",
    "    return df, edges_x, edges_y\n",
    "\n",
    "num_bins=10\n",
    "df_train, edges_x, edges_y = bin_df(df_train, num_bins=num_bins)\n",
    "\n",
    "from matplotlib import cm\n",
    "from matplotlib.colors import Normalize\n",
    "\n",
    "# See: https://stackoverflow.com/questions/20144529/shifted-colorbar-matplotlib/20146989#20146989\n",
    "class DivergentNormalize(Normalize):\n",
    "    def __init__(self, vmin=None, vmax=None, clip=False):\n",
    "        Normalize.__init__(self, vmin, vmax, clip)\n",
    "        print(self.vmax, self.vmin)\n",
    "        \n",
    "    def __call__(self, value, clip=None):\n",
    "        x, y = [self.vmin, 0.0, self.vmax], [0, 0.5, 1]\n",
    "        return np.ma.masked_array(np.interp(value, x, y))\n",
    "\n",
    "def plot_bins(edges_x, edges_y, weights=None, weights_range=None, fig=None, ax=None):\n",
    "    nun_bins = len(edges_x) - 1\n",
    "    edge_x_sizes = np.ediff1d(edges_x)\n",
    "\n",
    "    if fig is None or ax is None:\n",
    "        fig, ax = plt.subplots(figsize=(20,20))        \n",
    "    \n",
    "    if weights is None:\n",
    "        color = lambda x: 'white'\n",
    "    else:\n",
    "        if weights_range is None:\n",
    "            vmin, vmax = weights.min(), weights.max()\n",
    "        else:\n",
    "            vmin, vmax = weights_range\n",
    "        norm = DivergentNormalize(vmin=vmin, vmax=vmax)\n",
    "        mapper = cm.ScalarMappable(norm=norm, cmap=cm.RdBu)\n",
    "        mapper.set_array(weights)\n",
    "        def color(x):\n",
    "            w = weights[x]\n",
    "            return mapper.to_rgba(w)\n",
    "        \n",
    "    for i, edge_x in enumerate(edges_x[:-1]):\n",
    "        cur_y_edges = edges_y[i, :]\n",
    "        cur_edge_y_sizes = np.ediff1d(cur_y_edges)    \n",
    "        for j, edge_y in enumerate(cur_y_edges[:-1]):\n",
    "            ax.add_patch(\n",
    "                patches.Rectangle(\n",
    "                (edge_x, edge_y),\n",
    "                edge_x_sizes[i],\n",
    "                cur_edge_y_sizes[j],\n",
    "                fill=True,\n",
    "                facecolor=color(i*num_bins + j),\n",
    "                edgecolor='black',\n",
    "                linewidth=4))\n",
    "\n",
    "    # TODO: Don't hardcore!\n",
    "    ax.set_xlim(-10, 10)\n",
    "    ax.set_ylim(-10, 10)\n",
    "\n",
    "    ax.scatter(0,0, c='red', s=1000, marker='x', zorder=10, linewidth=5)\n",
    "    ax.axis('off')\n",
    "    \n",
    "    if weights is not None:\n",
    "        return mapper # for colorbar\n",
    "    #if weights is not None:\n",
    "    #    ax.colorbar(mapper)    \n",
    "\n",
    "plot_bins(edges_x, edges_y, None)"
   ]
  },
  {
   "cell_type": "code",
   "execution_count": 304,
   "metadata": {
    "scrolled": false
   },
   "outputs": [
    {
     "name": "stdout",
     "output_type": "stream",
     "text": [
      "0.786252268474 -0.504920342624\n",
      "0.786252268474 -0.504920342624\n"
     ]
    },
    {
     "data": {
      "text/plain": [
       "<matplotlib.colorbar.Colorbar at 0x7f7a1c082cf8>"
      ]
     },
     "execution_count": 304,
     "metadata": {},
     "output_type": "execute_result"
    },
    {
     "data": {
      "image/png": "[encoded data removed]",
      "text/plain": [
       "<matplotlib.figure.Figure at 0x7f7a1c3040b8>"
      ]
     },
     "metadata": {},
     "output_type": "display_data"
    }
   ],
   "source": [
    "coef = linear.coef_\n",
    "spatial_weights = coef[:num_bins**2]\n",
    "angular_weights = coef[num_bins**2:]\n",
    "\n",
    "weights_range = coef.min(), coef.max()\n",
    "\n",
    "fig, ax = plt.subplots(2, figsize=(20,25), sharex=True)\n",
    "_ = plot_bins(edges_x, edges_y, spatial_weights, fig=fig, ax=ax[0], weights_range=weights_range)\n",
    "mapper = plot_bins(edges_x, edges_y, angular_weights, fig=fig, ax=ax[1], weights_range=weights_range)\n",
    "\n",
    "fig.subplots_adjust(right=0.9)\n",
    "cbar_ax = fig.add_axes([0.85, 0.15, 0.02, 0.7])\n",
    "fig.colorbar(mapper, cax=cbar_ax)"
   ]
  },
  {
   "cell_type": "code",
   "execution_count": 286,
   "metadata": {},
   "outputs": [
    {
     "ename": "AttributeError",
     "evalue": "'Axes' object has no attribute 'cax'",
     "output_type": "error",
     "traceback": [
      "\u001b[0;31m---------------------------------------------------------------------------\u001b[0m",
      "\u001b[0;31mAttributeError\u001b[0m                            Traceback (most recent call last)",
      "\u001b[0;32m<ipython-input-286-267609746e30>\u001b[0m in \u001b[0;36m<module>\u001b[0;34m()\u001b[0m\n\u001b[0;32m----> 1\u001b[0;31m \u001b[0mcax\u001b[0m\u001b[0;34m.\u001b[0m\u001b[0mcax\u001b[0m\u001b[0;34m\u001b[0m\u001b[0m\n\u001b[0m",
      "\u001b[0;31mAttributeError\u001b[0m: 'Axes' object has no attribute 'cax'"
     ]
    }
   ],
   "source": [
    "cax"
   ]
  },
  {
   "cell_type": "code",
   "execution_count": 239,
   "metadata": {
    "scrolled": false
   },
   "outputs": [
    {
     "name": "stdout",
     "output_type": "stream",
     "text": [
      "(6779, 200) (6779,)\n"
     ]
    },
    {
     "name": "stderr",
     "output_type": "stream",
     "text": [
      "/home/lukas/bin/anaconda3/lib/python3.6/site-packages/ipykernel_launcher.py:16: FutureWarning: reshape is deprecated and will raise in a subsequent release. Please use .values.reshape(...) instead\n",
      "  app.launch_new_instance()\n"
     ]
    }
   ],
   "source": [
    "import sklearn.preprocessing as pre\n",
    "\n",
    "def get_Xy(df, num_bins):\n",
    "    # Scale angle:\n",
    "    angle_scaler = pre.StandardScaler()\n",
    "    angle_scaled = angle_scaler.fit_transform(X=df['angle_f1'].values.reshape(-1,1)).reshape(-1)\n",
    "\n",
    "    # Now we need to one-hot enccode our data.\n",
    "    # We need one column per variable and bin\n",
    "\n",
    "    # Indicator for position\n",
    "    # We need this because some bins could be unoccupied in training but occupied in testing!\n",
    "    one_hot_enc = pre.OneHotEncoder()\n",
    "    one_hot_enc.fit(np.array(range(0,num_bins**2)).reshape(-1,1))\n",
    "    \n",
    "    position_one_hot = one_hot_enc.transform(df_train.loc[0:, 'bin'].reshape(-1,1)).toarray()\n",
    "    \n",
    "    #position_one_hot = pd.get_dummies(df['bin'])\n",
    "    # Mean of angle for bin\n",
    "    #angle_one_hot = pd.get_dummies(df['bin']).values * angle_scaled[:, None]\n",
    "    angle_one_hot = position_one_hot * angle_scaled[:, None]\n",
    "\n",
    "    X = np.concatenate((position_one_hot, angle_one_hot), axis=1)\n",
    "    #X = position_one_hot.values\n",
    "    y = df['heading_change'].values\n",
    "    return X, y\n",
    "\n",
    "use_temporal = False\n",
    "X_np, y_np = get_Xy(df_train, num_bins=num_bins)\n",
    "y_np =  y_np[df_train['dt'] == 0] # heading change at kick\n",
    "if use_temporal:\n",
    "    Xs = []\n",
    "    for dt in range(max_dt):\n",
    "        Xs.append(X_np[df_train['dt'] == dt])\n",
    "    # Use past as additional features.\n",
    "    X_np = np.hstack(Xs)\n",
    "else:\n",
    "    X_np  = X_np[df_train['dt'] == 0]\n",
    "print(X_np.shape, y_np.shape)"
   ]
  },
  {
   "cell_type": "code",
   "execution_count": 150,
   "metadata": {},
   "outputs": [
    {
     "name": "stderr",
     "output_type": "stream",
     "text": [
      "/home/lukas/bin/anaconda3/lib/python3.6/site-packages/ipykernel_launcher.py:16: FutureWarning: reshape is deprecated and will raise in a subsequent release. Please use .values.reshape(...) instead\n",
      "  app.launch_new_instance()\n"
     ]
    }
   ],
   "source": [
    "import torch\n",
    "from torch.autograd import Variable\n",
    "from torch.utils import data\n",
    "from torch import nn\n",
    "from torch import optim\n",
    "from torch.utils import data\n",
    "\n",
    "nn_model = 'lstm'\n",
    "\n",
    "X, y = get_Xy(df_train, num_bins=num_bins+1)\n",
    "Xs = []\n",
    "ys = []\n",
    "# TODO: Check direction of sequence.\n",
    "for dt in reversed(range(max_dt)):\n",
    "    cur_x, cur_y = X[df_train['dt'] == dt], y[df_train['dt'] == dt]\n",
    "    Xs.append(torch.from_numpy(cur_x))\n",
    "    ys.append(torch.from_numpy(cur_y))\n",
    "X = torch.stack(Xs).float()\n",
    "y = torch.from_numpy(y_np).float()\n",
    "\n",
    "class LSTMDataset(data.Dataset):\n",
    "    def __init__(self, X, y):\n",
    "        super(data.Dataset, self).__init__\n",
    "        \n",
    "        self.X = X\n",
    "        self.y = y\n",
    "        \n",
    "    def __len__(self):\n",
    "        return self.X.shape[1]\n",
    "    \n",
    "    def __getitem__(self, idx):\n",
    "        return X[:, idx,:], y[idx]\n",
    "\n",
    "\n",
    "#train = data.TensorDataset(data_tensor=X, target_tensor=y)\n",
    "train = LSTMDataset(X=X, y=y)\n",
    "\n",
    "def collate(batch):\n",
    "    #print(len(batch))\n",
    "    result = []\n",
    "    Xs = []\n",
    "    ys = []\n",
    "    for elem in batch:\n",
    "        X = elem[0]\n",
    "        y = elem[1]\n",
    "        Xs.append(X)\n",
    "        ys.append(y)\n",
    "    return torch.stack(Xs, dim=1), torch.Tensor(np.array(ys))\n",
    "\n",
    "train_data = data.DataLoader(train, batch_size=512, collate_fn=collate, pin_memory=True)"
   ]
  },
  {
   "cell_type": "code",
   "execution_count": 151,
   "metadata": {},
   "outputs": [],
   "source": [
    "class LinearRF(nn.Module):\n",
    "    def __init__(self, num_features, n_dt):\n",
    "        super().__init__()\n",
    "        # Treat each timestep as independent feature!\n",
    "        self.num_features = num_features * n_dt\n",
    "        self.linear = nn.Linear(in_features=self.num_features,\n",
    "                                out_features=1)  \n",
    "        \n",
    "        for m in self.modules():\n",
    "            if isinstance(m, nn.Linear):\n",
    "                m.weight.data.normal_(0.0, 0.02)\n",
    "                m.bias.data.fill_(0.0)\n",
    "        \n",
    "    def forward(self, x):\n",
    "        batch_size = x.shape[1]\n",
    "        # Permute tensor to shape (batch_size, feature_size, sequence_size)\n",
    "        x = x.permute(dims=[1,2,0])\n",
    "        # Concatenate entire sequence and use as one feature\n",
    "        x = x.contiguous().view(batch_size, self.num_features)\n",
    "        return self.linear(x)\n",
    "\n",
    "class MlpRF(nn.Module):\n",
    "    def __init__(self, num_features, n_dt):\n",
    "        super().__init__()\n",
    "        n_hidden=512\n",
    "        linear_out = nn.Linear(in_features=n_hidden, out_features=1, bias=True)  \n",
    "        self.layers = nn.Sequential(*[\n",
    "            nn.Linear(in_features=num_features, out_features=n_hidden),\n",
    "            nn.Dropout(p=0.1),\n",
    "            nn.ReLU(inplace=True),\n",
    "            nn.Linear(in_features=n_hidden, out_features=n_hidden),\n",
    "            nn.Dropout(p=0.1),\n",
    "            nn.ReLU(inplace=True),\n",
    "            nn.Linear(in_features=n_hidden, out_features=n_hidden),\n",
    "            nn.Dropout(p=0.1),\n",
    "            nn.ReLU(inplace=True),\n",
    "            linear_out])\n",
    "        \n",
    "        for m in self.modules():\n",
    "            if isinstance(m, nn.Linear):\n",
    "                m.weight.data.normal_(0.0, 0.02)\n",
    "                m.bias.data.fill_(0.05)\n",
    "        \n",
    "    def forward(self, x):\n",
    "        return self.layers(x)    \n",
    "\n",
    "class Recurrent(nn.Module):\n",
    "    def __init__(self, num_features, num_dt):\n",
    "        super().__init__()\n",
    "        self.hidden_size = 64\n",
    "        \n",
    "        self.num_features = num_features\n",
    "        self.lin_in = nn.Linear(in_features=num_features, out_features=num_features)\n",
    "        self.relu = nn.ReLU(inplace=True)\n",
    "        self.rnn = nn.GRU(input_size=num_features, hidden_size=self.hidden_size,\n",
    "                         num_layers=3, dropout=0.2)  \n",
    "        self.lin_out = nn.Linear(in_features=self.hidden_size*num_dt, out_features=1)\n",
    "\n",
    "        for m in self.modules():\n",
    "            if isinstance(m, nn.Linear):\n",
    "                m.weight.data.normal_(0.0, 0.02)\n",
    "                m.bias.data.fill_(0.0)             \n",
    "                \n",
    "    def forward(self, x):\n",
    "        batch_size = x.shape[1]\n",
    "        \n",
    "        # Preprocess features\n",
    "        x = self.relu(self.lin_in(x))\n",
    "        \n",
    "        # Work over sequence\n",
    "        x, _ = self.rnn(x)\n",
    "        \n",
    "        # Reshape from (seq, batch, feat) to (batch, seq * feat)\n",
    "        x = x.permute(dims=[1,2,0])\n",
    "        x = x.contiguous().view(batch_size, -1)\n",
    "        \n",
    "        # Transform features to singular output.\n",
    "        x = self.lin_out(x)\n",
    "        return x\n",
    "    \n",
    "nn_model = 'lstm'\n",
    "if nn_model == 'linear':\n",
    "    model = LinearRF(num_features=X.shape[-1], n_dt=3).cuda()#int(max_dt)).cuda()\n",
    "elif nn_model == 'mlp':\n",
    "    model = MlpRF(num_features=X.shape[-1]).cuda()\n",
    "elif nn_model == 'lstm':\n",
    "    model = Recurrent(num_features=X.shape[-1], num_dt=int(max_dt)).cuda()\n",
    "else:\n",
    "    assert(False)\n",
    "    \n",
    "optimizer = optim.Adam(model.parameters(), lr=0.001, weight_decay=1e-2)"
   ]
  },
  {
   "cell_type": "code",
   "execution_count": null,
   "metadata": {
    "collapsed": true
   },
   "outputs": [],
   "source": []
  },
  {
   "cell_type": "code",
   "execution_count": 88,
   "metadata": {
    "scrolled": false
   },
   "outputs": [
    {
     "ename": "NameError",
     "evalue": "name 'train_data' is not defined",
     "output_type": "error",
     "traceback": [
      "\u001b[0;31m---------------------------------------------------------------------------\u001b[0m",
      "\u001b[0;31mNameError\u001b[0m                                 Traceback (most recent call last)",
      "\u001b[0;32m<ipython-input-88-b638cc75ea66>\u001b[0m in \u001b[0;36m<module>\u001b[0;34m()\u001b[0m\n\u001b[1;32m      2\u001b[0m \u001b[0;32mfor\u001b[0m \u001b[0mepoch\u001b[0m \u001b[0;32min\u001b[0m \u001b[0mrange\u001b[0m\u001b[0;34m(\u001b[0m\u001b[0mnum_epochs\u001b[0m\u001b[0;34m)\u001b[0m\u001b[0;34m:\u001b[0m\u001b[0;34m\u001b[0m\u001b[0m\n\u001b[1;32m      3\u001b[0m     \u001b[0mcur_loss\u001b[0m \u001b[0;34m=\u001b[0m \u001b[0;36m0.0\u001b[0m\u001b[0;34m\u001b[0m\u001b[0m\n\u001b[0;32m----> 4\u001b[0;31m     \u001b[0;32mfor\u001b[0m \u001b[0mbatch\u001b[0m \u001b[0;32min\u001b[0m \u001b[0mtrain_data\u001b[0m\u001b[0;34m:\u001b[0m\u001b[0;34m\u001b[0m\u001b[0m\n\u001b[0m\u001b[1;32m      5\u001b[0m         \u001b[0mx_batch\u001b[0m\u001b[0;34m,\u001b[0m \u001b[0my_batch\u001b[0m \u001b[0;34m=\u001b[0m \u001b[0;34m[\u001b[0m\u001b[0mVariable\u001b[0m\u001b[0;34m(\u001b[0m\u001b[0mb\u001b[0m\u001b[0;34m.\u001b[0m\u001b[0mfloat\u001b[0m\u001b[0;34m(\u001b[0m\u001b[0;34m)\u001b[0m\u001b[0;34m.\u001b[0m\u001b[0mcuda\u001b[0m\u001b[0;34m(\u001b[0m\u001b[0;34m)\u001b[0m\u001b[0;34m)\u001b[0m \u001b[0;32mfor\u001b[0m \u001b[0mb\u001b[0m \u001b[0;32min\u001b[0m \u001b[0mbatch\u001b[0m\u001b[0;34m]\u001b[0m\u001b[0;34m\u001b[0m\u001b[0m\n\u001b[1;32m      6\u001b[0m         \u001b[0;31m#print(x_batch.shape, y_batch.shape)\u001b[0m\u001b[0;34m\u001b[0m\u001b[0;34m\u001b[0m\u001b[0m\n",
      "\u001b[0;31mNameError\u001b[0m: name 'train_data' is not defined"
     ]
    }
   ],
   "source": [
    "num_epochs = 500\n",
    "for epoch in range(num_epochs):\n",
    "    cur_loss = 0.0\n",
    "    for batch in train_data:\n",
    "        x_batch, y_batch = [Variable(b.float().cuda()) for b in batch]\n",
    "        #print(x_batch.shape, y_batch.shape)\n",
    "\n",
    "        optimizer.zero_grad()\n",
    "        \n",
    "        y_hat = model(x_batch).squeeze()\n",
    "        #print(y_hat.shape, y_batch.shape)\n",
    "        loss = torch.sum((y_hat - y_batch)**2)\n",
    "        loss.backward()\n",
    "        \n",
    "        optimizer.step()\n",
    "        \n",
    "        cur_loss += loss.data[0]       \n",
    "    if (epoch % 100) == 0:\n",
    "        print(cur_loss/len(X))\n",
    "        \n",
    "nn_yhat = model(Variable(X.cuda())).cpu().data.numpy()\n",
    "nn_r2 = metrics.r2_score(y_true=y_np, y_pred=nn_yhat)\n",
    "nn_r2"
   ]
  },
  {
   "cell_type": "code",
   "execution_count": 244,
   "metadata": {},
   "outputs": [
    {
     "data": {
      "text/plain": [
       "(0.18588369398756557, 0.94999999999999996)"
      ]
     },
     "execution_count": 244,
     "metadata": {},
     "output_type": "execute_result"
    }
   ],
   "source": [
    "import sklearn.linear_model as lm\n",
    "l1_ratios = [0.05, 0.9, 0.95, 0.975, 0.99, 1.0]\n",
    "l1_ratios = 0.95\n",
    "linear = lm.ElasticNetCV(l1_ratio=l1_ratios,n_jobs=16, max_iter=50000)\n",
    "linear = linear.fit(X_np,y_np)\n",
    "linear.score(X_np, y_np), linear.l1_ratio_"
   ]
  },
  {
   "cell_type": "code",
   "execution_count": 245,
   "metadata": {},
   "outputs": [
    {
     "data": {
      "text/plain": [
       "(array([-0.38252327, -0.26156355, -0.14638951, -0.03651288, -0.11655316,\n",
       "         0.24442237, -0.        ,  0.22511331,  0.31630747,  0.78625227,\n",
       "        -0.45561428, -0.39152589, -0.0528592 , -0.25173359, -0.20893138,\n",
       "         0.07203317,  0.        ,  0.11356551,  0.27392495,  0.39773516,\n",
       "        -0.50492034, -0.169778  , -0.14777074, -0.10878965, -0.09908836,\n",
       "         0.09740385,  0.20443533,  0.27446906,  0.27962954,  0.37224324,\n",
       "        -0.37918831, -0.21182249, -0.00426374, -0.00558708, -0.00741934,\n",
       "         0.04276277,  0.04624854,  0.08753117,  0.08507991,  0.46117694,\n",
       "        -0.21643659, -0.13886039, -0.01949977, -0.        , -0.        ,\n",
       "         0.09295149,  0.04223832,  0.12374413,  0.20365189,  0.48602545,\n",
       "        -0.3072793 , -0.19175389, -0.        , -0.02968461,  0.05947182,\n",
       "         0.        ,  0.        ,  0.11900515,  0.09528772,  0.40201247,\n",
       "        -0.14706742, -0.        , -0.031775  , -0.05161284,  0.0389645 ,\n",
       "        -0.03711205,  0.02734217, -0.        ,  0.13499855,  0.20681497,\n",
       "        -0.20802082, -0.18451109, -0.03293106,  0.        ,  0.        ,\n",
       "        -0.        ,  0.        , -0.        ,  0.10708713,  0.24161575,\n",
       "        -0.16718393, -0.12421838,  0.        , -0.        , -0.        ,\n",
       "         0.10622859,  0.        ,  0.        ,  0.07621176,  0.23848787,\n",
       "        -0.29627214, -0.15066791, -0.        , -0.        ,  0.        ,\n",
       "         0.        , -0.        ,  0.        ,  0.08509476,  0.20650201,\n",
       "        -0.        , -0.        , -0.        , -0.        ,  0.00877155,\n",
       "         0.20039554,  0.00180057,  0.04444717,  0.        ,  0.00381996,\n",
       "         0.08858899,  0.        , -0.        , -0.        ,  0.20262536,\n",
       "         0.        ,  0.        ,  0.        , -0.04856057,  0.        ,\n",
       "         0.05590119,  0.07721257, -0.07802191,  0.        , -0.        ,\n",
       "         0.00373571, -0.        ,  0.18738082,  0.        ,  0.11314824,\n",
       "         0.08683905,  0.09000444,  0.        , -0.        ,  0.08717157,\n",
       "        -0.        , -0.        ,  0.06149882,  0.16887074,  0.03017663,\n",
       "         0.12350618,  0.00104133,  0.1125387 ,  0.15231448,  0.06598173,\n",
       "        -0.        ,  0.09482632,  0.11110879,  0.04051247,  0.03304518,\n",
       "         0.044426  ,  0.10681576,  0.09276562,  0.03811152,  0.        ,\n",
       "         0.004595  ,  0.10499189,  0.        ,  0.15903408,  0.06905134,\n",
       "         0.18690356,  0.        ,  0.        ,  0.18411069,  0.13208508,\n",
       "         0.0917493 ,  0.08796745,  0.0776028 ,  0.01448706,  0.17655201,\n",
       "         0.05972394,  0.00511428,  0.01111555,  0.04344682,  0.        ,\n",
       "        -0.        ,  0.03062475,  0.01784607,  0.        ,  0.07722209,\n",
       "         0.12148796,  0.00195156,  0.10184505, -0.00241217,  0.00780058,\n",
       "         0.        ,  0.10125438,  0.12188695,  0.06458066,  0.05746384,\n",
       "         0.04820368,  0.05667004,  0.06622864, -0.11882751, -0.08787104,\n",
       "         0.        , -0.        ,  0.        ,  0.088381  ,  0.06122069]),\n",
       " 0.0012617095467290975,\n",
       " 0.95)"
      ]
     },
     "execution_count": 245,
     "metadata": {},
     "output_type": "execute_result"
    }
   ],
   "source": [
    "linear.coef_, linear.intercept_, linear.l1_ratio"
   ]
  },
  {
   "cell_type": "code",
   "execution_count": 104,
   "metadata": {},
   "outputs": [
    {
     "ename": "IndexError",
     "evalue": "index 36 is out of bounds for axis 1 with size 36",
     "output_type": "error",
     "traceback": [
      "\u001b[0;31m---------------------------------------------------------------------------\u001b[0m",
      "\u001b[0;31mIndexError\u001b[0m                                Traceback (most recent call last)",
      "\u001b[0;32m<ipython-input-104-a32193f188b9>\u001b[0m in \u001b[0;36m<module>\u001b[0;34m()\u001b[0m\n\u001b[1;32m     10\u001b[0m \u001b[0;31m#bins.shape, spatial.shape\u001b[0m\u001b[0;34m\u001b[0m\u001b[0;34m\u001b[0m\u001b[0m\n\u001b[1;32m     11\u001b[0m \u001b[0mspatial_weights\u001b[0m \u001b[0;34m=\u001b[0m \u001b[0mnp\u001b[0m\u001b[0;34m.\u001b[0m\u001b[0mzeros\u001b[0m\u001b[0;34m(\u001b[0m\u001b[0;34m(\u001b[0m\u001b[0mnum_bins\u001b[0m\u001b[0;34m*\u001b[0m\u001b[0mnum_bins\u001b[0m\u001b[0;34m)\u001b[0m\u001b[0;34m)\u001b[0m\u001b[0;34m\u001b[0m\u001b[0m\n\u001b[0;32m---> 12\u001b[0;31m \u001b[0mspatial_weights\u001b[0m\u001b[0;34m[\u001b[0m\u001b[0mbins\u001b[0m\u001b[0;34m]\u001b[0m  \u001b[0;34m=\u001b[0m \u001b[0mspatial\u001b[0m\u001b[0;34m\u001b[0m\u001b[0m\n\u001b[0m\u001b[1;32m     13\u001b[0m \u001b[0mspatial_weights\u001b[0m \u001b[0;34m=\u001b[0m \u001b[0mspatial_weights\u001b[0m\u001b[0;34m.\u001b[0m\u001b[0mreshape\u001b[0m\u001b[0;34m(\u001b[0m\u001b[0mnum_bins\u001b[0m\u001b[0;34m,\u001b[0m\u001b[0mnum_bins\u001b[0m\u001b[0;34m)\u001b[0m\u001b[0;34m\u001b[0m\u001b[0m\n\u001b[1;32m     14\u001b[0m \u001b[0;34m\u001b[0m\u001b[0m\n",
      "\u001b[0;31mIndexError\u001b[0m: index 36 is out of bounds for axis 1 with size 36"
     ]
    }
   ],
   "source": [
    "bins = np.unique(df_train.loc[df_train['dt']==0,'bin'])\n",
    "# id = (bin_x*len(bins)) + bin_y\n",
    "coords = np.array([(b//num_bins) for b in bins])\n",
    "\n",
    "#nn_coef = model.linear.weight.data.cpu().numpy()\n",
    "\n",
    "spatial = linear.coef_[0:len(bins)]\n",
    "angular = linear.coef_[len(bins):]\n",
    "\n",
    "#bins.shape, spatial.shape\n",
    "spatial_weights = np.zeros((num_bins*num_bins))\n",
    "spatial_weights[bins]  = spatial\n",
    "spatial_weights = spatial_weights.reshape(num_bins,num_bins)\n",
    "\n",
    "angular_weights = np.zeros((num_bins*num_bins))\n",
    "angular_weights[bins]  = angular\n",
    "angular_weights = angular_weights.reshape(num_bins,num_bins)\n",
    "\n",
    "spatial.shape, angular.shape"
   ]
  },
  {
   "cell_type": "code",
   "execution_count": 105,
   "metadata": {
    "scrolled": false
   },
   "outputs": [
    {
     "ename": "NameError",
     "evalue": "name 'angular_weights' is not defined",
     "output_type": "error",
     "traceback": [
      "\u001b[0;31m---------------------------------------------------------------------------\u001b[0m",
      "\u001b[0;31mNameError\u001b[0m                                 Traceback (most recent call last)",
      "\u001b[0;32m<ipython-input-105-f477fddef93d>\u001b[0m in \u001b[0;36m<module>\u001b[0;34m()\u001b[0m\n\u001b[1;32m      1\u001b[0m \u001b[0;32mimport\u001b[0m \u001b[0mseaborn\u001b[0m \u001b[0;32mas\u001b[0m \u001b[0msns\u001b[0m\u001b[0;34m;\u001b[0m \u001b[0msns\u001b[0m\u001b[0;34m.\u001b[0m\u001b[0mset\u001b[0m\u001b[0;34m(\u001b[0m\u001b[0;34m)\u001b[0m\u001b[0;34m\u001b[0m\u001b[0m\n\u001b[1;32m      2\u001b[0m \u001b[0mfig\u001b[0m\u001b[0;34m,\u001b[0m \u001b[0max\u001b[0m \u001b[0;34m=\u001b[0m \u001b[0mplt\u001b[0m\u001b[0;34m.\u001b[0m\u001b[0msubplots\u001b[0m\u001b[0;34m(\u001b[0m\u001b[0;36m2\u001b[0m\u001b[0;34m,\u001b[0m \u001b[0msharex\u001b[0m\u001b[0;34m=\u001b[0m\u001b[0;32mFalse\u001b[0m\u001b[0;34m,\u001b[0m \u001b[0mfigsize\u001b[0m\u001b[0;34m=\u001b[0m\u001b[0;34m(\u001b[0m\u001b[0;36m20\u001b[0m\u001b[0;34m,\u001b[0m\u001b[0;36m20\u001b[0m\u001b[0;34m)\u001b[0m\u001b[0;34m)\u001b[0m\u001b[0;34m\u001b[0m\u001b[0m\n\u001b[0;32m----> 3\u001b[0;31m \u001b[0mvmin\u001b[0m \u001b[0;34m=\u001b[0m \u001b[0mmin\u001b[0m\u001b[0;34m(\u001b[0m\u001b[0mspatial_weights\u001b[0m\u001b[0;34m.\u001b[0m\u001b[0mmin\u001b[0m\u001b[0;34m(\u001b[0m\u001b[0;34m)\u001b[0m\u001b[0;34m,\u001b[0m \u001b[0mangular_weights\u001b[0m\u001b[0;34m.\u001b[0m\u001b[0mmin\u001b[0m\u001b[0;34m(\u001b[0m\u001b[0;34m)\u001b[0m\u001b[0;34m)\u001b[0m\u001b[0;34m\u001b[0m\u001b[0m\n\u001b[0m\u001b[1;32m      4\u001b[0m \u001b[0mvmax\u001b[0m \u001b[0;34m=\u001b[0m \u001b[0mmax\u001b[0m\u001b[0;34m(\u001b[0m\u001b[0mspatial_weights\u001b[0m\u001b[0;34m.\u001b[0m\u001b[0mmax\u001b[0m\u001b[0;34m(\u001b[0m\u001b[0;34m)\u001b[0m\u001b[0;34m,\u001b[0m \u001b[0mangular_weights\u001b[0m\u001b[0;34m.\u001b[0m\u001b[0mmax\u001b[0m\u001b[0;34m(\u001b[0m\u001b[0;34m)\u001b[0m\u001b[0;34m)\u001b[0m\u001b[0;34m\u001b[0m\u001b[0m\n\u001b[1;32m      5\u001b[0m \u001b[0max\u001b[0m\u001b[0;34m[\u001b[0m\u001b[0;36m0\u001b[0m\u001b[0;34m]\u001b[0m \u001b[0;34m=\u001b[0m \u001b[0msns\u001b[0m\u001b[0;34m.\u001b[0m\u001b[0mheatmap\u001b[0m\u001b[0;34m(\u001b[0m\u001b[0mspatial_weights\u001b[0m\u001b[0;34m.\u001b[0m\u001b[0mT\u001b[0m\u001b[0;34m,\u001b[0m \u001b[0max\u001b[0m\u001b[0;34m=\u001b[0m\u001b[0max\u001b[0m\u001b[0;34m[\u001b[0m\u001b[0;36m0\u001b[0m\u001b[0;34m]\u001b[0m\u001b[0;34m,\u001b[0m \u001b[0mcenter\u001b[0m\u001b[0;34m=\u001b[0m\u001b[0;36m0\u001b[0m\u001b[0;34m,\u001b[0m \u001b[0mvmin\u001b[0m\u001b[0;34m=\u001b[0m\u001b[0mvmin\u001b[0m\u001b[0;34m,\u001b[0m \u001b[0mvmax\u001b[0m\u001b[0;34m=\u001b[0m\u001b[0mvmax\u001b[0m\u001b[0;34m,\u001b[0m \u001b[0mannot\u001b[0m\u001b[0;34m=\u001b[0m\u001b[0;32mTrue\u001b[0m\u001b[0;34m)\u001b[0m\u001b[0;34m\u001b[0m\u001b[0m\n",
      "\u001b[0;31mNameError\u001b[0m: name 'angular_weights' is not defined"
     ]
    },
    {
     "data": {
      "image/png": "[encoded data removed]",
      "text/plain": [
       "<matplotlib.figure.Figure at 0x7f7a9154f390>"
      ]
     },
     "metadata": {},
     "output_type": "display_data"
    }
   ],
   "source": [
    "import seaborn as sns; sns.set()\n",
    "fig, ax = plt.subplots(2, sharex=False, figsize=(20,20))\n",
    "vmin = min(spatial_weights.min(), angular_weights.min())\n",
    "vmax = max(spatial_weights.max(), angular_weights.max())\n",
    "ax[0] = sns.heatmap(spatial_weights.T, ax=ax[0], center=0, vmin=vmin, vmax=vmax, annot=True)\n",
    "ax[1] = sns.heatmap(angular_weights.T, ax=ax[1], center=0, vmin=vmin, vmax=vmax, annot=True)\n",
    "\n",
    "ax[0].invert_yaxis()\n",
    "ax[0].set_ylabel(\"y\")\n",
    "ax[0].set_xlabel(\"x\")\n",
    "\n",
    "ax[1].invert_yaxis()\n",
    "ax[1].set_ylabel(\"y\")\n",
    "ax[1].set_xlabel(\"x\")\n",
    "\n",
    "fig.savefig(\"../../figures/linear_rf.pdf\", bbox_inches='tight', transparent=True)"
   ]
  },
  {
   "cell_type": "code",
   "execution_count": 53,
   "metadata": {},
   "outputs": [
    {
     "ename": "NameError",
     "evalue": "name 'model' is not defined",
     "output_type": "error",
     "traceback": [
      "\u001b[0;31m---------------------------------------------------------------------------\u001b[0m",
      "\u001b[0;31mNameError\u001b[0m                                 Traceback (most recent call last)",
      "\u001b[0;32m<ipython-input-53-588517a6f627>\u001b[0m in \u001b[0;36m<module>\u001b[0;34m()\u001b[0m\n\u001b[1;32m      2\u001b[0m \u001b[0menet_r2\u001b[0m \u001b[0;34m=\u001b[0m \u001b[0mmetrics\u001b[0m\u001b[0;34m.\u001b[0m\u001b[0mr2_score\u001b[0m\u001b[0;34m(\u001b[0m\u001b[0my_true\u001b[0m\u001b[0;34m=\u001b[0m\u001b[0my_np\u001b[0m\u001b[0;34m,\u001b[0m \u001b[0my_pred\u001b[0m\u001b[0;34m=\u001b[0m\u001b[0mlinear\u001b[0m\u001b[0;34m.\u001b[0m\u001b[0mpredict\u001b[0m\u001b[0;34m(\u001b[0m\u001b[0mX_np\u001b[0m\u001b[0;34m)\u001b[0m\u001b[0;34m,\u001b[0m \u001b[0;34m)\u001b[0m\u001b[0;34m\u001b[0m\u001b[0m\n\u001b[1;32m      3\u001b[0m \u001b[0;34m\u001b[0m\u001b[0m\n\u001b[0;32m----> 4\u001b[0;31m \u001b[0mnn_yhat\u001b[0m \u001b[0;34m=\u001b[0m \u001b[0mmodel\u001b[0m\u001b[0;34m(\u001b[0m\u001b[0mVariable\u001b[0m\u001b[0;34m(\u001b[0m\u001b[0mX\u001b[0m\u001b[0;34m.\u001b[0m\u001b[0mcuda\u001b[0m\u001b[0;34m(\u001b[0m\u001b[0;34m)\u001b[0m\u001b[0;34m)\u001b[0m\u001b[0;34m)\u001b[0m\u001b[0;34m.\u001b[0m\u001b[0mcpu\u001b[0m\u001b[0;34m(\u001b[0m\u001b[0;34m)\u001b[0m\u001b[0;34m.\u001b[0m\u001b[0mdata\u001b[0m\u001b[0;34m.\u001b[0m\u001b[0mnumpy\u001b[0m\u001b[0;34m(\u001b[0m\u001b[0;34m)\u001b[0m\u001b[0;34m\u001b[0m\u001b[0m\n\u001b[0m\u001b[1;32m      5\u001b[0m \u001b[0mnn_r2\u001b[0m \u001b[0;34m=\u001b[0m \u001b[0mmetrics\u001b[0m\u001b[0;34m.\u001b[0m\u001b[0mr2_score\u001b[0m\u001b[0;34m(\u001b[0m\u001b[0my_true\u001b[0m\u001b[0;34m=\u001b[0m\u001b[0my_np\u001b[0m\u001b[0;34m,\u001b[0m \u001b[0my_pred\u001b[0m\u001b[0;34m=\u001b[0m\u001b[0mnn_yhat\u001b[0m\u001b[0;34m)\u001b[0m\u001b[0;34m\u001b[0m\u001b[0m\n\u001b[1;32m      6\u001b[0m \u001b[0;34m\u001b[0m\u001b[0m\n",
      "\u001b[0;31mNameError\u001b[0m: name 'model' is not defined"
     ]
    }
   ],
   "source": [
    "from sklearn import metrics\n",
    "enet_r2 = metrics.r2_score(y_true=y_np, y_pred=linear.predict(X_np), )\n",
    "\n",
    "nn_yhat = model(Variable(X.cuda())).cpu().data.numpy()\n",
    "nn_r2 = metrics.r2_score(y_true=y_np, y_pred=nn_yhat)\n",
    "\n",
    "mean_yhat = np.ones_like(y_np) * y_np.mean()\n",
    "mean_r2 = metrics.r2_score(y_true=y_np, y_pred=mean_yhat)\n",
    "\n",
    "enet_r2, nn_r2, mean_r2"
   ]
  },
  {
   "cell_type": "code",
   "execution_count": 199,
   "metadata": {},
   "outputs": [
    {
     "data": {
      "text/plain": [
       "(SpearmanrResult(correlation=0.60644786758294666, pvalue=0.0),\n",
       " SpearmanrResult(correlation=0.43643839654760164, pvalue=0.0))"
      ]
     },
     "execution_count": 199,
     "metadata": {},
     "output_type": "execute_result"
    }
   ],
   "source": [
    "from scipy import stats\n",
    "stats.spearmanr(y_np, nn_yhat), stats.spearmanr(y_np, linear.predict(X_np))"
   ]
  },
  {
   "cell_type": "code",
   "execution_count": 200,
   "metadata": {},
   "outputs": [
    {
     "data": {
      "text/plain": [
       "((0.62001261278373576, 0.0), (0.40610786442873847, 1.4018710549604388e-267))"
      ]
     },
     "execution_count": 200,
     "metadata": {},
     "output_type": "execute_result"
    }
   ],
   "source": [
    "stats.pearsonr(y_np, nn_yhat.reshape(-1)), stats.pearsonr(y_np, linear.predict(X_np))"
   ]
  },
  {
   "cell_type": "code",
   "execution_count": null,
   "metadata": {
    "collapsed": true
   },
   "outputs": [],
   "source": []
  },
  {
   "cell_type": "code",
   "execution_count": 197,
   "metadata": {},
   "outputs": [
    {
     "data": {
      "text/plain": [
       "array([-16.93112085, -31.76326696,  -7.64529782,  -3.59212962,\n",
       "        -4.06401436,  -3.03448031,  -3.41204614,  -3.85854797,\n",
       "        -2.05692904,   0.04531027, -13.32324271, -11.836868  ,\n",
       "       -10.23495848,   3.72818441,   2.9618917 ,   9.39424329,\n",
       "         8.85686787,  12.569053  ,  15.91229089,  13.98130447])"
      ]
     },
     "execution_count": 197,
     "metadata": {},
     "output_type": "execute_result"
    }
   ],
   "source": [
    "np.rad2deg(linear.predict(X_np[1000:1020]))"
   ]
  },
  {
   "cell_type": "code",
   "execution_count": 201,
   "metadata": {},
   "outputs": [
    {
     "data": {
      "text/plain": [
       "array([ 13.80802822,  10.46589947,  -6.35628891,  -9.49772167,\n",
       "        10.11976242,  -4.03365898,   2.3268702 ,   9.58086395,\n",
       "         8.00052357,  13.56545448,  -0.81038898,  -3.48391795,\n",
       "         4.15974474,  10.85007858,   7.46649361,  -4.04448795,\n",
       "        -0.87230808,  -1.08330667,  29.10732079,  30.06996727,\n",
       "        46.64704514,  56.5621376 ,  16.21183586,  19.98330116,\n",
       "        -0.37831295,  -4.47730589,  -5.85468149,  -8.7481699 ,\n",
       "        -9.49629879, -14.81051636,  -2.63900137,  -8.59558868,\n",
       "         7.81731939,   3.75745678,  -4.61072588,   5.6056633 ,\n",
       "        -1.69081569,   8.82342625,  -3.58107567,   3.2424984 ,\n",
       "        11.85943508,  47.08305359, -32.27326202,  14.21996689,\n",
       "        -5.65400362,  -3.99361491, -15.40697479,   8.74664307,\n",
       "        -6.97970247,  -3.3785367 ], dtype=float32)"
      ]
     },
     "execution_count": 201,
     "metadata": {},
     "output_type": "execute_result"
    }
   ],
   "source": [
    "np.rad2deg(model(Variable(X[:,1100:1150,:]).cuda()).data.cpu().numpy().reshape(-1))"
   ]
  },
  {
   "cell_type": "code",
   "execution_count": 203,
   "metadata": {},
   "outputs": [
    {
     "data": {
      "text/plain": [
       "array([  -6.94387084,   34.335279  ,    3.39304672,   28.22109172,\n",
       "         16.23704332,    0.66334456,    6.92503317,    1.94032184,\n",
       "          0.85628033,   29.80267326,   37.13291765,  -18.34427619,\n",
       "          0.31463267,   15.24667952,   16.77373569,   -9.28099426,\n",
       "        -10.38270033,  -25.38860203,   30.12810101,   32.21053524,\n",
       "         56.39403233,   82.88513786,   59.62839159,   64.0813985 ,\n",
       "          9.21820091,   14.25720022,   12.04301691,    5.64847079,\n",
       "        -11.3775925 ,   12.29223682,    8.83359291,   15.41194281,\n",
       "          5.55182023,   19.10348245,  -19.79179989, -108.67670058,\n",
       "          0.91454867,   15.827109  ,  -10.20828462,   11.86007195,\n",
       "         47.32717648,   38.78633055,  -21.73100156,    6.81715717,\n",
       "         -0.83683478,   -5.00850941,   -6.60054455,   -7.75758543,\n",
       "         -6.12008855,  -14.87951931])"
      ]
     },
     "execution_count": 203,
     "metadata": {},
     "output_type": "execute_result"
    }
   ],
   "source": [
    "np.rad2deg(y_np[1100:1150])"
   ]
  },
  {
   "cell_type": "code",
   "execution_count": null,
   "metadata": {
    "collapsed": true
   },
   "outputs": [],
   "source": []
  }
 ],
 "metadata": {
  "kernelspec": {
   "display_name": "Python 3",
   "language": "python",
   "name": "python3"
  },
  "language_info": {
   "codemirror_mode": {
    "name": "ipython",
    "version": 3
   },
   "file_extension": ".py",
   "mimetype": "text/x-python",
   "name": "python",
   "nbconvert_exporter": "python",
   "pygments_lexer": "ipython3",
   "version": "3.6.3"
  }
 },
 "nbformat": 4,
 "nbformat_minor": 2
}
