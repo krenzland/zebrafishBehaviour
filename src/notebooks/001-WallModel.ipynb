{
 "cells": [
  {
   "cell_type": "markdown",
   "metadata": {},
   "source": [
    "Check also https://www.authorea.com/users/173169/articles/208172-october-25-2017-summary-of-individual-fish-stochastic-swimming-model-and-fitting-results\n",
    "\n",
    "Check coordinate system."
   ]
  },
  {
   "cell_type": "code",
   "execution_count": 2,
   "metadata": {},
   "outputs": [],
   "source": [
    "%matplotlib inline\n",
    "import numpy as np\n",
    "import dill as pickle\n",
    "import pandas as pd\n",
    "import matplotlib.pyplot as plt\n",
    "import seaborn as sns\n",
    "from scipy.optimize import curve_fit\n",
    "import sys\n",
    "sys.path.append('../')\n",
    "from numba import jit\n",
    "\n",
    "from scipy.optimize import minimize, least_squares, curve_fit\n",
    "from scipy.integrate import quad\n",
    "from scipy.stats import spearmanr\n",
    "from sklearn.mixture import GaussianMixture\n",
    "from calovi import WallModel, SocialModel, KickModel\n",
    "from plots import *\n",
    "\n",
    "import sklearn.model_selection as cv\n",
    "np.set_printoptions(suppress=True)"
   ]
  },
  {
   "cell_type": "code",
   "execution_count": 3,
   "metadata": {
    "scrolled": false
   },
   "outputs": [
    {
     "name": "stdout",
     "output_type": "stream",
     "text": [
      "0.8741897206439544 0.14554872577832126\n",
      "Multiplier is 0.12723719992823418\n"
     ]
    },
    {
     "data": {
      "image/png": "[encoded data removed]",
      "text/plain": [
       "<matplotlib.figure.Figure at 0x7f1064251b00>"
      ]
     },
     "metadata": {},
     "output_type": "display_data"
    },
    {
     "data": {
      "image/png": "[encoded data removed]",
      "text/plain": [
       "<matplotlib.figure.Figure at 0x7f105ca8ac50>"
      ]
     },
     "metadata": {},
     "output_type": "display_data"
    }
   ],
   "source": [
    "with open('../../models/calovi_wall.model', 'rb') as file:\n",
    "    wall_model = pickle.load(file)\n",
    "    \n",
    "def get_norm_const(OCur, angles):\n",
    "    return 1/(2*np.pi) * quad(lambda a: OCur(a)**2, -np.pi, np.pi)[0]\n",
    "\n",
    "fCur = lambda dist: wall_model.wall_force(dist)\n",
    "OCur = lambda angle: wall_model.wall_repulsion(angle)\n",
    "norm_const = get_norm_const(OCur, np.linspace(-np.pi, np.pi))\n",
    "#norm_const = 1.0/wall_model.scale\n",
    "print(wall_model.scale, norm_const)\n",
    "print(f\"Multiplier is {norm_const * wall_model.scale}\")\n",
    "\n",
    "fig, ax = plt.subplots(figsize=get_figsize(col_widths['paper'], wf=0.5) )    \n",
    "ax.plot(np.linspace(0, 15), fCur(np.linspace(0,15)), c='black')\n",
    "ax.set_xlabel(r\"Wall distance $r_w [\\si{\\cm}]$\")\n",
    "ax.set_ylabel(\"Wall strength\")\n",
    "ax.set_xticks([0, 5, 10, 15])\n",
    "fig.tight_layout()\n",
    "sns.despine(fig, ax)\n",
    "fig.savefig('../../figures/wall_force.pdf', transparent=True)    \n",
    "\n",
    "fig, ax = plt.subplots(figsize=get_figsize(col_widths['paper'], wf=0.5))\n",
    "ax.plot(np.rad2deg(np.linspace(-np.pi, np.pi, num=100)), \n",
    "        np.rad2deg(OCur(np.linspace(-np.pi, np.pi, num=100)))*wall_model.scale,\n",
    "        c='black')\n",
    "plt.axhline(0, linestyle='dotted', c='black')\n",
    "ax.axvline(90, linestyle='dotted', c='black')\n",
    "ax.axvline(0.0, linestyle='dotted', c='black')\n",
    "ax.axvline(-90, linestyle='dotted', c='black')\n",
    "x_ticks = [-180, -90, 0, 90, 180]\n",
    "ax.set_xticks(x_ticks)\n",
    "ax.set_xticklabels([r\"\\ang{-180}\",r\"\\ang{-90}\",r\"\\ang{0}\",r\"\\ang{90}\",r\"\\ang{180}\" ])\n",
    "ax.set_xlim(-180, 180)\n",
    "ax.set_xlabel(r\"Relative wall angle $\\theta_w$\")\n",
    "ax.set_ylabel(r\"Heading change\")\n",
    "fig.tight_layout()\n",
    "sns.despine(fig, ax)\n",
    "fig.savefig('../../figures/wall_odd.pdf', transparent=True)\n"
   ]
  }
 ],
 "metadata": {
  "kernelspec": {
   "display_name": "Python 3",
   "language": "python",
   "name": "python3"
  },
  "language_info": {
   "codemirror_mode": {
    "name": "ipython",
    "version": 3
   },
   "file_extension": ".py",
   "mimetype": "text/x-python",
   "name": "python",
   "nbconvert_exporter": "python",
   "pygments_lexer": "ipython3",
   "version": "3.6.4"
  }
 },
 "nbformat": 4,
 "nbformat_minor": 2
}
