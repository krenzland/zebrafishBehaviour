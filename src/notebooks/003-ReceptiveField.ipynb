{
 "cells": [
  {
   "cell_type": "code",
   "execution_count": 1,
   "metadata": {},
   "outputs": [],
   "source": [
    "%matplotlib inline\n",
    "import numpy as np\n",
    "import pandas as pd\n",
    "import sys\n",
    "import matplotlib.pyplot as plt\n",
    "from matplotlib import patches\n",
    "\n",
    "sys.path.append('..')#\n",
    "from util import add_angles, angle_between, angled_vector, sub_angles, get_rotation_matrix\n",
    "from calovi import WallModel\n",
    "from binning import wall_neglible_at, transform_coords_df\n",
    "from plots import *"
   ]
  },
  {
   "cell_type": "code",
   "execution_count": 2,
   "metadata": {},
   "outputs": [
    {
     "data": {
      "text/plain": [
       "{'beamer': 307.28987, 'full': 468.3323, 'margin': 144, 'paper': 312}"
      ]
     },
     "execution_count": 2,
     "metadata": {},
     "output_type": "execute_result"
    }
   ],
   "source": [
    "col_widths"
   ]
  },
  {
   "cell_type": "code",
   "execution_count": 3,
   "metadata": {},
   "outputs": [
    {
     "data": {
      "text/plain": [
       "3.1415826535897935"
      ]
     },
     "execution_count": 3,
     "metadata": {},
     "output_type": "execute_result"
    }
   ],
   "source": [
    "R = get_rotation_matrix(np.deg2rad(270))\n",
    "R @ np.array([1,0])\n",
    "add_angles(-np.pi, -0.00001)"
   ]
  },
  {
   "cell_type": "code",
   "execution_count": 4,
   "metadata": {},
   "outputs": [
    {
     "data": {
      "image/png": "[encoded data removed]",
      "text/plain": [
       "<matplotlib.figure.Figure at 0x7fe9f661f6a0>"
      ]
     },
     "metadata": {},
     "output_type": "display_data"
    },
    {
     "data": {
      "image/png": "[encoded data removed]",
      "text/plain": [
       "<matplotlib.figure.Figure at 0x7fe9f611ef98>"
      ]
     },
     "metadata": {},
     "output_type": "display_data"
    }
   ],
   "source": [
    "def plot_grid(p1, p2, traj1, traj2, ax):\n",
    "    ax.scatter(p1[0], p1[1], c='r')\n",
    "    ax.scatter(p2[0], p2[1], c='gray')\n",
    "\n",
    "    ax.plot([p1[0], p1[0] + traj1[0]], [p1[1], p1[1] + traj1[1]], c='r')\n",
    "    ax.plot([p2[0], p2[0] + traj2[0]], [p2[1], p2[1] + traj2[1]], c='gray')\n",
    "\n",
    "    ax.set_xbound(-5, 5)\n",
    "    ax.set_ybound(-5, 5)\n",
    "    \n",
    "\n",
    "    ax.set_xlabel(\"x\")\n",
    "    ax.set_ylabel(\"y\")\n",
    " \n",
    "wf = {'margin': 1.0,\n",
    "     'beamer': 0.5}\n",
    "\n",
    "for target in ['margin', 'beamer']:\n",
    "    fig, ax = plt.subplots(figsize=get_figsize(col_widths[target], wf=wf[target]))\n",
    "    pos1, pos2 = np.array([1,1]), np.array([1,3])\n",
    "    ang1, ang2 = np.deg2rad([-90, 45])\n",
    "    traj1, traj2 = angled_vector(ang1) * 2, angled_vector(ang2) * 2\n",
    "\n",
    "    plot_grid(pos1, pos2, traj1, traj2, ax)\n",
    "    sns.despine(fig, ax)\n",
    "\n",
    "    fig.tight_layout()\n",
    "    fig.savefig(f'../../figures/receptive_field_before_{target}.pdf', transparent=True)"
   ]
  },
  {
   "cell_type": "code",
   "execution_count": 5,
   "metadata": {},
   "outputs": [
    {
     "data": {
      "image/png": "[encoded data removed]",
      "text/plain": [
       "<matplotlib.figure.Figure at 0x7fe9f5429588>"
      ]
     },
     "metadata": {},
     "output_type": "display_data"
    },
    {
     "data": {
      "image/png": "[encoded data removed]",
      "text/plain": [
       "<matplotlib.figure.Figure at 0x7fe9f615d828>"
      ]
     },
     "metadata": {},
     "output_type": "display_data"
    }
   ],
   "source": [
    "# RF\n",
    "# 1. Rotate coord system.\n",
    "R = get_rotation_matrix(-ang1)\n",
    "pos1_rot = R @ pos1.reshape(2,1)\n",
    "pos2_rot = R @ pos2.reshape(2,1)\n",
    "traj1_rot = R @ traj1\n",
    "traj2_rot = R @ traj2\n",
    "# 2. Set p1 at center (0,0) and adjust other\n",
    "pos2_rot -= pos1_rot\n",
    "pos1_rot = np.array([0.0, 0.0])\n",
    "ang1_rot = 0.0\n",
    "ang2_rot = sub_angles(ang2,ang1)\n",
    "# 3. Plot\n",
    "for target in ['margin', 'beamer']:\n",
    "    fig, ax = plt.subplots(figsize=get_figsize(col_widths[target], wf=wf[target]))\n",
    "    plot_grid(pos1_rot, pos2_rot, traj1_rot, traj2_rot, ax)\n",
    "\n",
    "    sns.despine(fig, ax)\n",
    "    fig.tight_layout()\n",
    "\n",
    "    fig.savefig(f'../../figures/receptive_field_after_{target}.pdf', transparent=True)"
   ]
  },
  {
   "cell_type": "code",
   "execution_count": 34,
   "metadata": {},
   "outputs": [
    {
     "name": "stdout",
     "output_type": "stream",
     "text": [
      "[ 2  3  4  5  6  9 10 11 12 13 14 15 16 17 18 19 20 21 22 23 24 25 26 27\n",
      " 28 29 30 31 32 33 34 35 36 37 38 39 40 41 42 43 44 45 46 48 49 52 53 58\n",
      " 59 60 61] \n",
      " [   6    1    9    5    5    1   15   27   12    3    6    4    1   14\n",
      "   40  272  226   56    9    5   17   57  491 7460 5550  366   20   13\n",
      "   16   27  524 6014 8002  413   32    7   10    8   25  183  225   79\n",
      "    5    7    9   19    7    6    3   10    2]\n"
     ]
    },
    {
     "data": {
      "text/plain": [
       "(473.8125, 1645.7143288990803, 51)"
      ]
     },
     "execution_count": 34,
     "metadata": {},
     "output_type": "execute_result"
    },
    {
     "data": {
      "image/png": "[encoded data removed]",
      "text/plain": [
       "<matplotlib.figure.Figure at 0x7f62a1a794a8>"
      ]
     },
     "metadata": {},
     "output_type": "display_data"
    }
   ],
   "source": [
    "def analyze_bins(df):\n",
    "    bins, counts = np.unique(df['bin'], return_counts=True)\n",
    "    print(bins,'\\n', counts)\n",
    "\n",
    "    # Include zero bins\n",
    "    #bins_complete = np.zeros((num_bins+1, num_bins+1))\n",
    "    #x_bins, y_bins = bins % num_bins, bins // num_bins\n",
    "    #x_bins\n",
    "    bins_complete = np.zeros((num_bins)**2)\n",
    "    bins_complete[bins] = counts\n",
    "    bins_complete = bins_complete.reshape((num_bins, num_bins))\n",
    "    sns.heatmap(bins_complete)\n",
    "    return bins_complete.mean(), bins_complete.std(), len(bins)\n",
    "analyze_bins(df_test)"
   ]
  },
  {
   "cell_type": "code",
   "execution_count": 6,
   "metadata": {},
   "outputs": [],
   "source": [
    "df_rf_te = pd.read_csv('../../data/processed/rf_test.csv')\n",
    "df_rf_tr = pd.read_csv('../../data/processed/rf_train.csv')\n",
    "\n",
    "#df_rf_tr = df_rf_tr[df_rf_tr['dt'] == 0]\n",
    "#df_rf_te = df_rf_te[df_rf_te['dt'] == 0]"
   ]
  },
  {
   "cell_type": "code",
   "execution_count": 7,
   "metadata": {},
   "outputs": [
    {
     "ename": "NameError",
     "evalue": "name 'df_train' is not defined",
     "output_type": "error",
     "traceback": [
      "\u001b[0;31m---------------------------------------------------------------------------\u001b[0m",
      "\u001b[0;31mNameError\u001b[0m                                 Traceback (most recent call last)",
      "\u001b[0;32m<ipython-input-7-23525a2ff7cb>\u001b[0m in \u001b[0;36m<module>\u001b[0;34m()\u001b[0m\n\u001b[1;32m      1\u001b[0m \u001b[0mdf_kicks_tr\u001b[0m \u001b[0;34m=\u001b[0m \u001b[0mpd\u001b[0m\u001b[0;34m.\u001b[0m\u001b[0mread_csv\u001b[0m\u001b[0;34m(\u001b[0m\u001b[0;34m'../../data/processed/kicks_guy_train.csv'\u001b[0m\u001b[0;34m)\u001b[0m\u001b[0;34m\u001b[0m\u001b[0m\n\u001b[1;32m      2\u001b[0m \u001b[0mdf_kicks_te\u001b[0m \u001b[0;34m=\u001b[0m \u001b[0mpd\u001b[0m\u001b[0;34m.\u001b[0m\u001b[0mread_csv\u001b[0m\u001b[0;34m(\u001b[0m\u001b[0;34m'../../data/processed/kicks_guy_test.csv'\u001b[0m\u001b[0;34m)\u001b[0m\u001b[0;34m\u001b[0m\u001b[0m\n\u001b[0;32m----> 3\u001b[0;31m \u001b[0mdf_rf_tr\u001b[0m\u001b[0;34m.\u001b[0m\u001b[0mshape\u001b[0m\u001b[0;34m,\u001b[0m \u001b[0mdf_rf_te\u001b[0m\u001b[0;34m.\u001b[0m\u001b[0mshape\u001b[0m\u001b[0;34m,\u001b[0m \u001b[0;34m(\u001b[0m\u001b[0mdf_train\u001b[0m\u001b[0;34m[\u001b[0m\u001b[0;34m'dt'\u001b[0m\u001b[0;34m]\u001b[0m \u001b[0;34m==\u001b[0m \u001b[0;36m0\u001b[0m\u001b[0;34m)\u001b[0m\u001b[0;34m.\u001b[0m\u001b[0msum\u001b[0m\u001b[0;34m(\u001b[0m\u001b[0;34m)\u001b[0m\u001b[0;34m\u001b[0m\u001b[0m\n\u001b[0m",
      "\u001b[0;31mNameError\u001b[0m: name 'df_train' is not defined"
     ]
    }
   ],
   "source": [
    "df_kicks_tr = pd.read_csv('../../data/processed/kicks_guy_train.csv')\n",
    "df_kicks_te = pd.read_csv('../../data/processed/kicks_guy_test.csv')\n",
    "df_rf_tr.shape, df_rf_te.shape, (df_train['dt'] == 0).sum()"
   ]
  },
  {
   "cell_type": "code",
   "execution_count": 286,
   "metadata": {},
   "outputs": [
    {
     "name": "stdout",
     "output_type": "stream",
     "text": [
      "4.812479587209935\n"
     ]
    }
   ],
   "source": [
    "with open('../../models/calovi_wall.model', mode='rb') as f:\n",
    "    wall_model = pickle.load(f)\n",
    "\n",
    "cutoff_wall_range = binning.wall_neglible_at(wall_model)\n",
    "print(cutoff_wall_range)\n",
    "\n",
    "df_train = transform_coords_df(df_kicks_tr.copy(), cutoff_wall_range=cutoff_wall_range)\n",
    "df_test = transform_coords_df(df_kicks_te.copy(), cutoff_wall_range=cutoff_wall_range) \n",
    "\n",
    "#df_train = df_train[df_train['dt'] == 0]\n",
    "#df_test = df_test[df_test['dt'] == 0]"
   ]
  },
  {
   "cell_type": "code",
   "execution_count": 287,
   "metadata": {},
   "outputs": [
    {
     "name": "stdout",
     "output_type": "stream",
     "text": [
      "13.895965569140376\n"
     ]
    }
   ],
   "source": [
    "bins = binning.get_bins_static(df_train, num_bins=8, ignore_outliers=False)"
   ]
  },
  {
   "cell_type": "code",
   "execution_count": 288,
   "metadata": {},
   "outputs": [
    {
     "name": "stdout",
     "output_type": "stream",
     "text": [
      "Before clipping 0 0 7 7\n",
      "After clipping 0 0 7 7\n",
      "0 7 7\n",
      "Before clipping 0 -1 7 8\n",
      "After clipping 0 0 7 7\n",
      "0 7 7\n"
     ]
    }
   ],
   "source": [
    "def digitize_df_static(df, bins, num_bins, closed_interval=True):\n",
    "    # TODO: Open intervals on both sides!\n",
    "    bin_x = np.digitize(df['x_f1'], bins=bins) - 1\n",
    "    bin_y = np.digitize(df['y_f1'], bins=bins) - 1\n",
    "    \n",
    "    print('Before clipping', bin_x.min(), bin_y.min(), bin_x.max(), bin_y.max())\n",
    "    # Clip to range\n",
    "    bin_x = bin_x.clip(0, num_bins-1)\n",
    "    bin_y = bin_y.clip(0, num_bins-1)\n",
    "    print('After clipping', bin_x.min(), bin_y.min(), bin_x.max(), bin_y.max())\n",
    "\n",
    "    print(bin_x.min(), bin_x.max(), bin_y.max())\n",
    "    \n",
    "    bin = (bin_x*num_bins) + bin_y\n",
    "    if closed_interval:\n",
    "        # Fish outside range have bin -1\n",
    "        bin[(df['x_f1'] <= bins.min()) | (df['y_f1'] <= bins.min()) |\n",
    "           (df['x_f1'] >= bins.max()) | (df['y_f1'] >= bins.max())] = -1\n",
    "    \n",
    "    return bin\n",
    "bins_static_tr = digitize_df_static(df_train,bins,8, closed_interval=False)\n",
    "bins_static_te = digitize_df_static(df_test,bins,8, closed_interval=False)"
   ]
  },
  {
   "cell_type": "code",
   "execution_count": 10,
   "metadata": {},
   "outputs": [],
   "source": [
    "def print_statistic(bins):\n",
    "    bins, counts = np.unique(bins, return_counts=True)\n",
    "    total_counts = np.zeros(64)\n",
    "    total_counts[bins] = counts\n",
    "    print(total_counts.mean(), total_counts.std(), len(total_counts) - len(counts))\n",
    "    \n",
    "#print_statistic(bins_static_tr), print_statistic(bins_static_te);"
   ]
  },
  {
   "cell_type": "code",
   "execution_count": 11,
   "metadata": {},
   "outputs": [
    {
     "ename": "NameError",
     "evalue": "name 'bins_static' is not defined",
     "output_type": "error",
     "traceback": [
      "\u001b[0;31m---------------------------------------------------------------------------\u001b[0m",
      "\u001b[0;31mNameError\u001b[0m                                 Traceback (most recent call last)",
      "\u001b[0;32m<ipython-input-11-723ff1064b00>\u001b[0m in \u001b[0;36m<module>\u001b[0;34m()\u001b[0m\n\u001b[0;32m----> 1\u001b[0;31m \u001b[0mbins_static\u001b[0m\u001b[0;34m.\u001b[0m\u001b[0mshape\u001b[0m\u001b[0;34m,\u001b[0m \u001b[0mbins\u001b[0m\u001b[0;34m.\u001b[0m\u001b[0mshape\u001b[0m\u001b[0;34m\u001b[0m\u001b[0m\n\u001b[0m",
      "\u001b[0;31mNameError\u001b[0m: name 'bins_static' is not defined"
     ]
    }
   ],
   "source": []
  },
  {
   "cell_type": "code",
   "execution_count": 19,
   "metadata": {},
   "outputs": [
    {
     "name": "stdout",
     "output_type": "stream",
     "text": [
      "554.5 162.35426157018486 0\n"
     ]
    }
   ],
   "source": [
    "import dill as pickle\n",
    "import binning\n",
    "with open('../../models/adaptive_bins.model', 'rb') as file:\n",
    "    edges = pickle.load(file)\n",
    "\n",
    "edges_x, edges_y, num_bins = edges['edges_x'], edges['edges_y'], edges['num_bins']\n",
    "\n",
    "edges_x.shape ,edges_y.shape\n",
    "\n",
    "# Reverse one hot encoding of receptive field file!\n",
    "features = [f'feature_{i}' for i in range(64)]\n",
    "bins = df_rf_te[features].idxmax(axis=1).values\n",
    "bins = np.array([int(b.split('_')[1]) for b in bins])\n",
    "weights = np.unique(bins, return_counts=True)[1]#.reshape(8,8)[1:-1,:].reshape(-1)\n",
    "print_statistic(bins)"
   ]
  },
  {
   "cell_type": "code",
   "execution_count": 21,
   "metadata": {
    "scrolled": false
   },
   "outputs": [
    {
     "name": "stdout",
     "output_type": "stream",
     "text": [
      "842 224\n",
      "842 224\n"
     ]
    },
    {
     "name": "stderr",
     "output_type": "stream",
     "text": [
      "/home/lukas/bin/anaconda3/lib/python3.6/site-packages/matplotlib/figure.py:2022: UserWarning: This figure includes Axes that are not compatible with tight_layout, so results might be incorrect.\n",
      "  warnings.warn(\"This figure includes Axes that are not compatible \"\n"
     ]
    },
    {
     "data": {
      "image/png": "[encoded data removed]",
      "text/plain": [
       "<matplotlib.figure.Figure at 0x7fe9f5c6ca90>"
      ]
     },
     "metadata": {},
     "output_type": "display_data"
    },
    {
     "data": {
      "image/png": "[encoded data removed]",
      "text/plain": [
       "<matplotlib.figure.Figure at 0x7fe9f663bc88>"
      ]
     },
     "metadata": {},
     "output_type": "display_data"
    }
   ],
   "source": [
    "from matplotlib import cm\n",
    "from matplotlib.colors import Normalize\n",
    "\n",
    "\n",
    "# See: https://stackoverflow.com/questions/20144529/shifted-colorbar-matplotlib/20146989#20146989\n",
    "class DivergentNormalize(Normalize):\n",
    "    def __init__(self, vmin=None, vmax=None, clip=False):\n",
    "        Normalize.__init__(self, vmin, vmax, clip)\n",
    "        print(self.vmax, self.vmin)\n",
    "        \n",
    "    def __call__(self, value, clip=None):\n",
    "        x, y = [self.vmin, 0.0, self.vmax], [0, 0.5, 1]\n",
    "        return np.ma.masked_array(np.interp(value, x, y))\n",
    "\n",
    "def plot_bins(edges_x, edges_y, weights=None, weights_range=None,\n",
    "              fig=None, ax=None, xlim=[-15,15], ylim=[-15,15]):\n",
    "    nun_bins = len(edges_x) - 1\n",
    "    edge_x_sizes = np.ediff1d(edges_x)\n",
    "\n",
    "    if fig is None or ax is None:\n",
    "        fig, ax = plt.subplots(figsize=(20,20))        \n",
    "    \n",
    "    if weights is None:\n",
    "        color = lambda x: 'white'\n",
    "    else:\n",
    "        if weights_range is None:\n",
    "            vmin, vmax = weights.min(), weights.max()\n",
    "        else:\n",
    "            vmin, vmax = weights_range\n",
    "        norm = DivergentNormalize(vmin=vmin, vmax=vmax)\n",
    "        mapper = cm.ScalarMappable(norm=norm, cmap=cm.RdBu)\n",
    "        mapper.set_array(weights)\n",
    "        def color(x):\n",
    "            w = weights[x]\n",
    "            return mapper.to_rgba(w)\n",
    "        \n",
    "    for i, edge_x in enumerate(edges_x[:-1]):\n",
    "        cur_y_edges = edges_y[i, :]\n",
    "        cur_edge_y_sizes = np.ediff1d(cur_y_edges)    \n",
    "        for j, edge_y in enumerate(cur_y_edges[:-1]):\n",
    "            ax.add_patch(\n",
    "                patches.Rectangle(\n",
    "                (edge_x, edge_y),\n",
    "                edge_x_sizes[i],\n",
    "                cur_edge_y_sizes[j],\n",
    "                fill=True,\n",
    "                facecolor=color(i*num_bins + j),\n",
    "                edgecolor='black',\n",
    "                linewidth=0.1))\n",
    "\n",
    "    # TODO: Don't hardcore!\n",
    "    ax.set_xlim(xlim)\n",
    "    ax.set_ylim(ylim)\n",
    "\n",
    "    ax.scatter(0,0, c='red', s=100, marker='x', zorder=10, linewidth=1)\n",
    "    ax.axis('off')\n",
    "    \n",
    "    if weights is not None:\n",
    "        return mapper # for colorbar \n",
    "\n",
    "for target in ['paper', 'beamer']:\n",
    "    fig, ax = plt.subplots(figsize=get_figsize(col_widths['paper']))\n",
    "    mapper = plot_bins(edges_x,\n",
    "                       edges_y,\n",
    "                       weights=weights,\n",
    "                       fig=fig,\n",
    "                       ax=ax)\n",
    "    #fig.set_size_inches(5,5)\n",
    "    fig.colorbar(mapper, shrink=0.7)\n",
    "    fig.set_tight_layout(True)\n",
    "    fig.savefig(f'../../figures/rf_occupancy_test_{target}.pdf', transparent=True)"
   ]
  },
  {
   "cell_type": "code",
   "execution_count": 46,
   "metadata": {},
   "outputs": [
    {
     "name": "stdout",
     "output_type": "stream",
     "text": [
      "842 224\n",
      "842 224\n",
      "842 224\n"
     ]
    },
    {
     "name": "stderr",
     "output_type": "stream",
     "text": [
      "/home/lukas/bin/anaconda3/lib/python3.6/site-packages/matplotlib/figure.py:2022: UserWarning: This figure includes Axes that are not compatible with tight_layout, so results might be incorrect.\n",
      "  warnings.warn(\"This figure includes Axes that are not compatible \"\n"
     ]
    },
    {
     "data": {
      "image/png": "[encoded data removed]",
      "text/plain": [
       "<matplotlib.figure.Figure at 0x7fe9f59225c0>"
      ]
     },
     "metadata": {},
     "output_type": "display_data"
    },
    {
     "data": {
      "image/png": "[encoded data removed]",
      "text/plain": [
       "<matplotlib.figure.Figure at 0x7fe9f560d2b0>"
      ]
     },
     "metadata": {},
     "output_type": "display_data"
    },
    {
     "data": {
      "image/png": "[encoded data removed]",
      "text/plain": [
       "<matplotlib.figure.Figure at 0x7fe9f3fba9e8>"
      ]
     },
     "metadata": {},
     "output_type": "display_data"
    }
   ],
   "source": [
    "def plot_bins(edges_x, edges_y, weights=None, weights_range=None,\n",
    "              fig=None, ax=None, xlim=[-15,15], ylim=[-15,15], offset=0):\n",
    "    nun_bins = len(edges_x) - 1\n",
    "    edge_x_sizes = np.ediff1d(edges_x)\n",
    "\n",
    "    if fig is None or ax is None:\n",
    "        fig, ax = plt.subplots(figsize=(20,20))        \n",
    "    \n",
    "    if weights is None:\n",
    "        color = lambda x: 'white'\n",
    "    else:\n",
    "        if weights_range is None:\n",
    "            vmin, vmax = weights.min(), weights.max()\n",
    "        else:\n",
    "            vmin, vmax = weights_range\n",
    "        norm = DivergentNormalize(vmin=vmin, vmax=vmax)\n",
    "        mapper = cm.ScalarMappable(norm=norm, cmap=cm.RdBu)\n",
    "        mapper.set_array(weights)\n",
    "        def color(x):\n",
    "            w = weights[x]\n",
    "            return mapper.to_rgba(w)\n",
    "        \n",
    "    for i, edge_x in enumerate(edges_x[:-1]):\n",
    "        cur_y_edges = edges_y[i, :]\n",
    "        cur_edge_y_sizes = np.ediff1d(cur_y_edges)    \n",
    "        for j, edge_y in enumerate(cur_y_edges[:-1]):\n",
    "            ax.add_patch(\n",
    "                patches.Rectangle(\n",
    "                (edge_x, edge_y),\n",
    "                edge_x_sizes[i],\n",
    "                cur_edge_y_sizes[j],\n",
    "                fill=True,\n",
    "                facecolor=color((i+offset)*num_bins + (j+offset)),\n",
    "                edgecolor='black',\n",
    "                linewidth=0.1))\n",
    "\n",
    "    # TODO: Don't hardcore!\n",
    "    ax.set_xlim(xlim)\n",
    "    ax.set_ylim(ylim)\n",
    "\n",
    "    ax.scatter(0,0, c='red', s=100, marker='x', zorder=10, linewidth=1)\n",
    "    ax.axis('off')\n",
    "    \n",
    "    if weights is not None:\n",
    "        return mapper # for colorbar \n",
    "\n",
    "edges_x_small = edges_x[1:-1]\n",
    "edges_y_small = edges_y[1:-1, 1:-1]\n",
    "weights_small = weights\n",
    "\n",
    "for target in ['margin', 'paper', 'beamer']:\n",
    "    fig, ax = plt.subplots(figsize=get_figsize(col_widths[target]))\n",
    "    mapper = plot_bins(edges_x_small,\n",
    "                       edges_y_small,\n",
    "                       weights=weights_small,\n",
    "                       fig=fig,\n",
    "                       ax=ax,\n",
    "                       xlim=[-3,3],\n",
    "                       ylim=[-3,3],\n",
    "                      offset=1,\n",
    "                      weights_range=(weights.min(), weights.max()))\n",
    "    #fig.set_size_inches(5,5)\n",
    "    fig.colorbar(mapper, shrink=0.7)\n",
    "    fig.set_tight_layout(True)\n",
    "    fig.savefig(f'../../figures/rf_occupancy_test_zoomed_{target}.pdf', transparent=True)"
   ]
  }
 ],
 "metadata": {
  "kernelspec": {
   "display_name": "Python 3",
   "language": "python",
   "name": "python3"
  },
  "language_info": {
   "codemirror_mode": {
    "name": "ipython",
    "version": 3
   },
   "file_extension": ".py",
   "mimetype": "text/x-python",
   "name": "python",
   "nbconvert_exporter": "python",
   "pygments_lexer": "ipython3",
   "version": "3.6.4"
  }
 },
 "nbformat": 4,
 "nbformat_minor": 2
}
