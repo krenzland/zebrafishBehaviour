{
 "cells": [
  {
   "cell_type": "code",
   "execution_count": 1,
   "metadata": {},
   "outputs": [],
   "source": [
    "%matplotlib inline\n",
    "import numpy as np\n",
    "import pandas as pd\n",
    "import matplotlib.pyplot as plt\n",
    "import seaborn as sns\n",
    "sns.set_style('whitegrid')\n",
    "\n",
    "import torch\n",
    "from torch.autograd import Variable\n",
    "from torch.utils import data\n",
    "from torch import nn\n",
    "from torch import optim\n",
    "from torch.utils import data\n",
    "\n",
    "device = torch.device('cuda:0' if torch.cuda.is_available() else 'cpu')\n",
    "\n",
    "import sys\n",
    "sys.path.append('..')#\n",
    "from util import add_angles, angle_between, angled_vector, sub_angles"
   ]
  },
  {
   "cell_type": "code",
   "execution_count": 2,
   "metadata": {},
   "outputs": [],
   "source": [
    "df_train = pd.read_csv( '../../data/processed/rf_train.csv')\n",
    "df_test = pd.read_csv( '../../data/processed/rf_test.csv')\n",
    "\n",
    "# Put dt column last for both dfs.\n",
    "# Otherwise reshaping will have weird results.\n",
    "cols = list(df_train.columns)\n",
    "cols.remove('dt')\n",
    "df_train = df_train[cols + ['dt']]\n",
    "df_test = df_test[cols + ['dt']]"
   ]
  },
  {
   "cell_type": "code",
   "execution_count": 3,
   "metadata": {},
   "outputs": [
    {
     "name": "stdout",
     "output_type": "stream",
     "text": [
      "0.12448713830576463 0.09587104013911792\n"
     ]
    }
   ],
   "source": [
    "y_labels = ['y_0', 'y_1']\n",
    "y_train_np = df_train.loc[df_train['dt'] == 0, y_labels].values\n",
    "y_test_np = df_test.loc[df_train['dt'] == 0, y_labels].values\n",
    "\n",
    "n_dts = len(np.unique(df_train['dt']))\n",
    "n_features = df_train.shape[1] - 3# # minus rows dt, y_0, y_1\n",
    "\n",
    "X_train_np = df_train.drop(labels=y_labels + ['dt'], axis=1).values\n",
    "X_test_np = df_test.drop(labels=y_labels + ['dt'], axis=1).values\n",
    "\n",
    "# Reshape from (dts*kicks, features) to (features, dts, kicks)\n",
    "X_train_np = X_train_np.reshape(X_train_np.shape[0]//n_dts, n_dts,n_features)\n",
    "X_test_np = X_test_np.reshape(X_test_np.shape[0]//n_dts, n_dts, n_features)\n",
    "\n",
    "# Transpose to (dts, kicks, features)\n",
    "X_train_np = X_train_np.transpose(1,0, 2)\n",
    "X_test_np = X_test_np.transpose(1,0, 2)\n",
    "\n",
    "# To Tensors\n",
    "X_train = torch.from_numpy(X_train_np).float()\n",
    "y_train = torch.from_numpy(y_train_np).float()\n",
    "\n",
    "X_test = torch.from_numpy(X_test_np).float()\n",
    "y_test = torch.from_numpy(y_test_np).float()\n",
    "\n",
    "# Sanity check if shape is correct.\n",
    "from sklearn.linear_model import RidgeCV\n",
    "linear = RidgeCV()\n",
    "linear.fit(X_train_np[-1,:,:], y_train_np)\n",
    "print(linear.score(X_train_np[0,:,:], y_train_np), linear.score(X_test_np[0,:,:], y_test_np))\n",
    "\n",
    "class LSTMDataset(data.Dataset):\n",
    "    def __init__(self, X, y):\n",
    "        super(data.Dataset, self).__init__\n",
    "        \n",
    "        self.X = X\n",
    "        self.y = y\n",
    "        \n",
    "    def __len__(self):\n",
    "        return self.X.shape[1]\n",
    "    \n",
    "    def __getitem__(self, idx):\n",
    "        return self.X[:, idx,:], self.y[idx,:]\n",
    "\n",
    "train_data = LSTMDataset(X_train, y_train)\n",
    "\n",
    "def collate(batch):\n",
    "    result = []\n",
    "    Xs = []\n",
    "    ys = []\n",
    "    for elem in batch:\n",
    "        X = elem[0]\n",
    "        y = elem[1]\n",
    "        Xs.append(X)\n",
    "        ys.append(y)\n",
    "    return torch.stack(Xs, dim=1), torch.stack(ys, dim=0)\n",
    "\n",
    "train_loader = data.DataLoader(train_data,\n",
    "                               batch_size=64, \n",
    "                               collate_fn=collate,\n",
    "                               pin_memory=True,\n",
    "                               num_workers=6)"
   ]
  },
  {
   "cell_type": "code",
   "execution_count": 4,
   "metadata": {
    "scrolled": false
   },
   "outputs": [],
   "source": [
    "def gaussian_distribution(y, mu, sigma):\n",
    "    norm_factor = 1.0/ (2*np.pi)**0.5\n",
    "\n",
    "    # make |mu|=K copies of y, subtract mu, divide by sigma\n",
    "    result = (y.contiguous().view(-1,1).expand_as(mu) - mu) * torch.reciprocal(sigma)\n",
    "    result = -0.5 * (result * result)\n",
    "    return (torch.exp(result) * torch.reciprocal(sigma)) * norm_factor\n",
    "\n",
    "def determinant(mat):\n",
    "    \"\"\"Compute determinant for 2x2 matrices\"\"\"\n",
    "    assert(mat.shape == (2,2))\n",
    "    return mat[0,0] * mat[1,1] - mat[0,1] * mat[1,0]\n",
    "\n",
    "def multivariate_gaussian(x, mu, sigma):\n",
    "    \"\"\"\n",
    "    X: (N, d)\n",
    "    mu: (N, K, d)\n",
    "    sigma: (N, K, d)\n",
    "    return: pdf (K, N, d)\n",
    "    \"\"\"\n",
    "    covar_inv = 1 / sigma # N, K, d\n",
    "    norm_factor = (2 * np.pi * sigma).prod(dim=2) ** -0.5 # N, K\n",
    "    K = mu.size(1)\n",
    "    x = x.unsqueeze(1).repeat(1,K,1) # N, K, d\n",
    "    dist = x - mu\n",
    "    # this line is very dubios, double check\n",
    "    exponent = -0.5 * (dist * covar_inv * dist).sum(dim=-1) # N, K\n",
    "\n",
    "    pdf = exponent.exp() * norm_factor\n",
    "    return pdf # N, K\n",
    "\n",
    "\n",
    "class MixtureLoss(nn.Module):\n",
    "    def __init__(self):\n",
    "        super().__init__()\n",
    "        \n",
    "    def forward(self, pi, sigma, mu, y):\n",
    "        # Compute log likelihood\n",
    "        ll = (multivariate_gaussian(y, mu, sigma)) * pi      \n",
    "\n",
    "        ll = ll.sum(dim=1)\n",
    "        ll =  -ll.log()      \n",
    "        return ll.mean()"
   ]
  },
  {
   "cell_type": "code",
   "execution_count": 5,
   "metadata": {},
   "outputs": [],
   "source": [
    "class MLPFrontend(nn.Module):\n",
    "    def __init__(self, n_features, n_hidden):\n",
    "        super().__init__()\n",
    "               \n",
    "        self.in_to_hidden = nn.Sequential(\n",
    "            nn.Linear(n_features, n_hidden),\n",
    "            nn.Tanh(),\n",
    "            nn.Dropout(p=0.1, inplace=False),\n",
    "            nn.Linear(n_hidden, n_hidden),\n",
    "            nn.Tanh()\n",
    "        )\n",
    "   \n",
    "        for m in self.modules():\n",
    "            if isinstance(m, nn.Linear):\n",
    "                nn.init.orthogonal_(m.weight, gain=5.0/3)\n",
    "\n",
    "    def forward(self, x): \n",
    "        x = x[0,:,:]\n",
    "        hidden = self.in_to_hidden(x)\n",
    "         \n",
    "        return hidden\n",
    " \n",
    "class RNNFrontend(nn.Module):\n",
    "    def __init__(self, n_features, n_hidden):\n",
    "        super().__init__()\n",
    "               \n",
    "        self.n_hidden = n_hidden\n",
    "        \n",
    "        self.in_to_hidden = nn.Sequential(\n",
    "            nn.Linear(n_features, n_hidden),\n",
    "            nn.Tanh(),\n",
    "            nn.Dropout(p=0.1, inplace=False),\n",
    "            nn.Linear(n_hidden, n_hidden),\n",
    "            nn.Tanh()\n",
    "        )\n",
    "        \n",
    "        # TODO: Set initial hidden state (how?)\n",
    "        self.in_to_hidden = nn.GRU(input_size=n_features,\n",
    "                                   hidden_size=n_hidden,\n",
    "                                   num_layers=1)\n",
    "   \n",
    "        for m in self.modules():\n",
    "            if isinstance(m, nn.Linear):\n",
    "                nn.init.orthogonal_(m.weight, gain=5.0/3)\n",
    "\n",
    "    def forward(self, x):\n",
    "        output, hn = self.in_to_hidden(x)\n",
    "        hn = hn.view(-1, self.n_hidden)\n",
    "        return hn\n",
    "\n",
    "# https://github.com/hardmaru/pytorch_notebooks/blob/master/mixture_density_networks.ipynb\n",
    "class MixtureRF(nn.Module):\n",
    "    def __init__(self, frontend, n_hidden, n_components):\n",
    "        super().__init__()\n",
    "        \n",
    "        self.n_components = n_components\n",
    "        \n",
    "        self.frontend = frontend\n",
    "        \n",
    "        n_output = 2\n",
    "        n_params = n_components * n_output\n",
    "        \n",
    "        # Each vector is modelled as mixture of gaussians with diag. covariance \n",
    "        self.z_pi = nn.Linear(n_hidden, n_components)\n",
    "        self.z_sigma = nn.Linear(n_hidden, n_params)\n",
    "        self.z_mu = nn.Linear(n_hidden, n_params)\n",
    "        \n",
    "        for m in self.modules():\n",
    "            if isinstance(m, nn.Linear):\n",
    "                nn.init.orthogonal_(m.weight, gain=5.0/3)\n",
    "\n",
    "    def forward(self, x):\n",
    "        batch_size = x.shape[1]\n",
    "        \n",
    "        hidden = self.frontend(x)\n",
    "         \n",
    "        pi = self.z_pi(hidden).view(batch_size, self.n_components)\n",
    "        pi = nn.functional.softmax(self.z_pi(hidden), 1)\n",
    "        \n",
    "        # sigma: variances of components, need to be > 0\n",
    "        # 10e-6 added for numerical stability\n",
    "        # TODO: Compare exp vs softmax!\n",
    "        # sigma = torch.exp(z_sigma(z_h)) + 10e-6\n",
    "        sigma = nn.functional.softplus(self.z_sigma(hidden)) + 10e-6\n",
    "        sigma = sigma.view(batch_size, self.n_components, -1)\n",
    "        \n",
    "        # mu: mean, can be arbitrary\n",
    "        mu = self.z_mu(hidden).view(batch_size, self.n_components, -1)         \n",
    "\n",
    "        return [pi, sigma, mu]"
   ]
  },
  {
   "cell_type": "code",
   "execution_count": 6,
   "metadata": {},
   "outputs": [],
   "source": [
    "n_hidden = 60\n",
    "rnn = RNNFrontend(n_features=n_features, n_hidden=n_hidden)\n",
    "\n",
    "mlp = MLPFrontend(n_features=n_features, n_hidden = n_hidden)\n",
    "model = MixtureRF(frontend=rnn, n_hidden=n_hidden, n_components=2).to(device)\n",
    "\n",
    "optimizer = optim.Adam(model.parameters(), weight_decay=0)\n",
    "#criterion = nn.MSELoss().to(device)\n",
    "criterion = MixtureLoss().cuda().to(device)"
   ]
  },
  {
   "cell_type": "code",
   "execution_count": 7,
   "metadata": {
    "scrolled": true
   },
   "outputs": [
    {
     "name": "stdout",
     "output_type": "stream",
     "text": [
      "629.4154663085938\n",
      "552.1069946289062\n",
      "536.4133911132812\n",
      "524.63916015625\n",
      "513.9100341796875\n",
      "502.66107177734375\n",
      "490.8296813964844\n",
      "478.5425109863281\n",
      "465.53082275390625\n",
      "452.3558044433594\n"
     ]
    }
   ],
   "source": [
    "for it in range(100):\n",
    "    loss_sum = 0.0\n",
    "    for batch in train_loader:\n",
    "        x, y = [b.to(device) for b in batch]\n",
    "\n",
    "        optimizer.zero_grad()\n",
    "        \n",
    "        out = model(x)\n",
    "        if True or isinstance(model, MixtureRF):\n",
    "            pi, sigma, mu = out\n",
    "            loss = criterion(pi, sigma, mu, y)\n",
    "        else:\n",
    "            loss = criterion(out, y)\n",
    "        loss.backward()\n",
    "        optimizer.step()\n",
    "\n",
    "        loss_sum += loss\n",
    "\n",
    "    if (it % 10) == 0:\n",
    "        print(loss_sum.item())\n",
    "        \n",
    "if False and not isinstance(model, MixtureRF):\n",
    "    with torch.no_grad():\n",
    "        y_hat = model(X_test.to(device)).unsqueeze(0).data.cpu().numpy().reshape(-1,2)\n",
    "        #print(spearmanr(y_test_np[:,0], y_hat[:,0]), spearmanr(y_test_np[:,1], y_hat[:,1]))\n",
    "        y_hat = (np.apply_along_axis(lambda x: angle_between(np.array([1,0]), x), arr=y_hat, axis=1))\n",
    "        y = (np.apply_along_axis(lambda x: angle_between(np.array([1,0]), x), arr=y_test_np, axis=1))\n",
    "        diff = np.abs(sub_angles(y_hat, y))\n",
    "def angle_mean(x):\n",
    "    a = np.sum(np.sin(x))\n",
    "    b = np.sum(np.cos(x))\n",
    "    return np.arctan2(a, b)\n",
    "    np.rad2deg(angle_mean(diff)), np.rad2deg(angle_mean(y))"
   ]
  },
  {
   "cell_type": "code",
   "execution_count": null,
   "metadata": {},
   "outputs": [],
   "source": []
  },
  {
   "cell_type": "code",
   "execution_count": 8,
   "metadata": {},
   "outputs": [
    {
     "data": {
      "text/plain": [
       "(0.2364141450193169, -0.03485728874216065)"
      ]
     },
     "execution_count": 8,
     "metadata": {},
     "output_type": "execute_result"
    }
   ],
   "source": [
    "pis, _, mus = [o.cpu().detach().numpy() for o in model(X_test.to(device))]\n",
    "y_test_hat = (np.stack((pis, pis), axis=-1) *  mus).sum(axis=1)\n",
    "\n",
    "pis, _, mus = [o.cpu().detach().numpy() for o in model(X_train.to(device))]\n",
    "y_train_hat = (np.stack((pis, pis), axis=-1) *  mus).sum(axis=1)\n",
    "\n",
    "from sklearn.metrics import r2_score\n",
    "r2_score(y_train_np, y_train_hat), r2_score(y_test_np, y_test_hat)"
   ]
  },
  {
   "cell_type": "code",
   "execution_count": 9,
   "metadata": {},
   "outputs": [
    {
     "name": "stdout",
     "output_type": "stream",
     "text": [
      "Pi:\t  [0.7968777  0.20312233] \n",
      "Sigma:\t  [[0.14958127 0.20833498]\n",
      " [1.2879412  1.0144893 ]] \n",
      "Mu:\t [[1.5549463  0.11109991]\n",
      " [2.0148966  0.3661785 ]]\n",
      "(3000, 2)\n"
     ]
    },
    {
     "data": {
      "text/plain": [
       "<matplotlib.legend.Legend at 0x7f3dce7e3898>"
      ]
     },
     "execution_count": 9,
     "metadata": {},
     "output_type": "execute_result"
    },
    {
     "data": {
      "image/png": "[encoded data removed]",
      "text/plain": [
       "<matplotlib.figure.Figure at 0x7f3decbe32b0>"
      ]
     },
     "metadata": {},
     "output_type": "display_data"
    },
    {
     "data": {
      "image/png": "[encoded data removed]",
      "text/plain": [
       "<matplotlib.figure.Figure at 0x7f3dec06b908>"
      ]
     },
     "metadata": {},
     "output_type": "display_data"
    },
    {
     "data": {
      "image/png": "[encoded data removed]",
      "text/plain": [
       "<matplotlib.figure.Figure at 0x7f3dec013f28>"
      ]
     },
     "metadata": {},
     "output_type": "display_data"
    }
   ],
   "source": [
    "sns.set_style('whitegrid')\n",
    "\n",
    "n_samples = 1000\n",
    "idx = np.random.randint(low=0,\n",
    "                        high=len(y_test_np))\n",
    "#import random\n",
    "#idx = random.choice(np.where(X_test_np[:,10] == 1)[0])\n",
    "with torch.no_grad():\n",
    "    out = model(X_test[:,idx,:].unsqueeze(0).to(device))\n",
    "\n",
    "to_numpy = lambda o: np.repeat(o.data.cpu().numpy(), n_samples, axis=0)\n",
    "pi, sigma, mu = [to_numpy(o) for o in out]\n",
    "print('Pi:\\t ', pi[0,:],\n",
    "      '\\nSigma:\\t ', sigma[0,:,:],\n",
    "     '\\nMu:\\t', mu[0,:,:])\n",
    "\n",
    "def gumbel_sample(x, axis=1):\n",
    "    z = np.random.gumbel(loc=0, scale=1, size=x.shape)\n",
    "    return (np.log(x) + z).argmax(axis=axis)\n",
    "\n",
    "def mixture_sample(pi, sigma, mu):\n",
    "    component = gumbel_sample(pi)\n",
    "    def idx_col(arr, cols):\n",
    "        return arr[np.arange(len(arr)), cols]\n",
    "    sigma = idx_col(sigma, component)\n",
    "    mu = idx_col(mu, component)\n",
    "    #print(mu[component,:])\n",
    "    return np.random.normal(loc=mu, scale=sigma)\n",
    "\n",
    "samples = mixture_sample(pi, sigma, mu)\n",
    "print(samples.shape)\n",
    "vectors = samples\n",
    "angles = np.rad2deg(np.apply_along_axis(lambda x: angle_between(np.array([1,0]), x), arr=vectors, axis=1))\n",
    "\n",
    "vector_hat = vectors.mean(axis=0)\n",
    "vector_gt = y_test_np[idx]\n",
    "angle_gt = np.rad2deg(angle_between(np.array([1,0]), vector_gt))\n",
    "\n",
    "kick_length_hat = np.linalg.norm(vectors, axis=1)\n",
    "kick_length_gt = np.linalg.norm(y_test_np[idx,:])\n",
    "\n",
    "def get_bounds(a,b, window):\n",
    "    l = min(a,b) - window\n",
    "    u = max(a,b) + window\n",
    "    return l,u\n",
    "        \n",
    "fig, ax = plt.subplots()\n",
    "sns.kdeplot(samples[:,0], samples[:,1], ax=ax)\n",
    "mu_x, mu_y = np.hsplit(mu[0], [1])\n",
    "ax.scatter(mu_x, mu_y, c='red', marker='x', s=100, linewidths=4, label='component')\n",
    "ax.scatter(vector_gt[0], vector_gt[1], c='green', marker='x', s=100, linewidths=4, label='gt')\n",
    "ax.scatter(vector_hat[0], vector_hat[1], c='blue', marker='x', s=100, linewidths=4, label='pred')\n",
    "\n",
    "ax.legend()\n",
    "\n",
    "b_x = np.percentile(a=samples[:,0], q=[1,98])\n",
    "b_y = np.percentile(a=samples[:,1], q=[1,98])\n",
    "ax.set_xlim(b_x)\n",
    "ax.set_ylim(b_y)\n",
    "\n",
    "fig, ax = plt.subplots()\n",
    "sns.kdeplot(angles, ax=ax)\n",
    "pred, gt = angles.mean(), angle_gt\n",
    "ax.axvline(x=pred, label='pred', c='red')\n",
    "ax.axvline(x=gt, label='gt', c='green')\n",
    "#ax.set_xlim(get_bounds(pred, gt, 20))\n",
    "ax.legend()\n",
    "\n",
    "fig, ax = plt.subplots()\n",
    "sns.kdeplot(kick_length_hat, ax=ax)\n",
    "pred, gt = kick_length_hat.mean(), kick_length_gt\n",
    "ax.axvline(x=pred, label='pred', c='red')\n",
    "ax.axvline(x=gt, label='gt', c='green')\n",
    "ax.set_xlim(get_bounds(pred, gt, 1))\n",
    "ax.legend()"
   ]
  },
  {
   "cell_type": "code",
   "execution_count": 10,
   "metadata": {},
   "outputs": [
    {
     "name": "stdout",
     "output_type": "stream",
     "text": [
      "0.7968777 [0.14958127 0.20833498] [1.5549463  0.11109991]\n",
      "0.20312233 [1.2879412 1.0144893] [2.0148966 0.3661785]\n"
     ]
    },
    {
     "data": {
      "text/plain": [
       "(-4, 4)"
      ]
     },
     "execution_count": 10,
     "metadata": {},
     "output_type": "execute_result"
    },
    {
     "data": {
      "image/png": "[encoded data removed]",
      "text/plain": [
       "<matplotlib.figure.Figure at 0x7f3dce6da2b0>"
      ]
     },
     "metadata": {},
     "output_type": "display_data"
    }
   ],
   "source": [
    "sns.set_style('white')\n",
    "from scipy import stats\n",
    "from matplotlib import colors\n",
    "\n",
    "x = np.linspace(-5,5, num=100)\n",
    "y = np.linspace(-5, 5, num=100)\n",
    "X, Y = np.meshgrid(x,y)\n",
    "XX = np.array([X.ravel(), Y.ravel()]).T\n",
    "\n",
    "Z = np.zeros_like(X)*1.0\n",
    "for p, s, m in zip(pi[0], sigma[0], mu[0]):\n",
    "    print(p,s,m)\n",
    "    gaussian = stats.multivariate_normal(mean=m, cov=np.diag(s))\n",
    "    ll = gaussian.pdf(XX)\n",
    "    ll = ll.reshape(X.shape)\n",
    "    Z +=  p * ll\n",
    "Z = -np.log(Z)\n",
    "# todo: fix\n",
    "Z[Z < 0] = 1e-6\n",
    "\n",
    "fig, ax = plt.subplots(figsize=(10,10))\n",
    "cs = ax.contourf(X,Y,Z, levels=np.logspace(0,2, num=15), norm=colors.LogNorm(vmin=1.0, vmax=1000))\n",
    "fig.colorbar(cs, shrink=0.8, extend='both')\n",
    "mu_x, mu_y = np.hsplit(mu[0], [1])\n",
    "ax.scatter(mu_x, mu_y, c='green', marker='x', s=200, zorder=10, linewidth=4, label='component')\n",
    "ax.scatter(vector_gt[0], vector_gt[1], c='blue', marker='x', s=200, zorder=10, linewidth=4, label='gt')\n",
    "ax.legend(frameon=True)\n",
    "ax.set_xlim(-4,4)\n",
    "ax.set_ylim(-4,4)\n"
   ]
  },
  {
   "cell_type": "code",
   "execution_count": null,
   "metadata": {},
   "outputs": [],
   "source": []
  }
 ],
 "metadata": {
  "kernelspec": {
   "display_name": "Python 3",
   "language": "python",
   "name": "python3"
  },
  "language_info": {
   "codemirror_mode": {
    "name": "ipython",
    "version": 3
   },
   "file_extension": ".py",
   "mimetype": "text/x-python",
   "name": "python",
   "nbconvert_exporter": "python",
   "pygments_lexer": "ipython3",
   "version": "3.6.4"
  }
 },
 "nbformat": 4,
 "nbformat_minor": 2
}
