{
 "cells": [
  {
   "cell_type": "code",
   "execution_count": 1,
   "metadata": {
    "collapsed": true
   },
   "outputs": [],
   "source": [
    "%matplotlib inline\n",
    "import numpy as np\n",
    "import pandas as pd\n",
    "import matplotlib.pyplot as plt\n",
    "from numba import jit"
   ]
  },
  {
   "cell_type": "code",
   "execution_count": 2,
   "metadata": {},
   "outputs": [
    {
     "data": {
      "text/html": [
       "<div>\n",
       "<style>\n",
       "    .dataframe thead tr:only-child th {\n",
       "        text-align: right;\n",
       "    }\n",
       "\n",
       "    .dataframe thead th {\n",
       "        text-align: left;\n",
       "    }\n",
       "\n",
       "    .dataframe tbody tr th {\n",
       "        vertical-align: top;\n",
       "    }\n",
       "</style>\n",
       "<table border=\"1\" class=\"dataframe\">\n",
       "  <thead>\n",
       "    <tr style=\"text-align: right;\">\n",
       "      <th></th>\n",
       "      <th>heading_change</th>\n",
       "      <th>duration</th>\n",
       "      <th>length</th>\n",
       "      <th>max_vel</th>\n",
       "      <th>neighbor_distance</th>\n",
       "      <th>neighbor_angle</th>\n",
       "      <th>viewing_angle_ltf</th>\n",
       "      <th>viewing_angle_ftl</th>\n",
       "      <th>rel_orientation</th>\n",
       "      <th>wall_distance_f0</th>\n",
       "      <th>wall_angle_f0</th>\n",
       "      <th>wall_distance_f1</th>\n",
       "      <th>wall_angle_f1</th>\n",
       "    </tr>\n",
       "  </thead>\n",
       "  <tbody>\n",
       "    <tr>\n",
       "      <th>count</th>\n",
       "      <td>29561.000000</td>\n",
       "      <td>29561.000000</td>\n",
       "      <td>29561.000000</td>\n",
       "      <td>29561.000000</td>\n",
       "      <td>29561.000000</td>\n",
       "      <td>29561.000000</td>\n",
       "      <td>29561.000000</td>\n",
       "      <td>29561.000000</td>\n",
       "      <td>29561.000000</td>\n",
       "      <td>29561.000000</td>\n",
       "      <td>29561.000000</td>\n",
       "      <td>29561.000000</td>\n",
       "      <td>29561.000000</td>\n",
       "    </tr>\n",
       "    <tr>\n",
       "      <th>mean</th>\n",
       "      <td>-0.066669</td>\n",
       "      <td>0.472611</td>\n",
       "      <td>0.878033</td>\n",
       "      <td>3.854405</td>\n",
       "      <td>8.975708</td>\n",
       "      <td>0.014480</td>\n",
       "      <td>-0.206967</td>\n",
       "      <td>-0.158974</td>\n",
       "      <td>0.160159</td>\n",
       "      <td>3.909949</td>\n",
       "      <td>-0.994393</td>\n",
       "      <td>3.963407</td>\n",
       "      <td>-0.990521</td>\n",
       "    </tr>\n",
       "    <tr>\n",
       "      <th>std</th>\n",
       "      <td>0.656192</td>\n",
       "      <td>0.158527</td>\n",
       "      <td>0.485867</td>\n",
       "      <td>1.447508</td>\n",
       "      <td>6.832681</td>\n",
       "      <td>1.828429</td>\n",
       "      <td>2.210177</td>\n",
       "      <td>1.277022</td>\n",
       "      <td>1.523186</td>\n",
       "      <td>2.821973</td>\n",
       "      <td>1.464453</td>\n",
       "      <td>2.838830</td>\n",
       "      <td>1.501769</td>\n",
       "    </tr>\n",
       "    <tr>\n",
       "      <th>min</th>\n",
       "      <td>-3.133960</td>\n",
       "      <td>0.019161</td>\n",
       "      <td>0.000418</td>\n",
       "      <td>0.463552</td>\n",
       "      <td>0.229027</td>\n",
       "      <td>-3.140932</td>\n",
       "      <td>-3.141529</td>\n",
       "      <td>-3.104660</td>\n",
       "      <td>-3.141510</td>\n",
       "      <td>0.009104</td>\n",
       "      <td>-3.141475</td>\n",
       "      <td>0.015685</td>\n",
       "      <td>-3.140862</td>\n",
       "    </tr>\n",
       "    <tr>\n",
       "      <th>25%</th>\n",
       "      <td>-0.394296</td>\n",
       "      <td>0.364052</td>\n",
       "      <td>0.512356</td>\n",
       "      <td>2.853653</td>\n",
       "      <td>2.927745</td>\n",
       "      <td>-1.535121</td>\n",
       "      <td>-2.267124</td>\n",
       "      <td>-1.134067</td>\n",
       "      <td>-0.773413</td>\n",
       "      <td>1.494145</td>\n",
       "      <td>-1.860386</td>\n",
       "      <td>1.540903</td>\n",
       "      <td>-1.892599</td>\n",
       "    </tr>\n",
       "    <tr>\n",
       "      <th>50%</th>\n",
       "      <td>-0.051024</td>\n",
       "      <td>0.431115</td>\n",
       "      <td>0.850953</td>\n",
       "      <td>3.877972</td>\n",
       "      <td>6.764342</td>\n",
       "      <td>-0.035883</td>\n",
       "      <td>-1.085294</td>\n",
       "      <td>-0.239530</td>\n",
       "      <td>0.198001</td>\n",
       "      <td>3.510908</td>\n",
       "      <td>-1.486718</td>\n",
       "      <td>3.577114</td>\n",
       "      <td>-1.502867</td>\n",
       "    </tr>\n",
       "    <tr>\n",
       "      <th>75%</th>\n",
       "      <td>0.240809</td>\n",
       "      <td>0.546078</td>\n",
       "      <td>1.169651</td>\n",
       "      <td>4.752432</td>\n",
       "      <td>14.329340</td>\n",
       "      <td>1.637108</td>\n",
       "      <td>2.121685</td>\n",
       "      <td>0.796077</td>\n",
       "      <td>1.225442</td>\n",
       "      <td>5.696184</td>\n",
       "      <td>-0.731896</td>\n",
       "      <td>5.754911</td>\n",
       "      <td>-0.683513</td>\n",
       "    </tr>\n",
       "    <tr>\n",
       "      <th>max</th>\n",
       "      <td>3.136400</td>\n",
       "      <td>1.619075</td>\n",
       "      <td>8.213735</td>\n",
       "      <td>14.221034</td>\n",
       "      <td>27.324529</td>\n",
       "      <td>3.141113</td>\n",
       "      <td>3.141590</td>\n",
       "      <td>3.125924</td>\n",
       "      <td>3.141578</td>\n",
       "      <td>13.947776</td>\n",
       "      <td>3.141431</td>\n",
       "      <td>13.872844</td>\n",
       "      <td>3.140876</td>\n",
       "    </tr>\n",
       "  </tbody>\n",
       "</table>\n",
       "</div>"
      ],
      "text/plain": [
       "       heading_change      duration        length       max_vel  \\\n",
       "count    29561.000000  29561.000000  29561.000000  29561.000000   \n",
       "mean        -0.066669      0.472611      0.878033      3.854405   \n",
       "std          0.656192      0.158527      0.485867      1.447508   \n",
       "min         -3.133960      0.019161      0.000418      0.463552   \n",
       "25%         -0.394296      0.364052      0.512356      2.853653   \n",
       "50%         -0.051024      0.431115      0.850953      3.877972   \n",
       "75%          0.240809      0.546078      1.169651      4.752432   \n",
       "max          3.136400      1.619075      8.213735     14.221034   \n",
       "\n",
       "       neighbor_distance  neighbor_angle  viewing_angle_ltf  \\\n",
       "count       29561.000000    29561.000000       29561.000000   \n",
       "mean            8.975708        0.014480          -0.206967   \n",
       "std             6.832681        1.828429           2.210177   \n",
       "min             0.229027       -3.140932          -3.141529   \n",
       "25%             2.927745       -1.535121          -2.267124   \n",
       "50%             6.764342       -0.035883          -1.085294   \n",
       "75%            14.329340        1.637108           2.121685   \n",
       "max            27.324529        3.141113           3.141590   \n",
       "\n",
       "       viewing_angle_ftl  rel_orientation  wall_distance_f0  wall_angle_f0  \\\n",
       "count       29561.000000     29561.000000      29561.000000   29561.000000   \n",
       "mean           -0.158974         0.160159          3.909949      -0.994393   \n",
       "std             1.277022         1.523186          2.821973       1.464453   \n",
       "min            -3.104660        -3.141510          0.009104      -3.141475   \n",
       "25%            -1.134067        -0.773413          1.494145      -1.860386   \n",
       "50%            -0.239530         0.198001          3.510908      -1.486718   \n",
       "75%             0.796077         1.225442          5.696184      -0.731896   \n",
       "max             3.125924         3.141578         13.947776       3.141431   \n",
       "\n",
       "       wall_distance_f1  wall_angle_f1  \n",
       "count      29561.000000   29561.000000  \n",
       "mean           3.963407      -0.990521  \n",
       "std            2.838830       1.501769  \n",
       "min            0.015685      -3.140862  \n",
       "25%            1.540903      -1.892599  \n",
       "50%            3.577114      -1.502867  \n",
       "75%            5.754911      -0.683513  \n",
       "max           13.872844       3.140876  "
      ]
     },
     "execution_count": 2,
     "metadata": {},
     "output_type": "execute_result"
    }
   ],
   "source": [
    "df = pd.read_csv(\"../../data/processed/kicks26.01.2017.csv\")\n",
    "df = df.drop(df[df['duration'] < 0.01].index) # Quickly drop weird kicks.\n",
    "#df = df.sample(frac=0.1, random_state=np.random.RandomState(42)) # First work with a fraction of data\n",
    "df.index = np.arange(0, len(df))\n",
    "df.describe()"
   ]
  },
  {
   "cell_type": "code",
   "execution_count": 3,
   "metadata": {},
   "outputs": [],
   "source": [
    "heading_change = df['heading_change'].values\n",
    "wall_distance = df['wall_distance_f0'].values\n",
    "wall_angle = df['wall_angle_f0'].values\n",
    "\n",
    "# Discretize into I x J boxes\n",
    "I = 40 # 40\n",
    "J = 30 # 30\n",
    "WALL_RADIUS = 14\n",
    "boxlim_f = np.linspace(0, WALL_RADIUS, I)\n",
    "boxlim_O = np.linspace(-np.pi, np.pi, J)\n",
    "\n",
    "f = np.zeros(I )# 0... radius=14\n",
    "O = np.zeros(J) # -pi ... pi\n",
    "\n"
   ]
  },
  {
   "cell_type": "code",
   "execution_count": 4,
   "metadata": {},
   "outputs": [
    {
     "name": "stderr",
     "output_type": "stream",
     "text": [
      "/home/lukas/bin/anaconda3/lib/python3.6/site-packages/ipykernel_launcher.py:17: RuntimeWarning: invalid value encountered in true_divide\n"
     ]
    }
   ],
   "source": [
    "boxcount = np.zeros((I,J)) # dirty hack\n",
    "boxheading = np.zeros((I,J))\n",
    "for i in range(0, len(wall_distance)):\n",
    "    box_f = np.digitize(wall_distance[i], boxlim_f, right=False)\n",
    "    box_O = np.digitize(wall_angle[i], boxlim_O, right=False)\n",
    "    boxcount[box_f, box_O] += 1\n",
    "    boxheading[box_f, box_O] += heading_change[i]\n",
    "    \n",
    "    # Add inverse angle as well\n",
    "    box_f = np.digitize(wall_distance[i], boxlim_f, right=False)\n",
    "    box_O = np.digitize(-wall_angle[i], boxlim_O, right=False)\n",
    "    boxcount[box_f, box_O] += 1\n",
    "    boxheading[box_f, box_O] += -heading_change[i]\n",
    "    \n",
    "# No entry in box -> average heading is zero!\n",
    "with np.errstate(divide='ignore'):\n",
    "    boxheading = np.divide(boxheading, boxcount)\n",
    "boxheading[np.isnan(boxheading)] = 0\n"
   ]
  },
  {
   "cell_type": "code",
   "execution_count": 42,
   "metadata": {},
   "outputs": [
    {
     "data": {
      "text/plain": [
       "[<matplotlib.lines.Line2D at 0x7f020168dc88>]"
      ]
     },
     "execution_count": 42,
     "metadata": {},
     "output_type": "execute_result"
    },
    {
     "data": {
      "image/png": "[encoded data removed]",
      "text/plain": [
       "<matplotlib.figure.Figure at 0x7f02017f8c88>"
      ]
     },
     "metadata": {},
     "output_type": "display_data"
    },
    {
     "data": {
      "image/png": "[encoded data removed]",
      "text/plain": [
       "<matplotlib.figure.Figure at 0x7f02017f8b70>"
      ]
     },
     "metadata": {},
     "output_type": "display_data"
    }
   ],
   "source": [
    "# Init f and O with 'reasonable' values\n",
    "f = np.exp(-(boxlim_f/(0.36)**2))\n",
    "#f = np.zeros(boxlim_f.shape) + 0.5\n",
    "#O = np.sin(boxlim_O)# odd function\n",
    "O = np.zeros(boxlim_O.shape) + 0.01\n",
    "plt.plot(range(I), f)\n",
    "plt.figure()\n",
    "plt.plot(range(0,J), O)"
   ]
  },
  {
   "cell_type": "code",
   "execution_count": 43,
   "metadata": {
    "collapsed": true
   },
   "outputs": [],
   "source": [
    "# Fitting\n",
    "def step(f, O):\n",
    "\n",
    "    damping = 0.25\n",
    "    for i in range(0, I):\n",
    "        newF = np.sum(boxcount[i] * boxheading[i] * O) / np.sum(boxcount[i] * O**2)\n",
    "        if np.isnan(newF):\n",
    "            #print(i)\n",
    "            newF = f[i]\n",
    "        #print(newF)\n",
    "        f[i] = (1 - damping) * f[i] + damping * newF\n",
    "    \n",
    "    for j in range(0, J):\n",
    "        newO = np.sum(boxcount[:,j] * boxheading[:,j] * f) / np.sum(boxcount[:,j] * f**2)\n",
    "        if np.isnan(newO):\n",
    "            #print(j)\n",
    "            newO = O[j]\n",
    "        O[j] = (1 - damping) * O[j] + damping * newO\n",
    "        \n",
    "    # Normalize J s.t. its average square is one\n",
    "    norm = np.sum(np.square(O)) * J\n",
    "    O = (O / norm)\n",
    "    f = f * norm\n",
    "    #f /= J\n",
    "   # O *= J\n",
    "    return f, O"
   ]
  },
  {
   "cell_type": "code",
   "execution_count": 46,
   "metadata": {},
   "outputs": [
    {
     "name": "stderr",
     "output_type": "stream",
     "text": [
      "/home/lukas/bin/anaconda3/lib/python3.6/site-packages/ipykernel_launcher.py:6: RuntimeWarning: invalid value encountered in double_scalars\n",
      "  \n",
      "/home/lukas/bin/anaconda3/lib/python3.6/site-packages/ipykernel_launcher.py:14: RuntimeWarning: invalid value encountered in double_scalars\n",
      "  \n"
     ]
    },
    {
     "data": {
      "text/plain": [
       "<matplotlib.lines.Line2D at 0x7f0201ba7240>"
      ]
     },
     "execution_count": 46,
     "metadata": {},
     "output_type": "execute_result"
    },
    {
     "data": {
      "image/png": "[encoded data removed]",
      "text/plain": [
       "<matplotlib.figure.Figure at 0x7f0201695dd8>"
      ]
     },
     "metadata": {},
     "output_type": "display_data"
    },
    {
     "data": {
      "image/png": "[encoded data removed]",
      "text/plain": [
       "<matplotlib.figure.Figure at 0x7f0201b58630>"
      ]
     },
     "metadata": {},
     "output_type": "display_data"
    }
   ],
   "source": [
    "for i in range(0, 100):\n",
    "    f, O = step(f, O)\n",
    "plt.plot(boxlim_f[0:I-2]/0.64, f[0:I-2])\n",
    "plt.axhline(0, linestyle='dotted')\n",
    "plt.figure()\n",
    "plt.plot(np.rad2deg(boxlim_O[0:]), O[0:])\n",
    "#plt.plot(np.rad2deg(boxlim_O), np.sin(1 + 0.7 * np.cos(2 * boxlim_O)))\n",
    "plt.axhline(0, linestyle='dotted')"
   ]
  },
  {
   "cell_type": "code",
   "execution_count": 36,
   "metadata": {},
   "outputs": [
    {
     "data": {
      "text/plain": [
       "[<matplotlib.lines.Line2D at 0x7f0201b67ba8>]"
      ]
     },
     "execution_count": 36,
     "metadata": {},
     "output_type": "execute_result"
    },
    {
     "data": {
      "image/png": "[encoded data removed]",
      "text/plain": [
       "<matplotlib.figure.Figure at 0x7f0201b67c18>"
      ]
     },
     "metadata": {},
     "output_type": "display_data"
    }
   ],
   "source": [
    "plt.plot(np.rad2deg(boxlim_O[0:16]), O[0:16])\n",
    "plt.plot(np.rad2deg(boxlim_O[14:30]), -O[::-1][0:16])"
   ]
  },
  {
   "cell_type": "code",
   "execution_count": 31,
   "metadata": {},
   "outputs": [
    {
     "data": {
      "text/plain": [
       "array([  8.30968407e-01,   1.12615098e+00,   1.87581732e+00,\n",
       "         1.44225402e+00,   1.23440976e+00,   1.16619950e+00,\n",
       "         7.41594476e-01,   8.89294743e-02,  -3.85930813e-01,\n",
       "        -6.36325595e-01,  -8.26878984e-01,  -1.14341285e+00,\n",
       "        -1.00984112e+00,   6.70644584e-02,   1.51690659e-39])"
      ]
     },
     "execution_count": 31,
     "metadata": {},
     "output_type": "execute_result"
    }
   ],
   "source": [
    "O[::-1][0:15]"
   ]
  },
  {
   "cell_type": "code",
   "execution_count": 28,
   "metadata": {},
   "outputs": [
    {
     "data": {
      "text/plain": [
       "array([ -5.20821110e-17,  -8.30968407e-01,  -1.12615098e+00,\n",
       "        -1.87581732e+00,  -1.44225402e+00,  -1.23440976e+00,\n",
       "        -1.16619950e+00,  -7.41594476e-01,  -8.89294743e-02,\n",
       "         3.85930813e-01])"
      ]
     },
     "execution_count": 28,
     "metadata": {},
     "output_type": "execute_result"
    }
   ],
   "source": [
    "O[0:10]*1.0"
   ]
  },
  {
   "cell_type": "code",
   "execution_count": null,
   "metadata": {
    "collapsed": true
   },
   "outputs": [],
   "source": []
  }
 ],
 "metadata": {
  "kernelspec": {
   "display_name": "Python 3",
   "language": "python",
   "name": "python3"
  },
  "language_info": {
   "codemirror_mode": {
    "name": "ipython",
    "version": 3
   },
   "file_extension": ".py",
   "mimetype": "text/x-python",
   "name": "python",
   "nbconvert_exporter": "python",
   "pygments_lexer": "ipython3",
   "version": "3.6.1"
  }
 },
 "nbformat": 4,
 "nbformat_minor": 2
}
